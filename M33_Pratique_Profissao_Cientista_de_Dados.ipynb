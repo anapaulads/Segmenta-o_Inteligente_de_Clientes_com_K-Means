{
 "cells": [
  {
   "cell_type": "markdown",
   "metadata": {
    "id": "y2fzPjyMc9N-"
   },
   "source": [
    "# **Segmentação Inteligente de Clientes com K-Means: Aplicação Prática de Modelos Avançados**"
   ]
  },
  {
   "cell_type": "markdown",
   "metadata": {},
   "source": [
    "**Introdução**\n",
    "\n",
    "Em um cenário cada vez mais competitivo, compreender o perfil e o comportamento dos clientes é fundamental para direcionar estratégias de negócio de forma assertiva. A capacidade de agrupar consumidores com características semelhantes permite personalizar ofertas, otimizar campanhas de marketing e aumentar a fidelização.  \n",
    "\n",
    "Neste projeto, será aplicado um processo completo de ciência de dados para segmentar clientes com base em seus atributos, utilizando técnicas de análise exploratória, tratamento de dados e modelagem não supervisionada. \n",
    "\n",
    "O foco será o algoritmo K-Means, amplamente reconhecido por sua eficiência na identificação de padrões e na criação de agrupamentos coesos."
   ]
  },
  {
   "cell_type": "markdown",
   "metadata": {
    "id": "eVGXJqYzdJg_"
   },
   "source": [
    "**Objetivo do Projeto**\n",
    "\n",
    "O objetivo deste projeto é aplicar técnicas avançadas de ciência de dados para realizar a segmentação de clientes por meio do algoritmo de clustering K-Means.\n",
    "\n",
    "O trabalho abrange desde a exploração e pré-processamento dos dados até a implementação e avaliação do modelo, consolidando conhecimentos adquiridos em análise exploratória, transformação de variáveis e modelagem não supervisionada.\n",
    "\n",
    "O resultado esperado é identificar grupos com características semelhantes, permitindo insights valiosos para estratégias de marketing, personalização de ofertas e melhoria da experiência do cliente."
   ]
  },
  {
   "cell_type": "markdown",
   "metadata": {
    "id": "FSfCUC1zdnDR"
   },
   "source": [
    "**Justificativa**\n",
    "\n",
    "A segmentação de clientes é uma ferramenta essencial para empresas que desejam compreender melhor seu público e direcionar suas ações de forma mais eficaz.\n",
    "\n",
    "Neste projeto, optou-se pelo uso do K-Means por ser um dos algoritmos mais difundidos e eficientes para problemas de clusterização, especialmente quando se busca identificar padrões em grandes volumes de dados.\n",
    "\n",
    "Além de ter relevância prática no mercado, este estudo permite o exercício integrado de diversas etapas do fluxo de trabalho em ciência de dados, desde a preparação do dataset até a interpretação dos resultados, reforçando a capacidade de transformar dados brutos em conhecimento acionável."
   ]
  },
  {
   "cell_type": "markdown",
   "metadata": {
    "id": "5UJZEXwXdrrK"
   },
   "source": [
    "**Exploração de Dados**\n",
    "\n",
    "A primeira etapa do projeto consiste na análise exploratória do conjunto de dados.\n",
    "\n",
    "O objetivo é compreender a natureza das variáveis, identificar tendências, distribuições e possíveis relações entre atributos.  \n",
    "Durante essa fase, são utilizadas estatísticas descritivas e visualizações gráficas para detectar padrões e outliers, além de verificar a presença de dados ausentes ou inconsistentes que possam afetar a qualidade da análise"
   ]
  },
  {
   "cell_type": "markdown",
   "metadata": {},
   "source": [
    "**Tratamento de Dados**\n",
    "\n",
    "Com base nos resultados da exploração, é realizada a preparação dos dados para a modelagem.\n",
    "\n",
    "Essa etapa inclui a limpeza de valores ausentes ou inconsistentes, a normalização ou padronização das variáveis numéricas e, quando necessário, a criação de variáveis derivadas para melhor representar a informação.  \n",
    "\n",
    "Todas as decisões de pré-processamento são documentadas, considerando seu impacto na qualidade do modelo e na interpretabilidade dos resultados."
   ]
  },
  {
   "cell_type": "markdown",
   "metadata": {
    "id": "tm2bQ7LLdyFe"
   },
   "source": [
    "**Implementação do Algoritmo K-Means:**\n",
    "\n",
    "Após o pré-processamento, o algoritmo K-Means é aplicado ao conjunto de dados tratado.  \n",
    "\n",
    "O número de clusters (k) é definido com base em métodos como o Elbow Method ou o Silhouette Score, buscando um equilíbrio entre simplicidade e capacidade de representar a estrutura dos dados.\n",
    "\n",
    "O processo de modelagem inclui ajustes de parâmetros, execução do algoritmo e avaliação da coerência dos agrupamentos obtidos.\n",
    "\n",
    "Por fim, os resultados são interpretados e discutidos, destacando as características que diferenciam cada grupo identificado."
   ]
  },
  {
   "cell_type": "markdown",
   "metadata": {
    "id": "X7lO1BL4klON"
   },
   "source": [
    "**O dataset a ser utilizado neste projeto contém informações de 200 clientes, com os seguintes atributos:**\n",
    "\n",
    "CustomerID: Identificador único atribuído a cada cliente.\n",
    "\n",
    "Gender: Gênero do cliente.\n",
    "\n",
    "Age: Idade do cliente.\n",
    "\n",
    "Annual Income (k$): Renda anual do cliente em milhares de dólares.\n",
    "\n",
    "Spending Score (1-100): Pontuação atribuída pelo shopping com base no\n",
    "comportamento e padrão de gastos do cliente."
   ]
  },
  {
   "cell_type": "markdown",
   "metadata": {},
   "source": [
    "# Exploração dos Dados"
   ]
  },
  {
   "cell_type": "code",
   "execution_count": 1,
   "metadata": {},
   "outputs": [],
   "source": [
    "import plotly.express as px\n",
    "import pandas as pd\n",
    "from sklearn.cluster import KMeans\n",
    "from sklearn.preprocessing import StandardScaler\n",
    "import seaborn as sns\n",
    "import matplotlib.pyplot as plt"
   ]
  },
  {
   "cell_type": "code",
   "execution_count": 2,
   "metadata": {},
   "outputs": [
    {
     "data": {
      "text/html": [
       "<div>\n",
       "<style scoped>\n",
       "    .dataframe tbody tr th:only-of-type {\n",
       "        vertical-align: middle;\n",
       "    }\n",
       "\n",
       "    .dataframe tbody tr th {\n",
       "        vertical-align: top;\n",
       "    }\n",
       "\n",
       "    .dataframe thead th {\n",
       "        text-align: right;\n",
       "    }\n",
       "</style>\n",
       "<table border=\"1\" class=\"dataframe\">\n",
       "  <thead>\n",
       "    <tr style=\"text-align: right;\">\n",
       "      <th></th>\n",
       "      <th>CustomerID</th>\n",
       "      <th>Gender</th>\n",
       "      <th>Age</th>\n",
       "      <th>Annual Income (k$)</th>\n",
       "      <th>Spending Score (1-100)</th>\n",
       "    </tr>\n",
       "  </thead>\n",
       "  <tbody>\n",
       "    <tr>\n",
       "      <th>0</th>\n",
       "      <td>1</td>\n",
       "      <td>Male</td>\n",
       "      <td>19</td>\n",
       "      <td>15</td>\n",
       "      <td>39</td>\n",
       "    </tr>\n",
       "    <tr>\n",
       "      <th>1</th>\n",
       "      <td>2</td>\n",
       "      <td>Male</td>\n",
       "      <td>21</td>\n",
       "      <td>15</td>\n",
       "      <td>81</td>\n",
       "    </tr>\n",
       "    <tr>\n",
       "      <th>2</th>\n",
       "      <td>3</td>\n",
       "      <td>Female</td>\n",
       "      <td>20</td>\n",
       "      <td>16</td>\n",
       "      <td>6</td>\n",
       "    </tr>\n",
       "    <tr>\n",
       "      <th>3</th>\n",
       "      <td>4</td>\n",
       "      <td>Female</td>\n",
       "      <td>23</td>\n",
       "      <td>16</td>\n",
       "      <td>77</td>\n",
       "    </tr>\n",
       "    <tr>\n",
       "      <th>4</th>\n",
       "      <td>5</td>\n",
       "      <td>Female</td>\n",
       "      <td>31</td>\n",
       "      <td>17</td>\n",
       "      <td>40</td>\n",
       "    </tr>\n",
       "  </tbody>\n",
       "</table>\n",
       "</div>"
      ],
      "text/plain": [
       "   CustomerID  Gender  Age  Annual Income (k$)  Spending Score (1-100)\n",
       "0           1    Male   19                  15                      39\n",
       "1           2    Male   21                  15                      81\n",
       "2           3  Female   20                  16                       6\n",
       "3           4  Female   23                  16                      77\n",
       "4           5  Female   31                  17                      40"
      ]
     },
     "execution_count": 2,
     "metadata": {},
     "output_type": "execute_result"
    }
   ],
   "source": [
    "df = pd.read_csv('Mall_Customers.csv', sep=',')\n",
    "df.head()"
   ]
  },
  {
   "cell_type": "code",
   "execution_count": 3,
   "metadata": {},
   "outputs": [
    {
     "name": "stdout",
     "output_type": "stream",
     "text": [
      "<class 'pandas.core.frame.DataFrame'>\n",
      "RangeIndex: 200 entries, 0 to 199\n",
      "Data columns (total 5 columns):\n",
      " #   Column                  Non-Null Count  Dtype \n",
      "---  ------                  --------------  ----- \n",
      " 0   CustomerID              200 non-null    int64 \n",
      " 1   Gender                  200 non-null    object\n",
      " 2   Age                     200 non-null    int64 \n",
      " 3   Annual Income (k$)      200 non-null    int64 \n",
      " 4   Spending Score (1-100)  200 non-null    int64 \n",
      "dtypes: int64(4), object(1)\n",
      "memory usage: 7.9+ KB\n"
     ]
    }
   ],
   "source": [
    "df.info()"
   ]
  },
  {
   "cell_type": "code",
   "execution_count": 4,
   "metadata": {},
   "outputs": [
    {
     "data": {
      "text/plain": [
       "array(['Male', 'Female'], dtype=object)"
      ]
     },
     "execution_count": 4,
     "metadata": {},
     "output_type": "execute_result"
    }
   ],
   "source": [
    "df['Gender'].unique()"
   ]
  },
  {
   "cell_type": "markdown",
   "metadata": {},
   "source": [
    "Verificando a distribuição geral das variáveis."
   ]
  },
  {
   "cell_type": "code",
   "execution_count": 5,
   "metadata": {},
   "outputs": [
    {
     "data": {
      "application/vnd.plotly.v1+json": {
       "config": {
        "plotlyServerURL": "https://plot.ly"
       },
       "data": [
        {
         "alignmentgroup": "True",
         "hovertemplate": "variable=%{x}<br>value=%{y}<extra></extra>",
         "legendgroup": "",
         "marker": {
          "color": "#636efa"
         },
         "name": "",
         "notched": false,
         "offsetgroup": "",
         "orientation": "v",
         "showlegend": false,
         "type": "box",
         "x": [
          "Age",
          "Age",
          "Age",
          "Age",
          "Age",
          "Age",
          "Age",
          "Age",
          "Age",
          "Age",
          "Age",
          "Age",
          "Age",
          "Age",
          "Age",
          "Age",
          "Age",
          "Age",
          "Age",
          "Age",
          "Age",
          "Age",
          "Age",
          "Age",
          "Age",
          "Age",
          "Age",
          "Age",
          "Age",
          "Age",
          "Age",
          "Age",
          "Age",
          "Age",
          "Age",
          "Age",
          "Age",
          "Age",
          "Age",
          "Age",
          "Age",
          "Age",
          "Age",
          "Age",
          "Age",
          "Age",
          "Age",
          "Age",
          "Age",
          "Age",
          "Age",
          "Age",
          "Age",
          "Age",
          "Age",
          "Age",
          "Age",
          "Age",
          "Age",
          "Age",
          "Age",
          "Age",
          "Age",
          "Age",
          "Age",
          "Age",
          "Age",
          "Age",
          "Age",
          "Age",
          "Age",
          "Age",
          "Age",
          "Age",
          "Age",
          "Age",
          "Age",
          "Age",
          "Age",
          "Age",
          "Age",
          "Age",
          "Age",
          "Age",
          "Age",
          "Age",
          "Age",
          "Age",
          "Age",
          "Age",
          "Age",
          "Age",
          "Age",
          "Age",
          "Age",
          "Age",
          "Age",
          "Age",
          "Age",
          "Age",
          "Age",
          "Age",
          "Age",
          "Age",
          "Age",
          "Age",
          "Age",
          "Age",
          "Age",
          "Age",
          "Age",
          "Age",
          "Age",
          "Age",
          "Age",
          "Age",
          "Age",
          "Age",
          "Age",
          "Age",
          "Age",
          "Age",
          "Age",
          "Age",
          "Age",
          "Age",
          "Age",
          "Age",
          "Age",
          "Age",
          "Age",
          "Age",
          "Age",
          "Age",
          "Age",
          "Age",
          "Age",
          "Age",
          "Age",
          "Age",
          "Age",
          "Age",
          "Age",
          "Age",
          "Age",
          "Age",
          "Age",
          "Age",
          "Age",
          "Age",
          "Age",
          "Age",
          "Age",
          "Age",
          "Age",
          "Age",
          "Age",
          "Age",
          "Age",
          "Age",
          "Age",
          "Age",
          "Age",
          "Age",
          "Age",
          "Age",
          "Age",
          "Age",
          "Age",
          "Age",
          "Age",
          "Age",
          "Age",
          "Age",
          "Age",
          "Age",
          "Age",
          "Age",
          "Age",
          "Age",
          "Age",
          "Age",
          "Age",
          "Age",
          "Age",
          "Age",
          "Age",
          "Age",
          "Age",
          "Age",
          "Age",
          "Age",
          "Age",
          "Age",
          "Age",
          "Age",
          "Age",
          "Age",
          "Age",
          "Age",
          "Annual Income (k$)",
          "Annual Income (k$)",
          "Annual Income (k$)",
          "Annual Income (k$)",
          "Annual Income (k$)",
          "Annual Income (k$)",
          "Annual Income (k$)",
          "Annual Income (k$)",
          "Annual Income (k$)",
          "Annual Income (k$)",
          "Annual Income (k$)",
          "Annual Income (k$)",
          "Annual Income (k$)",
          "Annual Income (k$)",
          "Annual Income (k$)",
          "Annual Income (k$)",
          "Annual Income (k$)",
          "Annual Income (k$)",
          "Annual Income (k$)",
          "Annual Income (k$)",
          "Annual Income (k$)",
          "Annual Income (k$)",
          "Annual Income (k$)",
          "Annual Income (k$)",
          "Annual Income (k$)",
          "Annual Income (k$)",
          "Annual Income (k$)",
          "Annual Income (k$)",
          "Annual Income (k$)",
          "Annual Income (k$)",
          "Annual Income (k$)",
          "Annual Income (k$)",
          "Annual Income (k$)",
          "Annual Income (k$)",
          "Annual Income (k$)",
          "Annual Income (k$)",
          "Annual Income (k$)",
          "Annual Income (k$)",
          "Annual Income (k$)",
          "Annual Income (k$)",
          "Annual Income (k$)",
          "Annual Income (k$)",
          "Annual Income (k$)",
          "Annual Income (k$)",
          "Annual Income (k$)",
          "Annual Income (k$)",
          "Annual Income (k$)",
          "Annual Income (k$)",
          "Annual Income (k$)",
          "Annual Income (k$)",
          "Annual Income (k$)",
          "Annual Income (k$)",
          "Annual Income (k$)",
          "Annual Income (k$)",
          "Annual Income (k$)",
          "Annual Income (k$)",
          "Annual Income (k$)",
          "Annual Income (k$)",
          "Annual Income (k$)",
          "Annual Income (k$)",
          "Annual Income (k$)",
          "Annual Income (k$)",
          "Annual Income (k$)",
          "Annual Income (k$)",
          "Annual Income (k$)",
          "Annual Income (k$)",
          "Annual Income (k$)",
          "Annual Income (k$)",
          "Annual Income (k$)",
          "Annual Income (k$)",
          "Annual Income (k$)",
          "Annual Income (k$)",
          "Annual Income (k$)",
          "Annual Income (k$)",
          "Annual Income (k$)",
          "Annual Income (k$)",
          "Annual Income (k$)",
          "Annual Income (k$)",
          "Annual Income (k$)",
          "Annual Income (k$)",
          "Annual Income (k$)",
          "Annual Income (k$)",
          "Annual Income (k$)",
          "Annual Income (k$)",
          "Annual Income (k$)",
          "Annual Income (k$)",
          "Annual Income (k$)",
          "Annual Income (k$)",
          "Annual Income (k$)",
          "Annual Income (k$)",
          "Annual Income (k$)",
          "Annual Income (k$)",
          "Annual Income (k$)",
          "Annual Income (k$)",
          "Annual Income (k$)",
          "Annual Income (k$)",
          "Annual Income (k$)",
          "Annual Income (k$)",
          "Annual Income (k$)",
          "Annual Income (k$)",
          "Annual Income (k$)",
          "Annual Income (k$)",
          "Annual Income (k$)",
          "Annual Income (k$)",
          "Annual Income (k$)",
          "Annual Income (k$)",
          "Annual Income (k$)",
          "Annual Income (k$)",
          "Annual Income (k$)",
          "Annual Income (k$)",
          "Annual Income (k$)",
          "Annual Income (k$)",
          "Annual Income (k$)",
          "Annual Income (k$)",
          "Annual Income (k$)",
          "Annual Income (k$)",
          "Annual Income (k$)",
          "Annual Income (k$)",
          "Annual Income (k$)",
          "Annual Income (k$)",
          "Annual Income (k$)",
          "Annual Income (k$)",
          "Annual Income (k$)",
          "Annual Income (k$)",
          "Annual Income (k$)",
          "Annual Income (k$)",
          "Annual Income (k$)",
          "Annual Income (k$)",
          "Annual Income (k$)",
          "Annual Income (k$)",
          "Annual Income (k$)",
          "Annual Income (k$)",
          "Annual Income (k$)",
          "Annual Income (k$)",
          "Annual Income (k$)",
          "Annual Income (k$)",
          "Annual Income (k$)",
          "Annual Income (k$)",
          "Annual Income (k$)",
          "Annual Income (k$)",
          "Annual Income (k$)",
          "Annual Income (k$)",
          "Annual Income (k$)",
          "Annual Income (k$)",
          "Annual Income (k$)",
          "Annual Income (k$)",
          "Annual Income (k$)",
          "Annual Income (k$)",
          "Annual Income (k$)",
          "Annual Income (k$)",
          "Annual Income (k$)",
          "Annual Income (k$)",
          "Annual Income (k$)",
          "Annual Income (k$)",
          "Annual Income (k$)",
          "Annual Income (k$)",
          "Annual Income (k$)",
          "Annual Income (k$)",
          "Annual Income (k$)",
          "Annual Income (k$)",
          "Annual Income (k$)",
          "Annual Income (k$)",
          "Annual Income (k$)",
          "Annual Income (k$)",
          "Annual Income (k$)",
          "Annual Income (k$)",
          "Annual Income (k$)",
          "Annual Income (k$)",
          "Annual Income (k$)",
          "Annual Income (k$)",
          "Annual Income (k$)",
          "Annual Income (k$)",
          "Annual Income (k$)",
          "Annual Income (k$)",
          "Annual Income (k$)",
          "Annual Income (k$)",
          "Annual Income (k$)",
          "Annual Income (k$)",
          "Annual Income (k$)",
          "Annual Income (k$)",
          "Annual Income (k$)",
          "Annual Income (k$)",
          "Annual Income (k$)",
          "Annual Income (k$)",
          "Annual Income (k$)",
          "Annual Income (k$)",
          "Annual Income (k$)",
          "Annual Income (k$)",
          "Annual Income (k$)",
          "Annual Income (k$)",
          "Annual Income (k$)",
          "Annual Income (k$)",
          "Annual Income (k$)",
          "Annual Income (k$)",
          "Annual Income (k$)",
          "Annual Income (k$)",
          "Annual Income (k$)",
          "Annual Income (k$)",
          "Annual Income (k$)",
          "Annual Income (k$)",
          "Spending Score (1-100)",
          "Spending Score (1-100)",
          "Spending Score (1-100)",
          "Spending Score (1-100)",
          "Spending Score (1-100)",
          "Spending Score (1-100)",
          "Spending Score (1-100)",
          "Spending Score (1-100)",
          "Spending Score (1-100)",
          "Spending Score (1-100)",
          "Spending Score (1-100)",
          "Spending Score (1-100)",
          "Spending Score (1-100)",
          "Spending Score (1-100)",
          "Spending Score (1-100)",
          "Spending Score (1-100)",
          "Spending Score (1-100)",
          "Spending Score (1-100)",
          "Spending Score (1-100)",
          "Spending Score (1-100)",
          "Spending Score (1-100)",
          "Spending Score (1-100)",
          "Spending Score (1-100)",
          "Spending Score (1-100)",
          "Spending Score (1-100)",
          "Spending Score (1-100)",
          "Spending Score (1-100)",
          "Spending Score (1-100)",
          "Spending Score (1-100)",
          "Spending Score (1-100)",
          "Spending Score (1-100)",
          "Spending Score (1-100)",
          "Spending Score (1-100)",
          "Spending Score (1-100)",
          "Spending Score (1-100)",
          "Spending Score (1-100)",
          "Spending Score (1-100)",
          "Spending Score (1-100)",
          "Spending Score (1-100)",
          "Spending Score (1-100)",
          "Spending Score (1-100)",
          "Spending Score (1-100)",
          "Spending Score (1-100)",
          "Spending Score (1-100)",
          "Spending Score (1-100)",
          "Spending Score (1-100)",
          "Spending Score (1-100)",
          "Spending Score (1-100)",
          "Spending Score (1-100)",
          "Spending Score (1-100)",
          "Spending Score (1-100)",
          "Spending Score (1-100)",
          "Spending Score (1-100)",
          "Spending Score (1-100)",
          "Spending Score (1-100)",
          "Spending Score (1-100)",
          "Spending Score (1-100)",
          "Spending Score (1-100)",
          "Spending Score (1-100)",
          "Spending Score (1-100)",
          "Spending Score (1-100)",
          "Spending Score (1-100)",
          "Spending Score (1-100)",
          "Spending Score (1-100)",
          "Spending Score (1-100)",
          "Spending Score (1-100)",
          "Spending Score (1-100)",
          "Spending Score (1-100)",
          "Spending Score (1-100)",
          "Spending Score (1-100)",
          "Spending Score (1-100)",
          "Spending Score (1-100)",
          "Spending Score (1-100)",
          "Spending Score (1-100)",
          "Spending Score (1-100)",
          "Spending Score (1-100)",
          "Spending Score (1-100)",
          "Spending Score (1-100)",
          "Spending Score (1-100)",
          "Spending Score (1-100)",
          "Spending Score (1-100)",
          "Spending Score (1-100)",
          "Spending Score (1-100)",
          "Spending Score (1-100)",
          "Spending Score (1-100)",
          "Spending Score (1-100)",
          "Spending Score (1-100)",
          "Spending Score (1-100)",
          "Spending Score (1-100)",
          "Spending Score (1-100)",
          "Spending Score (1-100)",
          "Spending Score (1-100)",
          "Spending Score (1-100)",
          "Spending Score (1-100)",
          "Spending Score (1-100)",
          "Spending Score (1-100)",
          "Spending Score (1-100)",
          "Spending Score (1-100)",
          "Spending Score (1-100)",
          "Spending Score (1-100)",
          "Spending Score (1-100)",
          "Spending Score (1-100)",
          "Spending Score (1-100)",
          "Spending Score (1-100)",
          "Spending Score (1-100)",
          "Spending Score (1-100)",
          "Spending Score (1-100)",
          "Spending Score (1-100)",
          "Spending Score (1-100)",
          "Spending Score (1-100)",
          "Spending Score (1-100)",
          "Spending Score (1-100)",
          "Spending Score (1-100)",
          "Spending Score (1-100)",
          "Spending Score (1-100)",
          "Spending Score (1-100)",
          "Spending Score (1-100)",
          "Spending Score (1-100)",
          "Spending Score (1-100)",
          "Spending Score (1-100)",
          "Spending Score (1-100)",
          "Spending Score (1-100)",
          "Spending Score (1-100)",
          "Spending Score (1-100)",
          "Spending Score (1-100)",
          "Spending Score (1-100)",
          "Spending Score (1-100)",
          "Spending Score (1-100)",
          "Spending Score (1-100)",
          "Spending Score (1-100)",
          "Spending Score (1-100)",
          "Spending Score (1-100)",
          "Spending Score (1-100)",
          "Spending Score (1-100)",
          "Spending Score (1-100)",
          "Spending Score (1-100)",
          "Spending Score (1-100)",
          "Spending Score (1-100)",
          "Spending Score (1-100)",
          "Spending Score (1-100)",
          "Spending Score (1-100)",
          "Spending Score (1-100)",
          "Spending Score (1-100)",
          "Spending Score (1-100)",
          "Spending Score (1-100)",
          "Spending Score (1-100)",
          "Spending Score (1-100)",
          "Spending Score (1-100)",
          "Spending Score (1-100)",
          "Spending Score (1-100)",
          "Spending Score (1-100)",
          "Spending Score (1-100)",
          "Spending Score (1-100)",
          "Spending Score (1-100)",
          "Spending Score (1-100)",
          "Spending Score (1-100)",
          "Spending Score (1-100)",
          "Spending Score (1-100)",
          "Spending Score (1-100)",
          "Spending Score (1-100)",
          "Spending Score (1-100)",
          "Spending Score (1-100)",
          "Spending Score (1-100)",
          "Spending Score (1-100)",
          "Spending Score (1-100)",
          "Spending Score (1-100)",
          "Spending Score (1-100)",
          "Spending Score (1-100)",
          "Spending Score (1-100)",
          "Spending Score (1-100)",
          "Spending Score (1-100)",
          "Spending Score (1-100)",
          "Spending Score (1-100)",
          "Spending Score (1-100)",
          "Spending Score (1-100)",
          "Spending Score (1-100)",
          "Spending Score (1-100)",
          "Spending Score (1-100)",
          "Spending Score (1-100)",
          "Spending Score (1-100)",
          "Spending Score (1-100)",
          "Spending Score (1-100)",
          "Spending Score (1-100)",
          "Spending Score (1-100)",
          "Spending Score (1-100)",
          "Spending Score (1-100)",
          "Spending Score (1-100)",
          "Spending Score (1-100)",
          "Spending Score (1-100)",
          "Spending Score (1-100)",
          "Spending Score (1-100)",
          "Spending Score (1-100)",
          "Spending Score (1-100)",
          "Spending Score (1-100)",
          "Spending Score (1-100)",
          "Spending Score (1-100)",
          "Spending Score (1-100)",
          "Spending Score (1-100)",
          "Spending Score (1-100)",
          "Spending Score (1-100)"
         ],
         "x0": " ",
         "xaxis": "x",
         "y": [
          19,
          21,
          20,
          23,
          31,
          22,
          35,
          23,
          64,
          30,
          67,
          35,
          58,
          24,
          37,
          22,
          35,
          20,
          52,
          35,
          35,
          25,
          46,
          31,
          54,
          29,
          45,
          35,
          40,
          23,
          60,
          21,
          53,
          18,
          49,
          21,
          42,
          30,
          36,
          20,
          65,
          24,
          48,
          31,
          49,
          24,
          50,
          27,
          29,
          31,
          49,
          33,
          31,
          59,
          50,
          47,
          51,
          69,
          27,
          53,
          70,
          19,
          67,
          54,
          63,
          18,
          43,
          68,
          19,
          32,
          70,
          47,
          60,
          60,
          59,
          26,
          45,
          40,
          23,
          49,
          57,
          38,
          67,
          46,
          21,
          48,
          55,
          22,
          34,
          50,
          68,
          18,
          48,
          40,
          32,
          24,
          47,
          27,
          48,
          20,
          23,
          49,
          67,
          26,
          49,
          21,
          66,
          54,
          68,
          66,
          65,
          19,
          38,
          19,
          18,
          19,
          63,
          49,
          51,
          50,
          27,
          38,
          40,
          39,
          23,
          31,
          43,
          40,
          59,
          38,
          47,
          39,
          25,
          31,
          20,
          29,
          44,
          32,
          19,
          35,
          57,
          32,
          28,
          32,
          25,
          28,
          48,
          32,
          34,
          34,
          43,
          39,
          44,
          38,
          47,
          27,
          37,
          30,
          34,
          30,
          56,
          29,
          19,
          31,
          50,
          36,
          42,
          33,
          36,
          32,
          40,
          28,
          36,
          36,
          52,
          30,
          58,
          27,
          59,
          35,
          37,
          32,
          46,
          29,
          41,
          30,
          54,
          28,
          41,
          36,
          34,
          32,
          33,
          38,
          47,
          35,
          45,
          32,
          32,
          30,
          15,
          15,
          16,
          16,
          17,
          17,
          18,
          18,
          19,
          19,
          19,
          19,
          20,
          20,
          20,
          20,
          21,
          21,
          23,
          23,
          24,
          24,
          25,
          25,
          28,
          28,
          28,
          28,
          29,
          29,
          30,
          30,
          33,
          33,
          33,
          33,
          34,
          34,
          37,
          37,
          38,
          38,
          39,
          39,
          39,
          39,
          40,
          40,
          40,
          40,
          42,
          42,
          43,
          43,
          43,
          43,
          44,
          44,
          46,
          46,
          46,
          46,
          47,
          47,
          48,
          48,
          48,
          48,
          48,
          48,
          49,
          49,
          50,
          50,
          54,
          54,
          54,
          54,
          54,
          54,
          54,
          54,
          54,
          54,
          54,
          54,
          57,
          57,
          58,
          58,
          59,
          59,
          60,
          60,
          60,
          60,
          60,
          60,
          61,
          61,
          62,
          62,
          62,
          62,
          62,
          62,
          63,
          63,
          63,
          63,
          63,
          63,
          64,
          64,
          65,
          65,
          65,
          65,
          67,
          67,
          67,
          67,
          69,
          69,
          70,
          70,
          71,
          71,
          71,
          71,
          71,
          71,
          72,
          72,
          73,
          73,
          73,
          73,
          74,
          74,
          75,
          75,
          76,
          76,
          77,
          77,
          77,
          77,
          78,
          78,
          78,
          78,
          78,
          78,
          78,
          78,
          78,
          78,
          78,
          78,
          79,
          79,
          81,
          81,
          85,
          85,
          86,
          86,
          87,
          87,
          87,
          87,
          87,
          87,
          88,
          88,
          88,
          88,
          93,
          93,
          97,
          97,
          98,
          98,
          99,
          99,
          101,
          101,
          103,
          103,
          103,
          103,
          113,
          113,
          120,
          120,
          126,
          126,
          137,
          137,
          39,
          81,
          6,
          77,
          40,
          76,
          6,
          94,
          3,
          72,
          14,
          99,
          15,
          77,
          13,
          79,
          35,
          66,
          29,
          98,
          35,
          73,
          5,
          73,
          14,
          82,
          32,
          61,
          31,
          87,
          4,
          73,
          4,
          92,
          14,
          81,
          17,
          73,
          26,
          75,
          35,
          92,
          36,
          61,
          28,
          65,
          55,
          47,
          42,
          42,
          52,
          60,
          54,
          60,
          45,
          41,
          50,
          46,
          51,
          46,
          56,
          55,
          52,
          59,
          51,
          59,
          50,
          48,
          59,
          47,
          55,
          42,
          49,
          56,
          47,
          54,
          53,
          48,
          52,
          42,
          51,
          55,
          41,
          44,
          57,
          46,
          58,
          55,
          60,
          46,
          55,
          41,
          49,
          40,
          42,
          52,
          47,
          50,
          42,
          49,
          41,
          48,
          59,
          55,
          56,
          42,
          50,
          46,
          43,
          48,
          52,
          54,
          42,
          46,
          48,
          50,
          43,
          59,
          43,
          57,
          56,
          40,
          58,
          91,
          29,
          77,
          35,
          95,
          11,
          75,
          9,
          75,
          34,
          71,
          5,
          88,
          7,
          73,
          10,
          72,
          5,
          93,
          40,
          87,
          12,
          97,
          36,
          74,
          22,
          90,
          17,
          88,
          20,
          76,
          16,
          89,
          1,
          78,
          1,
          73,
          35,
          83,
          5,
          93,
          26,
          75,
          20,
          95,
          27,
          63,
          13,
          75,
          10,
          92,
          13,
          86,
          15,
          69,
          14,
          90,
          32,
          86,
          15,
          88,
          39,
          97,
          24,
          68,
          17,
          85,
          23,
          69,
          8,
          91,
          16,
          79,
          28,
          74,
          18,
          83
         ],
         "y0": " ",
         "yaxis": "y"
        }
       ],
       "layout": {
        "boxmode": "group",
        "legend": {
         "tracegroupgap": 0
        },
        "template": {
         "data": {
          "bar": [
           {
            "error_x": {
             "color": "#2a3f5f"
            },
            "error_y": {
             "color": "#2a3f5f"
            },
            "marker": {
             "line": {
              "color": "#E5ECF6",
              "width": 0.5
             },
             "pattern": {
              "fillmode": "overlay",
              "size": 10,
              "solidity": 0.2
             }
            },
            "type": "bar"
           }
          ],
          "barpolar": [
           {
            "marker": {
             "line": {
              "color": "#E5ECF6",
              "width": 0.5
             },
             "pattern": {
              "fillmode": "overlay",
              "size": 10,
              "solidity": 0.2
             }
            },
            "type": "barpolar"
           }
          ],
          "carpet": [
           {
            "aaxis": {
             "endlinecolor": "#2a3f5f",
             "gridcolor": "white",
             "linecolor": "white",
             "minorgridcolor": "white",
             "startlinecolor": "#2a3f5f"
            },
            "baxis": {
             "endlinecolor": "#2a3f5f",
             "gridcolor": "white",
             "linecolor": "white",
             "minorgridcolor": "white",
             "startlinecolor": "#2a3f5f"
            },
            "type": "carpet"
           }
          ],
          "choropleth": [
           {
            "colorbar": {
             "outlinewidth": 0,
             "ticks": ""
            },
            "type": "choropleth"
           }
          ],
          "contour": [
           {
            "colorbar": {
             "outlinewidth": 0,
             "ticks": ""
            },
            "colorscale": [
             [
              0,
              "#0d0887"
             ],
             [
              0.1111111111111111,
              "#46039f"
             ],
             [
              0.2222222222222222,
              "#7201a8"
             ],
             [
              0.3333333333333333,
              "#9c179e"
             ],
             [
              0.4444444444444444,
              "#bd3786"
             ],
             [
              0.5555555555555556,
              "#d8576b"
             ],
             [
              0.6666666666666666,
              "#ed7953"
             ],
             [
              0.7777777777777778,
              "#fb9f3a"
             ],
             [
              0.8888888888888888,
              "#fdca26"
             ],
             [
              1,
              "#f0f921"
             ]
            ],
            "type": "contour"
           }
          ],
          "contourcarpet": [
           {
            "colorbar": {
             "outlinewidth": 0,
             "ticks": ""
            },
            "type": "contourcarpet"
           }
          ],
          "heatmap": [
           {
            "colorbar": {
             "outlinewidth": 0,
             "ticks": ""
            },
            "colorscale": [
             [
              0,
              "#0d0887"
             ],
             [
              0.1111111111111111,
              "#46039f"
             ],
             [
              0.2222222222222222,
              "#7201a8"
             ],
             [
              0.3333333333333333,
              "#9c179e"
             ],
             [
              0.4444444444444444,
              "#bd3786"
             ],
             [
              0.5555555555555556,
              "#d8576b"
             ],
             [
              0.6666666666666666,
              "#ed7953"
             ],
             [
              0.7777777777777778,
              "#fb9f3a"
             ],
             [
              0.8888888888888888,
              "#fdca26"
             ],
             [
              1,
              "#f0f921"
             ]
            ],
            "type": "heatmap"
           }
          ],
          "heatmapgl": [
           {
            "colorbar": {
             "outlinewidth": 0,
             "ticks": ""
            },
            "colorscale": [
             [
              0,
              "#0d0887"
             ],
             [
              0.1111111111111111,
              "#46039f"
             ],
             [
              0.2222222222222222,
              "#7201a8"
             ],
             [
              0.3333333333333333,
              "#9c179e"
             ],
             [
              0.4444444444444444,
              "#bd3786"
             ],
             [
              0.5555555555555556,
              "#d8576b"
             ],
             [
              0.6666666666666666,
              "#ed7953"
             ],
             [
              0.7777777777777778,
              "#fb9f3a"
             ],
             [
              0.8888888888888888,
              "#fdca26"
             ],
             [
              1,
              "#f0f921"
             ]
            ],
            "type": "heatmapgl"
           }
          ],
          "histogram": [
           {
            "marker": {
             "pattern": {
              "fillmode": "overlay",
              "size": 10,
              "solidity": 0.2
             }
            },
            "type": "histogram"
           }
          ],
          "histogram2d": [
           {
            "colorbar": {
             "outlinewidth": 0,
             "ticks": ""
            },
            "colorscale": [
             [
              0,
              "#0d0887"
             ],
             [
              0.1111111111111111,
              "#46039f"
             ],
             [
              0.2222222222222222,
              "#7201a8"
             ],
             [
              0.3333333333333333,
              "#9c179e"
             ],
             [
              0.4444444444444444,
              "#bd3786"
             ],
             [
              0.5555555555555556,
              "#d8576b"
             ],
             [
              0.6666666666666666,
              "#ed7953"
             ],
             [
              0.7777777777777778,
              "#fb9f3a"
             ],
             [
              0.8888888888888888,
              "#fdca26"
             ],
             [
              1,
              "#f0f921"
             ]
            ],
            "type": "histogram2d"
           }
          ],
          "histogram2dcontour": [
           {
            "colorbar": {
             "outlinewidth": 0,
             "ticks": ""
            },
            "colorscale": [
             [
              0,
              "#0d0887"
             ],
             [
              0.1111111111111111,
              "#46039f"
             ],
             [
              0.2222222222222222,
              "#7201a8"
             ],
             [
              0.3333333333333333,
              "#9c179e"
             ],
             [
              0.4444444444444444,
              "#bd3786"
             ],
             [
              0.5555555555555556,
              "#d8576b"
             ],
             [
              0.6666666666666666,
              "#ed7953"
             ],
             [
              0.7777777777777778,
              "#fb9f3a"
             ],
             [
              0.8888888888888888,
              "#fdca26"
             ],
             [
              1,
              "#f0f921"
             ]
            ],
            "type": "histogram2dcontour"
           }
          ],
          "mesh3d": [
           {
            "colorbar": {
             "outlinewidth": 0,
             "ticks": ""
            },
            "type": "mesh3d"
           }
          ],
          "parcoords": [
           {
            "line": {
             "colorbar": {
              "outlinewidth": 0,
              "ticks": ""
             }
            },
            "type": "parcoords"
           }
          ],
          "pie": [
           {
            "automargin": true,
            "type": "pie"
           }
          ],
          "scatter": [
           {
            "fillpattern": {
             "fillmode": "overlay",
             "size": 10,
             "solidity": 0.2
            },
            "type": "scatter"
           }
          ],
          "scatter3d": [
           {
            "line": {
             "colorbar": {
              "outlinewidth": 0,
              "ticks": ""
             }
            },
            "marker": {
             "colorbar": {
              "outlinewidth": 0,
              "ticks": ""
             }
            },
            "type": "scatter3d"
           }
          ],
          "scattercarpet": [
           {
            "marker": {
             "colorbar": {
              "outlinewidth": 0,
              "ticks": ""
             }
            },
            "type": "scattercarpet"
           }
          ],
          "scattergeo": [
           {
            "marker": {
             "colorbar": {
              "outlinewidth": 0,
              "ticks": ""
             }
            },
            "type": "scattergeo"
           }
          ],
          "scattergl": [
           {
            "marker": {
             "colorbar": {
              "outlinewidth": 0,
              "ticks": ""
             }
            },
            "type": "scattergl"
           }
          ],
          "scattermapbox": [
           {
            "marker": {
             "colorbar": {
              "outlinewidth": 0,
              "ticks": ""
             }
            },
            "type": "scattermapbox"
           }
          ],
          "scatterpolar": [
           {
            "marker": {
             "colorbar": {
              "outlinewidth": 0,
              "ticks": ""
             }
            },
            "type": "scatterpolar"
           }
          ],
          "scatterpolargl": [
           {
            "marker": {
             "colorbar": {
              "outlinewidth": 0,
              "ticks": ""
             }
            },
            "type": "scatterpolargl"
           }
          ],
          "scatterternary": [
           {
            "marker": {
             "colorbar": {
              "outlinewidth": 0,
              "ticks": ""
             }
            },
            "type": "scatterternary"
           }
          ],
          "surface": [
           {
            "colorbar": {
             "outlinewidth": 0,
             "ticks": ""
            },
            "colorscale": [
             [
              0,
              "#0d0887"
             ],
             [
              0.1111111111111111,
              "#46039f"
             ],
             [
              0.2222222222222222,
              "#7201a8"
             ],
             [
              0.3333333333333333,
              "#9c179e"
             ],
             [
              0.4444444444444444,
              "#bd3786"
             ],
             [
              0.5555555555555556,
              "#d8576b"
             ],
             [
              0.6666666666666666,
              "#ed7953"
             ],
             [
              0.7777777777777778,
              "#fb9f3a"
             ],
             [
              0.8888888888888888,
              "#fdca26"
             ],
             [
              1,
              "#f0f921"
             ]
            ],
            "type": "surface"
           }
          ],
          "table": [
           {
            "cells": {
             "fill": {
              "color": "#EBF0F8"
             },
             "line": {
              "color": "white"
             }
            },
            "header": {
             "fill": {
              "color": "#C8D4E3"
             },
             "line": {
              "color": "white"
             }
            },
            "type": "table"
           }
          ]
         },
         "layout": {
          "annotationdefaults": {
           "arrowcolor": "#2a3f5f",
           "arrowhead": 0,
           "arrowwidth": 1
          },
          "autotypenumbers": "strict",
          "coloraxis": {
           "colorbar": {
            "outlinewidth": 0,
            "ticks": ""
           }
          },
          "colorscale": {
           "diverging": [
            [
             0,
             "#8e0152"
            ],
            [
             0.1,
             "#c51b7d"
            ],
            [
             0.2,
             "#de77ae"
            ],
            [
             0.3,
             "#f1b6da"
            ],
            [
             0.4,
             "#fde0ef"
            ],
            [
             0.5,
             "#f7f7f7"
            ],
            [
             0.6,
             "#e6f5d0"
            ],
            [
             0.7,
             "#b8e186"
            ],
            [
             0.8,
             "#7fbc41"
            ],
            [
             0.9,
             "#4d9221"
            ],
            [
             1,
             "#276419"
            ]
           ],
           "sequential": [
            [
             0,
             "#0d0887"
            ],
            [
             0.1111111111111111,
             "#46039f"
            ],
            [
             0.2222222222222222,
             "#7201a8"
            ],
            [
             0.3333333333333333,
             "#9c179e"
            ],
            [
             0.4444444444444444,
             "#bd3786"
            ],
            [
             0.5555555555555556,
             "#d8576b"
            ],
            [
             0.6666666666666666,
             "#ed7953"
            ],
            [
             0.7777777777777778,
             "#fb9f3a"
            ],
            [
             0.8888888888888888,
             "#fdca26"
            ],
            [
             1,
             "#f0f921"
            ]
           ],
           "sequentialminus": [
            [
             0,
             "#0d0887"
            ],
            [
             0.1111111111111111,
             "#46039f"
            ],
            [
             0.2222222222222222,
             "#7201a8"
            ],
            [
             0.3333333333333333,
             "#9c179e"
            ],
            [
             0.4444444444444444,
             "#bd3786"
            ],
            [
             0.5555555555555556,
             "#d8576b"
            ],
            [
             0.6666666666666666,
             "#ed7953"
            ],
            [
             0.7777777777777778,
             "#fb9f3a"
            ],
            [
             0.8888888888888888,
             "#fdca26"
            ],
            [
             1,
             "#f0f921"
            ]
           ]
          },
          "colorway": [
           "#636efa",
           "#EF553B",
           "#00cc96",
           "#ab63fa",
           "#FFA15A",
           "#19d3f3",
           "#FF6692",
           "#B6E880",
           "#FF97FF",
           "#FECB52"
          ],
          "font": {
           "color": "#2a3f5f"
          },
          "geo": {
           "bgcolor": "white",
           "lakecolor": "white",
           "landcolor": "#E5ECF6",
           "showlakes": true,
           "showland": true,
           "subunitcolor": "white"
          },
          "hoverlabel": {
           "align": "left"
          },
          "hovermode": "closest",
          "mapbox": {
           "style": "light"
          },
          "paper_bgcolor": "white",
          "plot_bgcolor": "#E5ECF6",
          "polar": {
           "angularaxis": {
            "gridcolor": "white",
            "linecolor": "white",
            "ticks": ""
           },
           "bgcolor": "#E5ECF6",
           "radialaxis": {
            "gridcolor": "white",
            "linecolor": "white",
            "ticks": ""
           }
          },
          "scene": {
           "xaxis": {
            "backgroundcolor": "#E5ECF6",
            "gridcolor": "white",
            "gridwidth": 2,
            "linecolor": "white",
            "showbackground": true,
            "ticks": "",
            "zerolinecolor": "white"
           },
           "yaxis": {
            "backgroundcolor": "#E5ECF6",
            "gridcolor": "white",
            "gridwidth": 2,
            "linecolor": "white",
            "showbackground": true,
            "ticks": "",
            "zerolinecolor": "white"
           },
           "zaxis": {
            "backgroundcolor": "#E5ECF6",
            "gridcolor": "white",
            "gridwidth": 2,
            "linecolor": "white",
            "showbackground": true,
            "ticks": "",
            "zerolinecolor": "white"
           }
          },
          "shapedefaults": {
           "line": {
            "color": "#2a3f5f"
           }
          },
          "ternary": {
           "aaxis": {
            "gridcolor": "white",
            "linecolor": "white",
            "ticks": ""
           },
           "baxis": {
            "gridcolor": "white",
            "linecolor": "white",
            "ticks": ""
           },
           "bgcolor": "#E5ECF6",
           "caxis": {
            "gridcolor": "white",
            "linecolor": "white",
            "ticks": ""
           }
          },
          "title": {
           "x": 0.05
          },
          "xaxis": {
           "automargin": true,
           "gridcolor": "white",
           "linecolor": "white",
           "ticks": "",
           "title": {
            "standoff": 15
           },
           "zerolinecolor": "white",
           "zerolinewidth": 2
          },
          "yaxis": {
           "automargin": true,
           "gridcolor": "white",
           "linecolor": "white",
           "ticks": "",
           "title": {
            "standoff": 15
           },
           "zerolinecolor": "white",
           "zerolinewidth": 2
          }
         }
        },
        "title": {
         "text": "Distribuição das Variáveis"
        },
        "xaxis": {
         "anchor": "y",
         "domain": [
          0,
          1
         ],
         "title": {
          "text": "variable"
         }
        },
        "yaxis": {
         "anchor": "x",
         "domain": [
          0,
          1
         ],
         "title": {
          "text": "value"
         }
        }
       }
      }
     },
     "metadata": {},
     "output_type": "display_data"
    }
   ],
   "source": [
    "fig = px.box(df, y=['Age', 'Annual Income (k$)', 'Spending Score (1-100)'], title=\"Distribuição das Variáveis\")\n",
    "fig.show()\n"
   ]
  },
  {
   "cell_type": "markdown",
   "metadata": {},
   "source": [
    "Visualizando quais são os clientes que estão com Income acima do Q3."
   ]
  },
  {
   "cell_type": "code",
   "execution_count": 6,
   "metadata": {},
   "outputs": [
    {
     "name": "stdout",
     "output_type": "stream",
     "text": [
      "     CustomerID Gender  Age  Annual Income (k$)  Spending Score (1-100)\n",
      "198         199   Male   32                 137                      18\n",
      "199         200   Male   30                 137                      83\n"
     ]
    }
   ],
   "source": [
    "print(df.loc[df['Annual Income (k$)'] >= 137])"
   ]
  },
  {
   "cell_type": "markdown",
   "metadata": {},
   "source": [
    "Identificamos dois clientes com **Annual Income = 137**, ambos na mesma faixa etária (30-32 anos).  \n",
    "Embora esses valores estejam acima do terceiro quartil (**Q3 = 126**), **não podem ser considerados outliers estatísticos**, pois estão dentro da distribuição esperada do dataset.  \n",
    "\n",
    "Apesar da similaridade na renda, os clientes apresentam padrões de consumo distintos:  \n",
    "- **Cliente 199:** Baixo Spending Score (18) → Perfil mais conservador, com tendência a menor consumo.  \n",
    "- **Cliente 200:** Alto Spending Score (83) → Gastos mais ativos, possivelmente um consumidor premium.  \n",
    "\n",
    "Essa segmentação pode ser útil para estratégias de marketing, possibilitando a personalização de ofertas.  \n",
    "Clientes com menor índice de gastos podem ser incentivados por meio de descontos exclusivos, enquanto consumidores mais ativos podem ser beneficiados com programas de fidelidade e experiências premium.  "
   ]
  },
  {
   "cell_type": "code",
   "execution_count": 7,
   "metadata": {},
   "outputs": [
    {
     "data": {
      "image/png": "[encoded data removed]",
      "text/plain": [
       "<Figure size 800x600 with 1 Axes>"
      ]
     },
     "metadata": {},
     "output_type": "display_data"
    }
   ],
   "source": [
    "plt.figure(figsize=(8,6))\n",
    "sns.scatterplot(x=df['Annual Income (k$)'], y=df['Spending Score (1-100)'])\n",
    "plt.title(\"Relação entre Annual Income e Spending Score\")\n",
    "plt.xlabel(\"Annual Income (k$)\")\n",
    "plt.ylabel(\"Spending Score (1-100)\")\n",
    "plt.show()\n"
   ]
  },
  {
   "cell_type": "markdown",
   "metadata": {},
   "source": [
    "A análise do gráfico de dispersão indica que **não há uma relação linear clara** entre renda anual (**Annual Income**) e padrão de gastos (**Spending Score**). A distribuição dos pontos sugere que clientes com diferentes faixas de renda apresentam hábitos de consumo variados, sem um padrão previsível.  \n",
    "\n",
    "Podemos identificar de quatro a cinco grupos distintos:\n",
    "- Clientes com **Baixa renda, baixo Spending Score** → Clientes econômicos que gastam pouco.\n",
    "- Clientes com **Baixa renda, alto Spending Score** → Possível perfil de consumo impulsivo.\n",
    "- Clientes do **Grupo intermediário** → Um conjunto de clientes com renda e gastos moderados.\n",
    "- Clientes com **alta renda e baixo Spending Score** → Tendência a menor consumo, possivelmente um perfil mais conservador.  \n",
    "- Clientes com **alta renda e alto Spending Score** → Gastos mais ativos, possível perfil premium ou impulsivo.  \n",
    "\n",
    "Essa dispersão sugere que o comportamento de consumo não está diretamente ligado à renda e reforça a necessidade de **segmentação baseada em comportamento**.  \n",
    "A **clusterização** e a utilização do **K-Means** podem ajudar elaboração de ações mais precisas para campanhas de marketing e personalização de ofertas.  \n"
   ]
  },
  {
   "cell_type": "code",
   "execution_count": 8,
   "metadata": {},
   "outputs": [
    {
     "data": {
      "application/vnd.plotly.v1+json": {
       "config": {
        "plotlyServerURL": "https://plot.ly"
       },
       "data": [
        {
         "alignmentgroup": "True",
         "hovertemplate": "Gender=%{x}<br>Annual Income (k$)=%{y}<extra></extra>",
         "legendgroup": "Male",
         "marker": {
          "color": "#636efa"
         },
         "name": "Male",
         "notched": false,
         "offsetgroup": "Male",
         "orientation": "v",
         "showlegend": true,
         "type": "box",
         "x": [
          "Male",
          "Male",
          "Male",
          "Male",
          "Male",
          "Male",
          "Male",
          "Male",
          "Male",
          "Male",
          "Male",
          "Male",
          "Male",
          "Male",
          "Male",
          "Male",
          "Male",
          "Male",
          "Male",
          "Male",
          "Male",
          "Male",
          "Male",
          "Male",
          "Male",
          "Male",
          "Male",
          "Male",
          "Male",
          "Male",
          "Male",
          "Male",
          "Male",
          "Male",
          "Male",
          "Male",
          "Male",
          "Male",
          "Male",
          "Male",
          "Male",
          "Male",
          "Male",
          "Male",
          "Male",
          "Male",
          "Male",
          "Male",
          "Male",
          "Male",
          "Male",
          "Male",
          "Male",
          "Male",
          "Male",
          "Male",
          "Male",
          "Male",
          "Male",
          "Male",
          "Male",
          "Male",
          "Male",
          "Male",
          "Male",
          "Male",
          "Male",
          "Male",
          "Male",
          "Male",
          "Male",
          "Male",
          "Male",
          "Male",
          "Male",
          "Male",
          "Male",
          "Male",
          "Male",
          "Male",
          "Male",
          "Male",
          "Male",
          "Male",
          "Male",
          "Male",
          "Male",
          "Male"
         ],
         "x0": " ",
         "xaxis": "x",
         "y": [
          15,
          15,
          19,
          19,
          20,
          20,
          21,
          23,
          24,
          24,
          25,
          28,
          28,
          30,
          33,
          33,
          38,
          39,
          42,
          43,
          43,
          44,
          46,
          46,
          46,
          48,
          48,
          48,
          49,
          54,
          54,
          54,
          54,
          54,
          54,
          54,
          59,
          60,
          60,
          61,
          61,
          62,
          62,
          62,
          63,
          63,
          63,
          63,
          64,
          67,
          69,
          71,
          71,
          71,
          71,
          71,
          71,
          73,
          73,
          74,
          75,
          77,
          77,
          77,
          78,
          78,
          78,
          78,
          78,
          81,
          85,
          86,
          87,
          87,
          87,
          87,
          87,
          88,
          88,
          93,
          93,
          98,
          99,
          101,
          113,
          126,
          137,
          137
         ],
         "y0": " ",
         "yaxis": "y"
        },
        {
         "alignmentgroup": "True",
         "hovertemplate": "Gender=%{x}<br>Annual Income (k$)=%{y}<extra></extra>",
         "legendgroup": "Female",
         "marker": {
          "color": "#EF553B"
         },
         "name": "Female",
         "notched": false,
         "offsetgroup": "Female",
         "orientation": "v",
         "showlegend": true,
         "type": "box",
         "x": [
          "Female",
          "Female",
          "Female",
          "Female",
          "Female",
          "Female",
          "Female",
          "Female",
          "Female",
          "Female",
          "Female",
          "Female",
          "Female",
          "Female",
          "Female",
          "Female",
          "Female",
          "Female",
          "Female",
          "Female",
          "Female",
          "Female",
          "Female",
          "Female",
          "Female",
          "Female",
          "Female",
          "Female",
          "Female",
          "Female",
          "Female",
          "Female",
          "Female",
          "Female",
          "Female",
          "Female",
          "Female",
          "Female",
          "Female",
          "Female",
          "Female",
          "Female",
          "Female",
          "Female",
          "Female",
          "Female",
          "Female",
          "Female",
          "Female",
          "Female",
          "Female",
          "Female",
          "Female",
          "Female",
          "Female",
          "Female",
          "Female",
          "Female",
          "Female",
          "Female",
          "Female",
          "Female",
          "Female",
          "Female",
          "Female",
          "Female",
          "Female",
          "Female",
          "Female",
          "Female",
          "Female",
          "Female",
          "Female",
          "Female",
          "Female",
          "Female",
          "Female",
          "Female",
          "Female",
          "Female",
          "Female",
          "Female",
          "Female",
          "Female",
          "Female",
          "Female",
          "Female",
          "Female",
          "Female",
          "Female",
          "Female",
          "Female",
          "Female",
          "Female",
          "Female",
          "Female",
          "Female",
          "Female",
          "Female",
          "Female",
          "Female",
          "Female",
          "Female",
          "Female",
          "Female",
          "Female",
          "Female",
          "Female",
          "Female",
          "Female",
          "Female",
          "Female"
         ],
         "x0": " ",
         "xaxis": "x",
         "y": [
          16,
          16,
          17,
          17,
          18,
          18,
          19,
          19,
          20,
          20,
          21,
          23,
          25,
          28,
          28,
          29,
          29,
          30,
          33,
          33,
          34,
          34,
          37,
          37,
          38,
          39,
          39,
          39,
          40,
          40,
          40,
          40,
          42,
          43,
          43,
          44,
          46,
          47,
          47,
          48,
          48,
          48,
          49,
          50,
          50,
          54,
          54,
          54,
          54,
          54,
          57,
          57,
          58,
          58,
          59,
          60,
          60,
          60,
          60,
          62,
          62,
          62,
          63,
          63,
          64,
          65,
          65,
          65,
          65,
          67,
          67,
          67,
          69,
          70,
          70,
          72,
          72,
          73,
          73,
          74,
          75,
          76,
          76,
          77,
          78,
          78,
          78,
          78,
          78,
          78,
          78,
          79,
          79,
          81,
          85,
          86,
          87,
          88,
          88,
          97,
          97,
          98,
          99,
          101,
          103,
          103,
          103,
          103,
          113,
          120,
          120,
          126
         ],
         "y0": " ",
         "yaxis": "y"
        }
       ],
       "layout": {
        "annotations": [
         {
          "font": {
           "size": 12
          },
          "showarrow": true,
          "text": "Total: 112",
          "x": "Female",
          "y": 137
         },
         {
          "font": {
           "size": 12
          },
          "showarrow": true,
          "text": "Total: 88",
          "x": "Male",
          "y": 137
         }
        ],
        "boxmode": "overlay",
        "legend": {
         "title": {
          "text": "Gender"
         },
         "tracegroupgap": 0
        },
        "template": {
         "data": {
          "bar": [
           {
            "error_x": {
             "color": "#2a3f5f"
            },
            "error_y": {
             "color": "#2a3f5f"
            },
            "marker": {
             "line": {
              "color": "#E5ECF6",
              "width": 0.5
             },
             "pattern": {
              "fillmode": "overlay",
              "size": 10,
              "solidity": 0.2
             }
            },
            "type": "bar"
           }
          ],
          "barpolar": [
           {
            "marker": {
             "line": {
              "color": "#E5ECF6",
              "width": 0.5
             },
             "pattern": {
              "fillmode": "overlay",
              "size": 10,
              "solidity": 0.2
             }
            },
            "type": "barpolar"
           }
          ],
          "carpet": [
           {
            "aaxis": {
             "endlinecolor": "#2a3f5f",
             "gridcolor": "white",
             "linecolor": "white",
             "minorgridcolor": "white",
             "startlinecolor": "#2a3f5f"
            },
            "baxis": {
             "endlinecolor": "#2a3f5f",
             "gridcolor": "white",
             "linecolor": "white",
             "minorgridcolor": "white",
             "startlinecolor": "#2a3f5f"
            },
            "type": "carpet"
           }
          ],
          "choropleth": [
           {
            "colorbar": {
             "outlinewidth": 0,
             "ticks": ""
            },
            "type": "choropleth"
           }
          ],
          "contour": [
           {
            "colorbar": {
             "outlinewidth": 0,
             "ticks": ""
            },
            "colorscale": [
             [
              0,
              "#0d0887"
             ],
             [
              0.1111111111111111,
              "#46039f"
             ],
             [
              0.2222222222222222,
              "#7201a8"
             ],
             [
              0.3333333333333333,
              "#9c179e"
             ],
             [
              0.4444444444444444,
              "#bd3786"
             ],
             [
              0.5555555555555556,
              "#d8576b"
             ],
             [
              0.6666666666666666,
              "#ed7953"
             ],
             [
              0.7777777777777778,
              "#fb9f3a"
             ],
             [
              0.8888888888888888,
              "#fdca26"
             ],
             [
              1,
              "#f0f921"
             ]
            ],
            "type": "contour"
           }
          ],
          "contourcarpet": [
           {
            "colorbar": {
             "outlinewidth": 0,
             "ticks": ""
            },
            "type": "contourcarpet"
           }
          ],
          "heatmap": [
           {
            "colorbar": {
             "outlinewidth": 0,
             "ticks": ""
            },
            "colorscale": [
             [
              0,
              "#0d0887"
             ],
             [
              0.1111111111111111,
              "#46039f"
             ],
             [
              0.2222222222222222,
              "#7201a8"
             ],
             [
              0.3333333333333333,
              "#9c179e"
             ],
             [
              0.4444444444444444,
              "#bd3786"
             ],
             [
              0.5555555555555556,
              "#d8576b"
             ],
             [
              0.6666666666666666,
              "#ed7953"
             ],
             [
              0.7777777777777778,
              "#fb9f3a"
             ],
             [
              0.8888888888888888,
              "#fdca26"
             ],
             [
              1,
              "#f0f921"
             ]
            ],
            "type": "heatmap"
           }
          ],
          "heatmapgl": [
           {
            "colorbar": {
             "outlinewidth": 0,
             "ticks": ""
            },
            "colorscale": [
             [
              0,
              "#0d0887"
             ],
             [
              0.1111111111111111,
              "#46039f"
             ],
             [
              0.2222222222222222,
              "#7201a8"
             ],
             [
              0.3333333333333333,
              "#9c179e"
             ],
             [
              0.4444444444444444,
              "#bd3786"
             ],
             [
              0.5555555555555556,
              "#d8576b"
             ],
             [
              0.6666666666666666,
              "#ed7953"
             ],
             [
              0.7777777777777778,
              "#fb9f3a"
             ],
             [
              0.8888888888888888,
              "#fdca26"
             ],
             [
              1,
              "#f0f921"
             ]
            ],
            "type": "heatmapgl"
           }
          ],
          "histogram": [
           {
            "marker": {
             "pattern": {
              "fillmode": "overlay",
              "size": 10,
              "solidity": 0.2
             }
            },
            "type": "histogram"
           }
          ],
          "histogram2d": [
           {
            "colorbar": {
             "outlinewidth": 0,
             "ticks": ""
            },
            "colorscale": [
             [
              0,
              "#0d0887"
             ],
             [
              0.1111111111111111,
              "#46039f"
             ],
             [
              0.2222222222222222,
              "#7201a8"
             ],
             [
              0.3333333333333333,
              "#9c179e"
             ],
             [
              0.4444444444444444,
              "#bd3786"
             ],
             [
              0.5555555555555556,
              "#d8576b"
             ],
             [
              0.6666666666666666,
              "#ed7953"
             ],
             [
              0.7777777777777778,
              "#fb9f3a"
             ],
             [
              0.8888888888888888,
              "#fdca26"
             ],
             [
              1,
              "#f0f921"
             ]
            ],
            "type": "histogram2d"
           }
          ],
          "histogram2dcontour": [
           {
            "colorbar": {
             "outlinewidth": 0,
             "ticks": ""
            },
            "colorscale": [
             [
              0,
              "#0d0887"
             ],
             [
              0.1111111111111111,
              "#46039f"
             ],
             [
              0.2222222222222222,
              "#7201a8"
             ],
             [
              0.3333333333333333,
              "#9c179e"
             ],
             [
              0.4444444444444444,
              "#bd3786"
             ],
             [
              0.5555555555555556,
              "#d8576b"
             ],
             [
              0.6666666666666666,
              "#ed7953"
             ],
             [
              0.7777777777777778,
              "#fb9f3a"
             ],
             [
              0.8888888888888888,
              "#fdca26"
             ],
             [
              1,
              "#f0f921"
             ]
            ],
            "type": "histogram2dcontour"
           }
          ],
          "mesh3d": [
           {
            "colorbar": {
             "outlinewidth": 0,
             "ticks": ""
            },
            "type": "mesh3d"
           }
          ],
          "parcoords": [
           {
            "line": {
             "colorbar": {
              "outlinewidth": 0,
              "ticks": ""
             }
            },
            "type": "parcoords"
           }
          ],
          "pie": [
           {
            "automargin": true,
            "type": "pie"
           }
          ],
          "scatter": [
           {
            "fillpattern": {
             "fillmode": "overlay",
             "size": 10,
             "solidity": 0.2
            },
            "type": "scatter"
           }
          ],
          "scatter3d": [
           {
            "line": {
             "colorbar": {
              "outlinewidth": 0,
              "ticks": ""
             }
            },
            "marker": {
             "colorbar": {
              "outlinewidth": 0,
              "ticks": ""
             }
            },
            "type": "scatter3d"
           }
          ],
          "scattercarpet": [
           {
            "marker": {
             "colorbar": {
              "outlinewidth": 0,
              "ticks": ""
             }
            },
            "type": "scattercarpet"
           }
          ],
          "scattergeo": [
           {
            "marker": {
             "colorbar": {
              "outlinewidth": 0,
              "ticks": ""
             }
            },
            "type": "scattergeo"
           }
          ],
          "scattergl": [
           {
            "marker": {
             "colorbar": {
              "outlinewidth": 0,
              "ticks": ""
             }
            },
            "type": "scattergl"
           }
          ],
          "scattermapbox": [
           {
            "marker": {
             "colorbar": {
              "outlinewidth": 0,
              "ticks": ""
             }
            },
            "type": "scattermapbox"
           }
          ],
          "scatterpolar": [
           {
            "marker": {
             "colorbar": {
              "outlinewidth": 0,
              "ticks": ""
             }
            },
            "type": "scatterpolar"
           }
          ],
          "scatterpolargl": [
           {
            "marker": {
             "colorbar": {
              "outlinewidth": 0,
              "ticks": ""
             }
            },
            "type": "scatterpolargl"
           }
          ],
          "scatterternary": [
           {
            "marker": {
             "colorbar": {
              "outlinewidth": 0,
              "ticks": ""
             }
            },
            "type": "scatterternary"
           }
          ],
          "surface": [
           {
            "colorbar": {
             "outlinewidth": 0,
             "ticks": ""
            },
            "colorscale": [
             [
              0,
              "#0d0887"
             ],
             [
              0.1111111111111111,
              "#46039f"
             ],
             [
              0.2222222222222222,
              "#7201a8"
             ],
             [
              0.3333333333333333,
              "#9c179e"
             ],
             [
              0.4444444444444444,
              "#bd3786"
             ],
             [
              0.5555555555555556,
              "#d8576b"
             ],
             [
              0.6666666666666666,
              "#ed7953"
             ],
             [
              0.7777777777777778,
              "#fb9f3a"
             ],
             [
              0.8888888888888888,
              "#fdca26"
             ],
             [
              1,
              "#f0f921"
             ]
            ],
            "type": "surface"
           }
          ],
          "table": [
           {
            "cells": {
             "fill": {
              "color": "#EBF0F8"
             },
             "line": {
              "color": "white"
             }
            },
            "header": {
             "fill": {
              "color": "#C8D4E3"
             },
             "line": {
              "color": "white"
             }
            },
            "type": "table"
           }
          ]
         },
         "layout": {
          "annotationdefaults": {
           "arrowcolor": "#2a3f5f",
           "arrowhead": 0,
           "arrowwidth": 1
          },
          "autotypenumbers": "strict",
          "coloraxis": {
           "colorbar": {
            "outlinewidth": 0,
            "ticks": ""
           }
          },
          "colorscale": {
           "diverging": [
            [
             0,
             "#8e0152"
            ],
            [
             0.1,
             "#c51b7d"
            ],
            [
             0.2,
             "#de77ae"
            ],
            [
             0.3,
             "#f1b6da"
            ],
            [
             0.4,
             "#fde0ef"
            ],
            [
             0.5,
             "#f7f7f7"
            ],
            [
             0.6,
             "#e6f5d0"
            ],
            [
             0.7,
             "#b8e186"
            ],
            [
             0.8,
             "#7fbc41"
            ],
            [
             0.9,
             "#4d9221"
            ],
            [
             1,
             "#276419"
            ]
           ],
           "sequential": [
            [
             0,
             "#0d0887"
            ],
            [
             0.1111111111111111,
             "#46039f"
            ],
            [
             0.2222222222222222,
             "#7201a8"
            ],
            [
             0.3333333333333333,
             "#9c179e"
            ],
            [
             0.4444444444444444,
             "#bd3786"
            ],
            [
             0.5555555555555556,
             "#d8576b"
            ],
            [
             0.6666666666666666,
             "#ed7953"
            ],
            [
             0.7777777777777778,
             "#fb9f3a"
            ],
            [
             0.8888888888888888,
             "#fdca26"
            ],
            [
             1,
             "#f0f921"
            ]
           ],
           "sequentialminus": [
            [
             0,
             "#0d0887"
            ],
            [
             0.1111111111111111,
             "#46039f"
            ],
            [
             0.2222222222222222,
             "#7201a8"
            ],
            [
             0.3333333333333333,
             "#9c179e"
            ],
            [
             0.4444444444444444,
             "#bd3786"
            ],
            [
             0.5555555555555556,
             "#d8576b"
            ],
            [
             0.6666666666666666,
             "#ed7953"
            ],
            [
             0.7777777777777778,
             "#fb9f3a"
            ],
            [
             0.8888888888888888,
             "#fdca26"
            ],
            [
             1,
             "#f0f921"
            ]
           ]
          },
          "colorway": [
           "#636efa",
           "#EF553B",
           "#00cc96",
           "#ab63fa",
           "#FFA15A",
           "#19d3f3",
           "#FF6692",
           "#B6E880",
           "#FF97FF",
           "#FECB52"
          ],
          "font": {
           "color": "#2a3f5f"
          },
          "geo": {
           "bgcolor": "white",
           "lakecolor": "white",
           "landcolor": "#E5ECF6",
           "showlakes": true,
           "showland": true,
           "subunitcolor": "white"
          },
          "hoverlabel": {
           "align": "left"
          },
          "hovermode": "closest",
          "mapbox": {
           "style": "light"
          },
          "paper_bgcolor": "white",
          "plot_bgcolor": "#E5ECF6",
          "polar": {
           "angularaxis": {
            "gridcolor": "white",
            "linecolor": "white",
            "ticks": ""
           },
           "bgcolor": "#E5ECF6",
           "radialaxis": {
            "gridcolor": "white",
            "linecolor": "white",
            "ticks": ""
           }
          },
          "scene": {
           "xaxis": {
            "backgroundcolor": "#E5ECF6",
            "gridcolor": "white",
            "gridwidth": 2,
            "linecolor": "white",
            "showbackground": true,
            "ticks": "",
            "zerolinecolor": "white"
           },
           "yaxis": {
            "backgroundcolor": "#E5ECF6",
            "gridcolor": "white",
            "gridwidth": 2,
            "linecolor": "white",
            "showbackground": true,
            "ticks": "",
            "zerolinecolor": "white"
           },
           "zaxis": {
            "backgroundcolor": "#E5ECF6",
            "gridcolor": "white",
            "gridwidth": 2,
            "linecolor": "white",
            "showbackground": true,
            "ticks": "",
            "zerolinecolor": "white"
           }
          },
          "shapedefaults": {
           "line": {
            "color": "#2a3f5f"
           }
          },
          "ternary": {
           "aaxis": {
            "gridcolor": "white",
            "linecolor": "white",
            "ticks": ""
           },
           "baxis": {
            "gridcolor": "white",
            "linecolor": "white",
            "ticks": ""
           },
           "bgcolor": "#E5ECF6",
           "caxis": {
            "gridcolor": "white",
            "linecolor": "white",
            "ticks": ""
           }
          },
          "title": {
           "x": 0.05
          },
          "xaxis": {
           "automargin": true,
           "gridcolor": "white",
           "linecolor": "white",
           "ticks": "",
           "title": {
            "standoff": 15
           },
           "zerolinecolor": "white",
           "zerolinewidth": 2
          },
          "yaxis": {
           "automargin": true,
           "gridcolor": "white",
           "linecolor": "white",
           "ticks": "",
           "title": {
            "standoff": 15
           },
           "zerolinecolor": "white",
           "zerolinewidth": 2
          }
         }
        },
        "title": {
         "text": "Distribuição de Renda por Gênero"
        },
        "xaxis": {
         "anchor": "y",
         "categoryarray": [
          "Male",
          "Female"
         ],
         "categoryorder": "array",
         "domain": [
          0,
          1
         ],
         "title": {
          "text": "Gender"
         }
        },
        "yaxis": {
         "anchor": "x",
         "domain": [
          0,
          1
         ],
         "title": {
          "text": "Annual Income (k$)"
         }
        }
       }
      }
     },
     "metadata": {},
     "output_type": "display_data"
    }
   ],
   "source": [
    "fig = px.box(df, x='Gender', y='Annual Income (k$)', \n",
    "             title=\"Distribuição de Renda por Gênero\", \n",
    "             color='Gender')\n",
    "\n",
    "contagem_genero = df['Gender'].value_counts()\n",
    "for gender, count in zip(contagem_genero.index, contagem_genero.values):\n",
    "    fig.add_annotation(x=gender, y=df['Annual Income (k$)'].max(), \n",
    "                       text=f\"Total: {count}\", showarrow=True, font=dict(size=12))\n",
    "fig.show()"
   ]
  },
  {
   "cell_type": "markdown",
   "metadata": {},
   "source": [
    "A análise do gráfico de boxplot indica que **não há variação significativa na renda entre os gêneros**.  \n",
    "Observam-se alguns clientes com rendas elevadas em ambos os grupos, sugerindo que a distribuição de renda não está concentrada apenas em um gênero específico.  \n",
    "\n",
    "Além disso, os dados indicam que:  \n",
    "- O **intervalo interquartil (IQR)** para ambos os gêneros apresenta padrões semelhantes, Feminino = 60 e Masculino = 62,5\n",
    "- A contagem de clientes revela uma distribuição equilibrada entre os gêneros, reforçando que as análises podem ser feitas sem viés de amostragem.  \n",
    "\n",
    "Observação relevante para estratégias de **personalização de ofertas** e segmentação de marketing, garantindo que ações específicas sejam baseadas em **comportamento** em vez de apenas fatores demográficos.  \n"
   ]
  },
  {
   "cell_type": "code",
   "execution_count": 9,
   "metadata": {},
   "outputs": [
    {
     "data": {
      "application/vnd.plotly.v1+json": {
       "config": {
        "plotlyServerURL": "https://plot.ly"
       },
       "data": [
        {
         "hovertemplate": "Age=%{marker.color}<br>Spending Score (1-100)=%{y}<extra></extra>",
         "legendgroup": "",
         "marker": {
          "color": [
           19,
           21,
           20,
           23,
           31,
           22,
           35,
           23,
           64,
           30,
           67,
           35,
           58,
           24,
           37,
           22,
           35,
           20,
           52,
           35,
           35,
           25,
           46,
           31,
           54,
           29,
           45,
           35,
           40,
           23,
           60,
           21,
           53,
           18,
           49,
           21,
           42,
           30,
           36,
           20,
           65,
           24,
           48,
           31,
           49,
           24,
           50,
           27,
           29,
           31,
           49,
           33,
           31,
           59,
           50,
           47,
           51,
           69,
           27,
           53,
           70,
           19,
           67,
           54,
           63,
           18,
           43,
           68,
           19,
           32,
           70,
           47,
           60,
           60,
           59,
           26,
           45,
           40,
           23,
           49,
           57,
           38,
           67,
           46,
           21,
           48,
           55,
           22,
           34,
           50,
           68,
           18,
           48,
           40,
           32,
           24,
           47,
           27,
           48,
           20,
           23,
           49,
           67,
           26,
           49,
           21,
           66,
           54,
           68,
           66,
           65,
           19,
           38,
           19,
           18,
           19,
           63,
           49,
           51,
           50,
           27,
           38,
           40,
           39,
           23,
           31,
           43,
           40,
           59,
           38,
           47,
           39,
           25,
           31,
           20,
           29,
           44,
           32,
           19,
           35,
           57,
           32,
           28,
           32,
           25,
           28,
           48,
           32,
           34,
           34,
           43,
           39,
           44,
           38,
           47,
           27,
           37,
           30,
           34,
           30,
           56,
           29,
           19,
           31,
           50,
           36,
           42,
           33,
           36,
           32,
           40,
           28,
           36,
           36,
           52,
           30,
           58,
           27,
           59,
           35,
           37,
           32,
           46,
           29,
           41,
           30,
           54,
           28,
           41,
           36,
           34,
           32,
           33,
           38,
           47,
           35,
           45,
           32,
           32,
           30
          ],
          "coloraxis": "coloraxis",
          "symbol": "circle"
         },
         "mode": "markers",
         "name": "",
         "orientation": "v",
         "showlegend": false,
         "type": "scatter",
         "x": [
          19,
          21,
          20,
          23,
          31,
          22,
          35,
          23,
          64,
          30,
          67,
          35,
          58,
          24,
          37,
          22,
          35,
          20,
          52,
          35,
          35,
          25,
          46,
          31,
          54,
          29,
          45,
          35,
          40,
          23,
          60,
          21,
          53,
          18,
          49,
          21,
          42,
          30,
          36,
          20,
          65,
          24,
          48,
          31,
          49,
          24,
          50,
          27,
          29,
          31,
          49,
          33,
          31,
          59,
          50,
          47,
          51,
          69,
          27,
          53,
          70,
          19,
          67,
          54,
          63,
          18,
          43,
          68,
          19,
          32,
          70,
          47,
          60,
          60,
          59,
          26,
          45,
          40,
          23,
          49,
          57,
          38,
          67,
          46,
          21,
          48,
          55,
          22,
          34,
          50,
          68,
          18,
          48,
          40,
          32,
          24,
          47,
          27,
          48,
          20,
          23,
          49,
          67,
          26,
          49,
          21,
          66,
          54,
          68,
          66,
          65,
          19,
          38,
          19,
          18,
          19,
          63,
          49,
          51,
          50,
          27,
          38,
          40,
          39,
          23,
          31,
          43,
          40,
          59,
          38,
          47,
          39,
          25,
          31,
          20,
          29,
          44,
          32,
          19,
          35,
          57,
          32,
          28,
          32,
          25,
          28,
          48,
          32,
          34,
          34,
          43,
          39,
          44,
          38,
          47,
          27,
          37,
          30,
          34,
          30,
          56,
          29,
          19,
          31,
          50,
          36,
          42,
          33,
          36,
          32,
          40,
          28,
          36,
          36,
          52,
          30,
          58,
          27,
          59,
          35,
          37,
          32,
          46,
          29,
          41,
          30,
          54,
          28,
          41,
          36,
          34,
          32,
          33,
          38,
          47,
          35,
          45,
          32,
          32,
          30
         ],
         "xaxis": "x",
         "y": [
          39,
          81,
          6,
          77,
          40,
          76,
          6,
          94,
          3,
          72,
          14,
          99,
          15,
          77,
          13,
          79,
          35,
          66,
          29,
          98,
          35,
          73,
          5,
          73,
          14,
          82,
          32,
          61,
          31,
          87,
          4,
          73,
          4,
          92,
          14,
          81,
          17,
          73,
          26,
          75,
          35,
          92,
          36,
          61,
          28,
          65,
          55,
          47,
          42,
          42,
          52,
          60,
          54,
          60,
          45,
          41,
          50,
          46,
          51,
          46,
          56,
          55,
          52,
          59,
          51,
          59,
          50,
          48,
          59,
          47,
          55,
          42,
          49,
          56,
          47,
          54,
          53,
          48,
          52,
          42,
          51,
          55,
          41,
          44,
          57,
          46,
          58,
          55,
          60,
          46,
          55,
          41,
          49,
          40,
          42,
          52,
          47,
          50,
          42,
          49,
          41,
          48,
          59,
          55,
          56,
          42,
          50,
          46,
          43,
          48,
          52,
          54,
          42,
          46,
          48,
          50,
          43,
          59,
          43,
          57,
          56,
          40,
          58,
          91,
          29,
          77,
          35,
          95,
          11,
          75,
          9,
          75,
          34,
          71,
          5,
          88,
          7,
          73,
          10,
          72,
          5,
          93,
          40,
          87,
          12,
          97,
          36,
          74,
          22,
          90,
          17,
          88,
          20,
          76,
          16,
          89,
          1,
          78,
          1,
          73,
          35,
          83,
          5,
          93,
          26,
          75,
          20,
          95,
          27,
          63,
          13,
          75,
          10,
          92,
          13,
          86,
          15,
          69,
          14,
          90,
          32,
          86,
          15,
          88,
          39,
          97,
          24,
          68,
          17,
          85,
          23,
          69,
          8,
          91,
          16,
          79,
          28,
          74,
          18,
          83
         ],
         "yaxis": "y"
        }
       ],
       "layout": {
        "coloraxis": {
         "colorbar": {
          "title": {
           "text": "Age"
          }
         },
         "colorscale": [
          [
           0,
           "#440154"
          ],
          [
           0.1111111111111111,
           "#482878"
          ],
          [
           0.2222222222222222,
           "#3e4989"
          ],
          [
           0.3333333333333333,
           "#31688e"
          ],
          [
           0.4444444444444444,
           "#26828e"
          ],
          [
           0.5555555555555556,
           "#1f9e89"
          ],
          [
           0.6666666666666666,
           "#35b779"
          ],
          [
           0.7777777777777778,
           "#6ece58"
          ],
          [
           0.8888888888888888,
           "#b5de2b"
          ],
          [
           1,
           "#fde725"
          ]
         ]
        },
        "legend": {
         "tracegroupgap": 0
        },
        "template": {
         "data": {
          "bar": [
           {
            "error_x": {
             "color": "#2a3f5f"
            },
            "error_y": {
             "color": "#2a3f5f"
            },
            "marker": {
             "line": {
              "color": "#E5ECF6",
              "width": 0.5
             },
             "pattern": {
              "fillmode": "overlay",
              "size": 10,
              "solidity": 0.2
             }
            },
            "type": "bar"
           }
          ],
          "barpolar": [
           {
            "marker": {
             "line": {
              "color": "#E5ECF6",
              "width": 0.5
             },
             "pattern": {
              "fillmode": "overlay",
              "size": 10,
              "solidity": 0.2
             }
            },
            "type": "barpolar"
           }
          ],
          "carpet": [
           {
            "aaxis": {
             "endlinecolor": "#2a3f5f",
             "gridcolor": "white",
             "linecolor": "white",
             "minorgridcolor": "white",
             "startlinecolor": "#2a3f5f"
            },
            "baxis": {
             "endlinecolor": "#2a3f5f",
             "gridcolor": "white",
             "linecolor": "white",
             "minorgridcolor": "white",
             "startlinecolor": "#2a3f5f"
            },
            "type": "carpet"
           }
          ],
          "choropleth": [
           {
            "colorbar": {
             "outlinewidth": 0,
             "ticks": ""
            },
            "type": "choropleth"
           }
          ],
          "contour": [
           {
            "colorbar": {
             "outlinewidth": 0,
             "ticks": ""
            },
            "colorscale": [
             [
              0,
              "#0d0887"
             ],
             [
              0.1111111111111111,
              "#46039f"
             ],
             [
              0.2222222222222222,
              "#7201a8"
             ],
             [
              0.3333333333333333,
              "#9c179e"
             ],
             [
              0.4444444444444444,
              "#bd3786"
             ],
             [
              0.5555555555555556,
              "#d8576b"
             ],
             [
              0.6666666666666666,
              "#ed7953"
             ],
             [
              0.7777777777777778,
              "#fb9f3a"
             ],
             [
              0.8888888888888888,
              "#fdca26"
             ],
             [
              1,
              "#f0f921"
             ]
            ],
            "type": "contour"
           }
          ],
          "contourcarpet": [
           {
            "colorbar": {
             "outlinewidth": 0,
             "ticks": ""
            },
            "type": "contourcarpet"
           }
          ],
          "heatmap": [
           {
            "colorbar": {
             "outlinewidth": 0,
             "ticks": ""
            },
            "colorscale": [
             [
              0,
              "#0d0887"
             ],
             [
              0.1111111111111111,
              "#46039f"
             ],
             [
              0.2222222222222222,
              "#7201a8"
             ],
             [
              0.3333333333333333,
              "#9c179e"
             ],
             [
              0.4444444444444444,
              "#bd3786"
             ],
             [
              0.5555555555555556,
              "#d8576b"
             ],
             [
              0.6666666666666666,
              "#ed7953"
             ],
             [
              0.7777777777777778,
              "#fb9f3a"
             ],
             [
              0.8888888888888888,
              "#fdca26"
             ],
             [
              1,
              "#f0f921"
             ]
            ],
            "type": "heatmap"
           }
          ],
          "heatmapgl": [
           {
            "colorbar": {
             "outlinewidth": 0,
             "ticks": ""
            },
            "colorscale": [
             [
              0,
              "#0d0887"
             ],
             [
              0.1111111111111111,
              "#46039f"
             ],
             [
              0.2222222222222222,
              "#7201a8"
             ],
             [
              0.3333333333333333,
              "#9c179e"
             ],
             [
              0.4444444444444444,
              "#bd3786"
             ],
             [
              0.5555555555555556,
              "#d8576b"
             ],
             [
              0.6666666666666666,
              "#ed7953"
             ],
             [
              0.7777777777777778,
              "#fb9f3a"
             ],
             [
              0.8888888888888888,
              "#fdca26"
             ],
             [
              1,
              "#f0f921"
             ]
            ],
            "type": "heatmapgl"
           }
          ],
          "histogram": [
           {
            "marker": {
             "pattern": {
              "fillmode": "overlay",
              "size": 10,
              "solidity": 0.2
             }
            },
            "type": "histogram"
           }
          ],
          "histogram2d": [
           {
            "colorbar": {
             "outlinewidth": 0,
             "ticks": ""
            },
            "colorscale": [
             [
              0,
              "#0d0887"
             ],
             [
              0.1111111111111111,
              "#46039f"
             ],
             [
              0.2222222222222222,
              "#7201a8"
             ],
             [
              0.3333333333333333,
              "#9c179e"
             ],
             [
              0.4444444444444444,
              "#bd3786"
             ],
             [
              0.5555555555555556,
              "#d8576b"
             ],
             [
              0.6666666666666666,
              "#ed7953"
             ],
             [
              0.7777777777777778,
              "#fb9f3a"
             ],
             [
              0.8888888888888888,
              "#fdca26"
             ],
             [
              1,
              "#f0f921"
             ]
            ],
            "type": "histogram2d"
           }
          ],
          "histogram2dcontour": [
           {
            "colorbar": {
             "outlinewidth": 0,
             "ticks": ""
            },
            "colorscale": [
             [
              0,
              "#0d0887"
             ],
             [
              0.1111111111111111,
              "#46039f"
             ],
             [
              0.2222222222222222,
              "#7201a8"
             ],
             [
              0.3333333333333333,
              "#9c179e"
             ],
             [
              0.4444444444444444,
              "#bd3786"
             ],
             [
              0.5555555555555556,
              "#d8576b"
             ],
             [
              0.6666666666666666,
              "#ed7953"
             ],
             [
              0.7777777777777778,
              "#fb9f3a"
             ],
             [
              0.8888888888888888,
              "#fdca26"
             ],
             [
              1,
              "#f0f921"
             ]
            ],
            "type": "histogram2dcontour"
           }
          ],
          "mesh3d": [
           {
            "colorbar": {
             "outlinewidth": 0,
             "ticks": ""
            },
            "type": "mesh3d"
           }
          ],
          "parcoords": [
           {
            "line": {
             "colorbar": {
              "outlinewidth": 0,
              "ticks": ""
             }
            },
            "type": "parcoords"
           }
          ],
          "pie": [
           {
            "automargin": true,
            "type": "pie"
           }
          ],
          "scatter": [
           {
            "fillpattern": {
             "fillmode": "overlay",
             "size": 10,
             "solidity": 0.2
            },
            "type": "scatter"
           }
          ],
          "scatter3d": [
           {
            "line": {
             "colorbar": {
              "outlinewidth": 0,
              "ticks": ""
             }
            },
            "marker": {
             "colorbar": {
              "outlinewidth": 0,
              "ticks": ""
             }
            },
            "type": "scatter3d"
           }
          ],
          "scattercarpet": [
           {
            "marker": {
             "colorbar": {
              "outlinewidth": 0,
              "ticks": ""
             }
            },
            "type": "scattercarpet"
           }
          ],
          "scattergeo": [
           {
            "marker": {
             "colorbar": {
              "outlinewidth": 0,
              "ticks": ""
             }
            },
            "type": "scattergeo"
           }
          ],
          "scattergl": [
           {
            "marker": {
             "colorbar": {
              "outlinewidth": 0,
              "ticks": ""
             }
            },
            "type": "scattergl"
           }
          ],
          "scattermapbox": [
           {
            "marker": {
             "colorbar": {
              "outlinewidth": 0,
              "ticks": ""
             }
            },
            "type": "scattermapbox"
           }
          ],
          "scatterpolar": [
           {
            "marker": {
             "colorbar": {
              "outlinewidth": 0,
              "ticks": ""
             }
            },
            "type": "scatterpolar"
           }
          ],
          "scatterpolargl": [
           {
            "marker": {
             "colorbar": {
              "outlinewidth": 0,
              "ticks": ""
             }
            },
            "type": "scatterpolargl"
           }
          ],
          "scatterternary": [
           {
            "marker": {
             "colorbar": {
              "outlinewidth": 0,
              "ticks": ""
             }
            },
            "type": "scatterternary"
           }
          ],
          "surface": [
           {
            "colorbar": {
             "outlinewidth": 0,
             "ticks": ""
            },
            "colorscale": [
             [
              0,
              "#0d0887"
             ],
             [
              0.1111111111111111,
              "#46039f"
             ],
             [
              0.2222222222222222,
              "#7201a8"
             ],
             [
              0.3333333333333333,
              "#9c179e"
             ],
             [
              0.4444444444444444,
              "#bd3786"
             ],
             [
              0.5555555555555556,
              "#d8576b"
             ],
             [
              0.6666666666666666,
              "#ed7953"
             ],
             [
              0.7777777777777778,
              "#fb9f3a"
             ],
             [
              0.8888888888888888,
              "#fdca26"
             ],
             [
              1,
              "#f0f921"
             ]
            ],
            "type": "surface"
           }
          ],
          "table": [
           {
            "cells": {
             "fill": {
              "color": "#EBF0F8"
             },
             "line": {
              "color": "white"
             }
            },
            "header": {
             "fill": {
              "color": "#C8D4E3"
             },
             "line": {
              "color": "white"
             }
            },
            "type": "table"
           }
          ]
         },
         "layout": {
          "annotationdefaults": {
           "arrowcolor": "#2a3f5f",
           "arrowhead": 0,
           "arrowwidth": 1
          },
          "autotypenumbers": "strict",
          "coloraxis": {
           "colorbar": {
            "outlinewidth": 0,
            "ticks": ""
           }
          },
          "colorscale": {
           "diverging": [
            [
             0,
             "#8e0152"
            ],
            [
             0.1,
             "#c51b7d"
            ],
            [
             0.2,
             "#de77ae"
            ],
            [
             0.3,
             "#f1b6da"
            ],
            [
             0.4,
             "#fde0ef"
            ],
            [
             0.5,
             "#f7f7f7"
            ],
            [
             0.6,
             "#e6f5d0"
            ],
            [
             0.7,
             "#b8e186"
            ],
            [
             0.8,
             "#7fbc41"
            ],
            [
             0.9,
             "#4d9221"
            ],
            [
             1,
             "#276419"
            ]
           ],
           "sequential": [
            [
             0,
             "#0d0887"
            ],
            [
             0.1111111111111111,
             "#46039f"
            ],
            [
             0.2222222222222222,
             "#7201a8"
            ],
            [
             0.3333333333333333,
             "#9c179e"
            ],
            [
             0.4444444444444444,
             "#bd3786"
            ],
            [
             0.5555555555555556,
             "#d8576b"
            ],
            [
             0.6666666666666666,
             "#ed7953"
            ],
            [
             0.7777777777777778,
             "#fb9f3a"
            ],
            [
             0.8888888888888888,
             "#fdca26"
            ],
            [
             1,
             "#f0f921"
            ]
           ],
           "sequentialminus": [
            [
             0,
             "#0d0887"
            ],
            [
             0.1111111111111111,
             "#46039f"
            ],
            [
             0.2222222222222222,
             "#7201a8"
            ],
            [
             0.3333333333333333,
             "#9c179e"
            ],
            [
             0.4444444444444444,
             "#bd3786"
            ],
            [
             0.5555555555555556,
             "#d8576b"
            ],
            [
             0.6666666666666666,
             "#ed7953"
            ],
            [
             0.7777777777777778,
             "#fb9f3a"
            ],
            [
             0.8888888888888888,
             "#fdca26"
            ],
            [
             1,
             "#f0f921"
            ]
           ]
          },
          "colorway": [
           "#636efa",
           "#EF553B",
           "#00cc96",
           "#ab63fa",
           "#FFA15A",
           "#19d3f3",
           "#FF6692",
           "#B6E880",
           "#FF97FF",
           "#FECB52"
          ],
          "font": {
           "color": "#2a3f5f"
          },
          "geo": {
           "bgcolor": "white",
           "lakecolor": "white",
           "landcolor": "#E5ECF6",
           "showlakes": true,
           "showland": true,
           "subunitcolor": "white"
          },
          "hoverlabel": {
           "align": "left"
          },
          "hovermode": "closest",
          "mapbox": {
           "style": "light"
          },
          "paper_bgcolor": "white",
          "plot_bgcolor": "#E5ECF6",
          "polar": {
           "angularaxis": {
            "gridcolor": "white",
            "linecolor": "white",
            "ticks": ""
           },
           "bgcolor": "#E5ECF6",
           "radialaxis": {
            "gridcolor": "white",
            "linecolor": "white",
            "ticks": ""
           }
          },
          "scene": {
           "xaxis": {
            "backgroundcolor": "#E5ECF6",
            "gridcolor": "white",
            "gridwidth": 2,
            "linecolor": "white",
            "showbackground": true,
            "ticks": "",
            "zerolinecolor": "white"
           },
           "yaxis": {
            "backgroundcolor": "#E5ECF6",
            "gridcolor": "white",
            "gridwidth": 2,
            "linecolor": "white",
            "showbackground": true,
            "ticks": "",
            "zerolinecolor": "white"
           },
           "zaxis": {
            "backgroundcolor": "#E5ECF6",
            "gridcolor": "white",
            "gridwidth": 2,
            "linecolor": "white",
            "showbackground": true,
            "ticks": "",
            "zerolinecolor": "white"
           }
          },
          "shapedefaults": {
           "line": {
            "color": "#2a3f5f"
           }
          },
          "ternary": {
           "aaxis": {
            "gridcolor": "white",
            "linecolor": "white",
            "ticks": ""
           },
           "baxis": {
            "gridcolor": "white",
            "linecolor": "white",
            "ticks": ""
           },
           "bgcolor": "#E5ECF6",
           "caxis": {
            "gridcolor": "white",
            "linecolor": "white",
            "ticks": ""
           }
          },
          "title": {
           "x": 0.05
          },
          "xaxis": {
           "automargin": true,
           "gridcolor": "white",
           "linecolor": "white",
           "ticks": "",
           "title": {
            "standoff": 15
           },
           "zerolinecolor": "white",
           "zerolinewidth": 2
          },
          "yaxis": {
           "automargin": true,
           "gridcolor": "white",
           "linecolor": "white",
           "ticks": "",
           "title": {
            "standoff": 15
           },
           "zerolinecolor": "white",
           "zerolinewidth": 2
          }
         }
        },
        "title": {
         "text": "Relação entre Idade e Spending Score"
        },
        "xaxis": {
         "anchor": "y",
         "domain": [
          0,
          1
         ],
         "title": {
          "text": "Age"
         }
        },
        "yaxis": {
         "anchor": "x",
         "domain": [
          0,
          1
         ],
         "title": {
          "text": "Spending Score (1-100)"
         }
        }
       }
      }
     },
     "metadata": {},
     "output_type": "display_data"
    }
   ],
   "source": [
    "fig = px.scatter(df, x='Age', y='Spending Score (1-100)', \n",
    "                 title=\"Relação entre Idade e Spending Score\", \n",
    "                 color='Age', \n",
    "                 color_continuous_scale='viridis')\n",
    "\n",
    "fig.show()\n"
   ]
  },
  {
   "cell_type": "markdown",
   "metadata": {},
   "source": [
    "O gráfico mostra que **não há uma relação linear clara** entre idade e Spending Score.  \n",
    "Observam-se padrões distintos entre diferentes faixas etárias, indicando dois possíveis grupos de comportamento:  \n",
    "\n",
    "- **Jovens e Adultos (~18-40 anos)** → Maior variabilidade no Spending Score, incluindo consumidores com gastos elevados e outros mais conservadores.  \n",
    "- **Mais velhos (>40 anos)** → Maior concentração de Spending Score em valores mais baixos, sugerindo um perfil de consumo mais contido.  \n",
    "\n",
    "Essa segmentação sugere que **o fator idade pode influenciar hábitos de consumo**, mas não de forma determinística.  \n",
    "Podemos utilizar essa análise nas estratégias de marketing, ao personalizar abordagens para diferentes faixas etárias.  \n"
   ]
  },
  {
   "cell_type": "markdown",
   "metadata": {},
   "source": [
    "# Tratamento dos Dados"
   ]
  },
  {
   "cell_type": "markdown",
   "metadata": {},
   "source": [
    "Codificando e padronizando os dados para realizar a manipulação com o modelo."
   ]
  },
  {
   "cell_type": "code",
   "execution_count": 10,
   "metadata": {},
   "outputs": [],
   "source": [
    "df['Gender'] = df['Gender'].map({'Male': 0, 'Female': 1})"
   ]
  },
  {
   "cell_type": "code",
   "execution_count": 11,
   "metadata": {},
   "outputs": [
    {
     "data": {
      "text/html": [
       "<div>\n",
       "<style scoped>\n",
       "    .dataframe tbody tr th:only-of-type {\n",
       "        vertical-align: middle;\n",
       "    }\n",
       "\n",
       "    .dataframe tbody tr th {\n",
       "        vertical-align: top;\n",
       "    }\n",
       "\n",
       "    .dataframe thead th {\n",
       "        text-align: right;\n",
       "    }\n",
       "</style>\n",
       "<table border=\"1\" class=\"dataframe\">\n",
       "  <thead>\n",
       "    <tr style=\"text-align: right;\">\n",
       "      <th></th>\n",
       "      <th>CustomerID</th>\n",
       "      <th>Gender</th>\n",
       "      <th>Age</th>\n",
       "      <th>Annual Income (k$)</th>\n",
       "      <th>Spending Score (1-100)</th>\n",
       "    </tr>\n",
       "  </thead>\n",
       "  <tbody>\n",
       "    <tr>\n",
       "      <th>0</th>\n",
       "      <td>1</td>\n",
       "      <td>0</td>\n",
       "      <td>-1.424569</td>\n",
       "      <td>-1.738999</td>\n",
       "      <td>-0.434801</td>\n",
       "    </tr>\n",
       "    <tr>\n",
       "      <th>1</th>\n",
       "      <td>2</td>\n",
       "      <td>0</td>\n",
       "      <td>-1.281035</td>\n",
       "      <td>-1.738999</td>\n",
       "      <td>1.195704</td>\n",
       "    </tr>\n",
       "    <tr>\n",
       "      <th>2</th>\n",
       "      <td>3</td>\n",
       "      <td>1</td>\n",
       "      <td>-1.352802</td>\n",
       "      <td>-1.700830</td>\n",
       "      <td>-1.715913</td>\n",
       "    </tr>\n",
       "    <tr>\n",
       "      <th>3</th>\n",
       "      <td>4</td>\n",
       "      <td>1</td>\n",
       "      <td>-1.137502</td>\n",
       "      <td>-1.700830</td>\n",
       "      <td>1.040418</td>\n",
       "    </tr>\n",
       "    <tr>\n",
       "      <th>4</th>\n",
       "      <td>5</td>\n",
       "      <td>1</td>\n",
       "      <td>-0.563369</td>\n",
       "      <td>-1.662660</td>\n",
       "      <td>-0.395980</td>\n",
       "    </tr>\n",
       "  </tbody>\n",
       "</table>\n",
       "</div>"
      ],
      "text/plain": [
       "   CustomerID  Gender       Age  Annual Income (k$)  Spending Score (1-100)\n",
       "0           1       0 -1.424569           -1.738999               -0.434801\n",
       "1           2       0 -1.281035           -1.738999                1.195704\n",
       "2           3       1 -1.352802           -1.700830               -1.715913\n",
       "3           4       1 -1.137502           -1.700830                1.040418\n",
       "4           5       1 -0.563369           -1.662660               -0.395980"
      ]
     },
     "execution_count": 11,
     "metadata": {},
     "output_type": "execute_result"
    }
   ],
   "source": [
    "padronizar_col = ['Age', 'Annual Income (k$)', 'Spending Score (1-100)']\n",
    "scaler = StandardScaler()\n",
    "df[padronizar_col] = scaler.fit_transform(df[padronizar_col])\n",
    "df.head()"
   ]
  },
  {
   "cell_type": "markdown",
   "metadata": {},
   "source": [
    "Escolhemos padronizar os dados para garantir que estejam todos na mesma escala, ajudando o modelo a medir a distancia dos clusters.  \n",
    "Evitando que variáveis com escalas maiores dominem a análise estatística."
   ]
  },
  {
   "cell_type": "code",
   "execution_count": 12,
   "metadata": {},
   "outputs": [],
   "source": [
    "df.drop(columns=['CustomerID'], inplace=True)"
   ]
  },
  {
   "cell_type": "markdown",
   "metadata": {},
   "source": [
    "# Modelagem dos Dados - K-Means"
   ]
  },
  {
   "cell_type": "markdown",
   "metadata": {},
   "source": [
    "Vamos aplicar o algoritimo do K-Means com número de cluster 4, considerando a análise feita anteriormente na parte de exploração de dados, na relação de renda e gasto"
   ]
  },
  {
   "cell_type": "code",
   "execution_count": 13,
   "metadata": {},
   "outputs": [
    {
     "name": "stderr",
     "output_type": "stream",
     "text": [
      "c:\\Users\\Ana Paula\\anaconda3\\Lib\\site-packages\\sklearn\\cluster\\_kmeans.py:1382: UserWarning:\n",
      "\n",
      "KMeans is known to have a memory leak on Windows with MKL, when there are less chunks than available threads. You can avoid it by setting the environment variable OMP_NUM_THREADS=1.\n",
      "\n"
     ]
    },
    {
     "data": {
      "text/plain": [
       "array([[1.78182658, 2.97486515, 3.36725653, 1.63734866, 3.39336397],\n",
       "       [0.78414883, 3.22870301, 4.04645605, 2.11227989, 2.90724232],\n",
       "       [2.92575124, 3.1877548 , 3.24152676, 2.09193717, 4.12629349],\n",
       "       [0.58329326, 3.00839684, 3.89747553, 1.87217006, 2.82587643],\n",
       "       [1.66809196, 2.17697168, 3.02496572, 1.33512608, 3.15397839],\n",
       "       [0.59206231, 3.03200535, 3.87217756, 1.83509846, 2.81130816],\n",
       "       [2.97545044, 2.37569663, 2.82205328, 2.02810448, 3.9772819 ],\n",
       "       [0.77705243, 3.33278985, 4.27735491, 2.32519653, 2.78444084],\n",
       "       [4.11440909, 2.05517992, 3.18662113, 3.33749339, 4.62820854],\n",
       "       [0.65582592, 2.4882951 , 3.5545615 , 1.63272263, 2.6552859 ],\n",
       "       [3.97767587, 1.85145415, 3.26028567, 3.33178791, 4.47134304],\n",
       "       [1.14094167, 2.92622525, 4.21633103, 2.49504302, 2.70463474],\n",
       "       [3.46051346, 1.57452313, 2.93757847, 2.72021462, 4.09308962],\n",
       "       [0.48156731, 2.89223193, 3.76638131, 1.7567405 , 2.66309144],\n",
       "       [2.78259355, 2.12749674, 2.66847327, 1.91728665, 3.74670856],\n",
       "       [0.67255258, 3.06462677, 3.84117145, 1.9257565 , 2.70993942],\n",
       "       [1.91139929, 1.87904377, 2.77260485, 1.31780235, 3.13778239],\n",
       "       [0.89110772, 2.96956321, 3.57630594, 1.6352851 , 2.7873844 ],\n",
       "       [2.80392796, 1.25728302, 2.69058158, 2.20065666, 3.51364164],\n",
       "       [1.09039857, 2.84103794, 4.09198603, 2.39267345, 2.54986943],\n",
       "       [1.95116746, 1.85515768, 2.63323614, 1.34735392, 3.05987149],\n",
       "       [0.6441546 , 2.73383101, 3.51557314, 1.63623232, 2.53344104],\n",
       "       [3.27339703, 1.87013574, 2.55826368, 2.25190405, 3.95067943],\n",
       "       [0.76152449, 2.38769824, 3.36941225, 1.61418216, 2.43875886],\n",
       "       [3.29610792, 1.40433726, 2.55450959, 2.39350846, 3.81301263],\n",
       "       [0.66236471, 2.64659789, 3.56239715, 1.80265187, 2.31357623],\n",
       "       [2.35800533, 1.23065145, 2.4698871 , 1.59928145, 3.12614596],\n",
       "       [1.16287055, 1.91503345, 2.94166398, 1.34130275, 2.44593517],\n",
       "       [2.19664672, 1.469515  , 2.4119442 , 1.3362814 , 3.04156857],\n",
       "       [0.54538923, 3.04609316, 3.82839469, 1.89459758, 2.35710963],\n",
       "       [3.89192207, 1.75328445, 2.6849355 , 2.96561295, 4.24114078],\n",
       "       [0.59077286, 2.88124471, 3.49472484, 1.46978446, 2.38743715],\n",
       "       [3.59803179, 1.69031831, 2.36897756, 2.56418461, 3.97359698],\n",
       "       [0.96917817, 3.42599329, 3.99695381, 2.17885492, 2.39262108],\n",
       "       [3.09564806, 1.38522695, 2.27009904, 2.05724013, 3.57126808],\n",
       "       [0.58521635, 3.00041761, 3.62868337, 1.66700751, 2.25722852],\n",
       "       [2.75130345, 1.53700562, 2.16246662, 1.6296442 , 3.32767146],\n",
       "       [0.66572726, 2.30725336, 3.17695804, 1.31249626, 2.09700047],\n",
       "       [2.28843836, 1.6498004 , 2.11693092, 1.10399377, 2.93132623],\n",
       "       [0.72414045, 2.92426045, 3.41324193, 1.44136929, 2.16671164],\n",
       "       [3.38847088, 0.93534136, 2.73207456, 2.74461188, 3.51693658],\n",
       "       [0.90421662, 3.06802822, 3.73510506, 2.02636351, 2.06359025],\n",
       "       [2.46985302, 0.89371802, 2.12852192, 1.67115059, 2.82774566],\n",
       "       [1.04937535, 1.99459509, 2.72167931, 0.86215766, 2.04768488],\n",
       "       [2.70180236, 0.90768662, 2.10100576, 1.7291501 , 3.04808769],\n",
       "       [0.86214449, 2.50140283, 2.99291104, 0.99884235, 2.0824949 ],\n",
       "       [2.12318887, 0.84435292, 2.52375515, 1.71051613, 2.45365457],\n",
       "       [1.4345965 , 2.12847719, 2.48974164, 0.52412561, 2.32273029],\n",
       "       [1.62471183, 1.9803392 , 2.34681355, 0.52694272, 2.4218806 ],\n",
       "       [1.65441198, 1.84264241, 2.29683701, 0.5654635 , 2.41040228],\n",
       "       [2.14038506, 0.79097776, 2.38233318, 1.60355083, 2.41677077],\n",
       "       [1.2679097 , 1.87214113, 2.54730856, 1.00741967, 1.97950092],\n",
       "       [1.31928379, 1.8866434 , 2.4483497 , 0.60583992, 2.0449686 ],\n",
       "       [2.68472058, 0.96400244, 2.76097267, 2.41355879, 2.71186668],\n",
       "       [2.35178526, 0.63560864, 2.22636598, 1.64010651, 2.56809991],\n",
       "       [2.33095659, 0.86318462, 2.05920564, 1.54726526, 2.57979153],\n",
       "       [2.31566904, 0.65093118, 2.3203301 , 1.71649283, 2.47614224],\n",
       "       [3.51586382, 1.14515598, 2.88178631, 3.02757035, 3.41803749],\n",
       "       [1.41207375, 2.12641991, 2.40665767, 0.45267676, 2.05778406],\n",
       "       [2.56617121, 0.62700108, 2.19055365, 1.92123589, 2.60295745],\n",
       "       [3.47480209, 1.30874081, 3.06169393, 3.12357593, 3.29875552],\n",
       "       [1.43010345, 2.73448743, 2.74910198, 1.01656844, 2.18149475],\n",
       "       [3.30498483, 1.01072819, 2.85262552, 2.83930095, 3.14972754],\n",
       "       [2.38789881, 0.80530251, 2.52565563, 1.98317225, 2.37384886],\n",
       "       [3.10084871, 0.85908359, 2.59977969, 2.61276151, 2.94025187],\n",
       "       [1.40331544, 2.83443174, 2.83466506, 1.12356255, 2.09086811],\n",
       "       [1.95144056, 1.04856995, 2.10141707, 1.1534647 , 2.11653872],\n",
       "       [3.43152744, 1.02109177, 2.80847624, 2.89776195, 3.24853056],\n",
       "       [1.37823399, 2.76628571, 2.79299637, 1.07933889, 2.05561079],\n",
       "       [1.64369618, 1.75617107, 2.13437594, 0.46291824, 2.05889906],\n",
       "       [3.51233608, 1.28951313, 2.98308801, 3.11482477, 3.25895679],\n",
       "       [2.3434667 , 0.75027956, 1.93606161, 1.41261809, 2.39733398],\n",
       "       [2.93710135, 0.60803863, 2.42475779, 2.3308081 , 2.76637754],\n",
       "       [2.83897034, 0.77200122, 2.57554857, 2.36612448, 2.65098127],\n",
       "       [2.99183882, 0.68588885, 2.21391568, 2.33022376, 2.69384672],\n",
       "       [1.57671118, 2.25636757, 2.27888344, 0.78113321, 1.80431069],\n",
       "       [2.09375596, 0.9967212 , 2.03243661, 1.31928686, 1.95305405],\n",
       "       [2.02814116, 1.29310674, 1.83909638, 1.1055841 , 1.96541984],\n",
       "       [1.57702611, 2.41768131, 2.38105291, 0.58945451, 1.89930957],\n",
       "       [2.51705062, 0.67178749, 1.82976473, 1.55892807, 2.35628935],\n",
       "       [2.81260843, 0.71211328, 2.22380371, 2.20535707, 2.51714156],\n",
       "       [1.80073272, 1.48939458, 2.04005712, 1.06751978, 1.75689571],\n",
       "       [3.56365926, 1.02176889, 2.48998191, 2.88604394, 3.23170983],\n",
       "       [2.33011664, 0.84112929, 1.82030479, 1.34776176, 2.20422742],\n",
       "       [1.47638487, 2.59387299, 2.57585227, 0.78664985, 1.84696225],\n",
       "       [2.41903363, 0.82987041, 1.85078677, 1.59062964, 2.23751661],\n",
       "       [2.6137241 , 0.83051419, 2.30779797, 2.0549644 , 2.21915141],\n",
       "       [1.59435022, 2.52051668, 2.43031375, 0.72930429, 1.78386396],\n",
       "       [1.62546712, 1.79180459, 2.18868924, 0.86766285, 1.46504684],\n",
       "       [2.55177718, 0.70950097, 1.83914331, 1.64754372, 2.21576006],\n",
       "       [3.47528969, 1.18685127, 2.73836121, 2.94176565, 2.97451882],\n",
       "       [2.11012309, 2.78363179, 2.26059546, 1.04099449, 2.24854046],\n",
       "       [2.47190773, 0.94305473, 1.77556497, 1.63656964, 2.04375435],\n",
       "       [2.30890179, 1.27650591, 1.53339133, 1.02026424, 2.04669287],\n",
       "       [2.05322873, 1.79888725, 1.71208664, 0.59685887, 1.91531568],\n",
       "       [1.78810113, 2.40870455, 2.18156811, 0.86201498, 1.75305272],\n",
       "       [2.42664844, 0.89265861, 1.75401589, 1.46206675, 2.03794414],\n",
       "       [1.78703657, 2.16324721, 2.05964837, 0.55644209, 1.72094848],\n",
       "       [2.63175945, 0.91966864, 1.56994947, 1.64035777, 2.20769129],\n",
       "       [1.92210297, 2.67215978, 2.27296539, 0.98291808, 1.92973799],\n",
       "       [2.08061226, 2.43113113, 1.9931194 , 0.68717754, 2.03062503],\n",
       "       [2.54290345, 0.85525414, 1.77418001, 1.61965494, 2.05313834],\n",
       "       [3.44366145, 1.30846197, 2.70041796, 2.9675981 , 2.83470497],\n",
       "       [1.77858552, 2.31330922, 2.14384764, 0.90905356, 1.5833553 ],\n",
       "       [2.44710735, 1.05637762, 1.95471266, 1.76633796, 1.88833103],\n",
       "       [2.06935786, 2.56920104, 2.1080728 , 0.76517171, 2.05456966],\n",
       "       [3.46899956, 1.07565192, 2.47170737, 2.803455  , 2.8792073 ],\n",
       "       [2.88118937, 0.81857098, 1.80010485, 2.04381152, 2.32437252],\n",
       "       [3.71063924, 1.19630103, 2.41571074, 2.99058118, 3.13453338],\n",
       "       [3.52119609, 1.11866335, 2.39552452, 2.85520832, 2.92685319],\n",
       "       [3.41033862, 1.11717905, 2.42685123, 2.79823827, 2.80020598],\n",
       "       [1.83400466, 2.75666461, 2.43641273, 0.95259832, 1.78276633],\n",
       "       [2.28904228, 1.45716596, 1.49505301, 0.96507611, 1.87751444],\n",
       "       [2.08890478, 2.75364719, 2.21028535, 1.06613218, 1.99067396],\n",
       "       [2.04189715, 2.8114895 , 2.32565472, 0.98559471, 1.938058  ],\n",
       "       [1.97902322, 2.75070116, 2.31700271, 0.94882606, 1.84666272],\n",
       "       [3.42610211, 0.93340879, 2.1496799 , 2.60238356, 2.81554338],\n",
       "       [2.43700596, 1.11868816, 2.03646573, 1.74215799, 1.75065041],\n",
       "       [2.83743377, 0.8912424 , 1.59528899, 1.80987942, 2.19155112],\n",
       "       [2.55969628, 1.09242953, 1.96273206, 1.80823506, 1.80656494],\n",
       "       [1.91545294, 2.30799998, 2.05209464, 1.02730534, 1.42894527],\n",
       "       [2.41218958, 1.50889527, 1.37405575, 1.04345455, 1.89449036],\n",
       "       [2.16804124, 1.56251774, 1.86302626, 1.28757147, 1.34670032],\n",
       "       [2.0620096 , 2.44944763, 3.00923162, 2.19736634, 1.03035219],\n",
       "       [2.6215242 , 2.56199567, 1.66986682, 1.09261382, 2.31286357],\n",
       "       [1.78895545, 2.41555201, 2.61831368, 1.52469659, 0.81602498],\n",
       "       [2.81425615, 1.39392927, 1.06413866, 1.54368945, 2.12986652],\n",
       "       [2.19564447, 2.56465306, 3.13825554, 2.37633389, 1.08002382],\n",
       "       [4.02960251, 1.59722294, 1.51189945, 2.78317683, 3.4396406 ],\n",
       "       [2.0489661 , 2.07670261, 2.40453143, 1.7280854 , 0.92918061],\n",
       "       [3.63709449, 1.74874286, 0.93595373, 2.20439424, 3.12341082],\n",
       "       [2.08194983, 2.0339728 , 2.39860218, 1.75922628, 0.96083357],\n",
       "       [2.52757622, 2.42696344, 1.59776872, 1.01815779, 2.07766302],\n",
       "       [1.88711346, 2.32020004, 2.39133061, 1.38421916, 0.84990943],\n",
       "       [3.47597326, 3.12210988, 1.7484686 , 1.97480179, 3.21747498],\n",
       "       [1.89923173, 2.81296592, 3.01969997, 1.93026465, 0.7760367 ],\n",
       "       [3.62235175, 1.88983128, 0.93716574, 2.08498728, 3.10566146],\n",
       "       [1.97460314, 2.35067884, 2.39327569, 1.58183838, 0.82766201],\n",
       "       [3.34633957, 3.11050723, 1.76011421, 1.86968441, 3.05373782],\n",
       "       [2.03257815, 2.16485267, 2.33507653, 1.52932564, 0.78999445],\n",
       "       [4.15009021, 1.80536817, 1.44754601, 2.78184835, 3.52358638],\n",
       "       [2.09751978, 2.85649683, 3.10422816, 2.22591403, 0.81517529],\n",
       "       [2.49460143, 2.28109841, 1.51444925, 1.06451426, 1.77848967],\n",
       "       [2.04216475, 2.68853402, 2.90694628, 1.97217232, 0.64269699],\n",
       "       [3.31943879, 2.76626334, 1.32625281, 1.77415795, 2.8529259 ],\n",
       "       [2.1647875 , 3.16456591, 3.31222133, 2.37260557, 0.93232161],\n",
       "       [3.11023558, 1.36107553, 1.07401073, 1.91795274, 2.19914301],\n",
       "       [2.06732934, 2.40675063, 2.43267475, 1.6004501 , 0.66903691],\n",
       "       [3.08217991, 2.10637659, 0.90541278, 1.48947762, 2.40351025],\n",
       "       [2.21198243, 2.73683003, 2.94707648, 2.20600807, 0.70594129],\n",
       "       [3.43658862, 1.82473028, 0.58801932, 1.97330605, 2.70852057],\n",
       "       [2.32659189, 2.49485451, 2.82920279, 2.24477609, 0.80810914],\n",
       "       [3.3564431 , 1.69029274, 0.74896902, 1.8704358 , 2.60674513],\n",
       "       [2.23597841, 2.19250544, 2.41862153, 1.80551182, 0.72175483],\n",
       "       [3.55396177, 1.68318955, 0.82276545, 2.08849675, 2.82207387],\n",
       "       [2.07450595, 3.00247332, 3.06898907, 2.0563961 , 0.74651804],\n",
       "       [3.78065956, 2.42312296, 0.89353561, 2.20644321, 3.22664354],\n",
       "       [2.06546827, 2.60680784, 2.60988903, 1.71959685, 0.61826487],\n",
       "       [3.73862754, 2.54777907, 0.98820602, 2.15297609, 3.21317026],\n",
       "       [2.07951643, 2.50742618, 2.43440202, 1.57857291, 0.69436736],\n",
       "       [3.48297442, 1.26997624, 1.44809324, 2.3518917 , 2.5379502 ],\n",
       "       [2.09607023, 2.78116613, 2.80430618, 1.88802643, 0.60594859],\n",
       "       [3.65199215, 3.2838524 , 1.7358768 , 2.14856805, 3.20401185],\n",
       "       [2.25111115, 2.96402493, 3.11924965, 2.25578655, 0.67126208],\n",
       "       [3.59285605, 1.67342484, 0.84199021, 2.29036507, 2.56597239],\n",
       "       [2.43047736, 2.40022276, 2.37018408, 1.90343133, 0.59109621],\n",
       "       [3.52051967, 2.0087091 , 0.44408965, 2.06245252, 2.56005706],\n",
       "       [2.47709995, 3.02080023, 3.15144612, 2.44079803, 0.68090457],\n",
       "       [3.21903714, 2.15525649, 0.80618967, 1.70658011, 2.20226608],\n",
       "       [2.54077737, 2.45375829, 1.95874371, 1.73834357, 0.918779  ],\n",
       "       [3.68422655, 2.23132019, 0.44991844, 2.16450238, 2.78699742],\n",
       "       [2.42608913, 2.83874465, 2.48801378, 1.9541899 , 0.69298708],\n",
       "       [3.69632037, 2.44453678, 0.62012217, 2.1379756 , 2.86135049],\n",
       "       [2.57919367, 2.87326628, 2.9742854 , 2.47857623, 0.70247647],\n",
       "       [4.01669264, 1.94263984, 0.98046813, 2.58948785, 3.05584853],\n",
       "       [2.44919391, 2.9616164 , 2.86780982, 2.1953369 , 0.52541019],\n",
       "       [4.21413158, 1.92619716, 1.27165125, 2.91740861, 3.22229165],\n",
       "       [2.48518281, 2.81327282, 2.30870905, 1.85418226, 0.84834581],\n",
       "       [4.38638432, 2.10593744, 1.35299691, 3.0833066 , 3.30311504],\n",
       "       [2.75688443, 2.98182914, 2.91280889, 2.54665861, 0.68672103],\n",
       "       [3.41429516, 2.35199472, 0.94592795, 1.99901499, 2.0628065 ],\n",
       "       [2.80492618, 3.06915011, 2.84916805, 2.44881989, 0.63049852],\n",
       "       [4.05158245, 2.33375571, 0.64901316, 2.60620181, 2.86090853],\n",
       "       [2.82156718, 3.25719328, 2.98329551, 2.51235518, 0.72566242],\n",
       "       [3.42325849, 2.23741751, 1.11898835, 2.13025023, 1.8968469 ],\n",
       "       [2.95888731, 3.46419831, 3.26895745, 2.84370909, 0.94172475],\n",
       "       [4.15837786, 2.1662514 , 1.21979499, 2.83555193, 2.81930431],\n",
       "       [2.97269258, 3.04763921, 2.29340004, 2.24655172, 1.00442172],\n",
       "       [4.00026215, 2.55571067, 0.80794767, 2.49714213, 2.71219181],\n",
       "       [3.0833764 , 3.0496798 , 2.79504835, 2.6451221 , 0.82255272],\n",
       "       [3.7479087 , 2.72754058, 0.99133764, 2.25877113, 2.42604779],\n",
       "       [3.04328885, 2.9137227 , 2.28180236, 2.27749144, 0.93275531],\n",
       "       [4.40779462, 3.27517978, 1.22948691, 2.89336387, 3.09711927],\n",
       "       [3.50746013, 3.38947598, 3.09530996, 3.10760138, 1.22347107],\n",
       "       [4.64733947, 3.00257047, 1.40069036, 3.2184532 , 3.08044552],\n",
       "       [3.68821277, 3.44980798, 2.7984233 , 3.04789514, 1.37348249],\n",
       "       [4.56031422, 3.13044405, 1.63000029, 3.23173896, 2.77083977],\n",
       "       [3.90822855, 3.67423564, 2.75636232, 3.19899838, 1.63116305],\n",
       "       [4.92911163, 3.93037513, 2.01020991, 3.55189682, 3.1937625 ],\n",
       "       [4.30384108, 4.20272933, 3.29575412, 3.70158634, 2.00953599]])"
      ]
     },
     "execution_count": 13,
     "metadata": {},
     "output_type": "execute_result"
    }
   ],
   "source": [
    "kmeans_clientes = KMeans(n_clusters=5, n_init=10, random_state=42)\n",
    "kmeans_clientes.fit_transform(df)"
   ]
  },
  {
   "cell_type": "code",
   "execution_count": 14,
   "metadata": {},
   "outputs": [
    {
     "name": "stdout",
     "output_type": "stream",
     "text": [
      "Centroides: \n",
      " [[ 0.59090909 -0.97439592 -1.32954532  1.13217788]\n",
      " [ 0.56896552  1.19862745 -0.46098141 -0.32703818]\n",
      " [ 0.41176471  0.17329545  1.06645385 -1.2980103 ]\n",
      " [ 0.65957447 -0.78172248 -0.40306917 -0.21591396]\n",
      " [ 0.53846154 -0.44191719  0.99158305  1.23950275]]\n"
     ]
    }
   ],
   "source": [
    "centroides = kmeans_clientes.cluster_centers_\n",
    "print('Centroides: \\n', centroides)"
   ]
  },
  {
   "cell_type": "code",
   "execution_count": 15,
   "metadata": {},
   "outputs": [
    {
     "name": "stdout",
     "output_type": "stream",
     "text": [
      "Labels: \n",
      " [3 0 3 0 3 0 3 0 1 0 1 0 1 0 3 0 3 0 1 0 3 0 1 0 1 0 1 0 3 0 1 0 1 0 1 0 1\n",
      " 0 3 0 1 0 1 3 1 0 1 3 3 3 1 3 3 1 1 1 1 1 3 1 1 3 1 1 1 3 1 1 3 3 1 1 1 1\n",
      " 1 3 1 3 3 1 1 3 1 1 3 1 1 3 3 1 1 3 1 3 3 3 1 3 1 3 3 1 1 3 1 3 1 1 1 1 1\n",
      " 3 3 3 3 3 1 1 1 1 3 3 3 4 3 4 2 4 2 4 2 4 3 4 2 4 2 4 2 4 2 4 3 4 2 4 2 4\n",
      " 2 4 2 4 2 4 2 4 2 4 2 4 1 4 2 4 2 4 2 4 2 4 2 4 2 4 2 4 2 4 2 4 2 4 2 4 2\n",
      " 4 2 4 2 4 2 4 2 4 2 4 2 4 2 4]\n"
     ]
    }
   ],
   "source": [
    "labels = kmeans_clientes.labels_\n",
    "print('Labels: \\n', labels)"
   ]
  },
  {
   "cell_type": "markdown",
   "metadata": {},
   "source": [
    "Análisando os centroides na matriz de dispersão de renda x gasto"
   ]
  },
  {
   "cell_type": "code",
   "execution_count": 16,
   "metadata": {},
   "outputs": [
    {
     "data": {
      "application/vnd.plotly.v1+json": {
       "config": {
        "plotlyServerURL": "https://plot.ly"
       },
       "data": [
        {
         "hovertemplate": "cluster=3<br>Renda_Anual=%{x}<br>Score_Gasto=%{y}<extra></extra>",
         "legendgroup": "3",
         "marker": {
          "color": "#636efa",
          "opacity": 0.7,
          "symbol": "circle"
         },
         "mode": "markers",
         "name": "3",
         "orientation": "v",
         "showlegend": true,
         "type": "scatter",
         "x": [
          -1.7389991930659485,
          -1.7008297638941763,
          -1.6626603347224038,
          -1.6244909055506316,
          -1.5481520472070869,
          -1.5099826180353144,
          -1.3954743305199975,
          -1.2046271846611356,
          -0.8992717512869568,
          -0.8229328929434121,
          -0.7847634637716397,
          -0.7847634637716397,
          -0.7847634637716397,
          -0.7084246054280949,
          -0.6702551762563226,
          -0.5557468887410055,
          -0.5557468887410055,
          -0.4794080303974609,
          -0.4794080303974609,
          -0.4794080303974609,
          -0.2503914553668267,
          -0.2503914553668267,
          -0.2503914553668267,
          -0.2503914553668267,
          -0.2503914553668267,
          -0.13588316785150967,
          -0.09771373867973732,
          -0.05954430950796496,
          -0.021374880336192604,
          -0.021374880336192604,
          -0.021374880336192604,
          -0.021374880336192604,
          0.01679454883557975,
          0.0549639780073521,
          0.0549639780073521,
          0.0549639780073521,
          0.09313340717912445,
          0.13130283635089682,
          0.13130283635089682,
          0.16947226552266917,
          0.16947226552266917,
          0.24581112386621387,
          0.24581112386621387,
          0.3221499822097586,
          0.36031941138153095,
          0.43665826972507565,
          0.5893359864121651
         ],
         "xaxis": "x",
         "y": [
          -0.43480147996914814,
          -1.7159129834496736,
          -0.3959799192576171,
          -1.7159129834496736,
          -1.444162058468956,
          -0.5900877228152724,
          -0.5900877228152724,
          -0.7453739656613968,
          -0.9394817692190521,
          0.4192728556845355,
          -0.12422899427689955,
          -0.31833679783455493,
          -0.31833679783455493,
          0.38045129497300445,
          0.14752193070381797,
          0.03105724856922475,
          0.18634349141534906,
          0.34162973426147336,
          0.34162973426147336,
          -0.12422899427689955,
          0.14752193070381797,
          -0.08540743356536848,
          0.06987880928075582,
          0.18634349141534906,
          0.2639866128384112,
          0.18634349141534906,
          0.38045129497300445,
          -0.357158358546086,
          -0.3959799192576171,
          -0.31833679783455493,
          0.06987880928075582,
          -0.007764312142306325,
          -0.046585872853837404,
          -0.357158358546086,
          0.18634349141534906,
          -0.31833679783455493,
          0.14752193070381797,
          -0.31833679783455493,
          -0.16305055498843063,
          -0.08540743356536848,
          -0.007764312142306325,
          0.22516505212688012,
          -0.3959799192576171,
          0.30280817354994227,
          -0.823017087084459,
          -0.6289092835268035,
          -0.3959799192576171
         ],
         "yaxis": "y"
        },
        {
         "hovertemplate": "cluster=0<br>Renda_Anual=%{x}<br>Score_Gasto=%{y}<extra></extra>",
         "legendgroup": "0",
         "marker": {
          "color": "#EF553B",
          "opacity": 0.7,
          "symbol": "circle"
         },
         "mode": "markers",
         "name": "0",
         "orientation": "v",
         "showlegend": true,
         "type": "scatter",
         "x": [
          -1.7389991930659485,
          -1.7008297638941763,
          -1.6626603347224038,
          -1.6244909055506316,
          -1.5863214763788591,
          -1.5863214763788591,
          -1.5481520472070869,
          -1.5481520472070869,
          -1.5099826180353144,
          -1.4336437596917697,
          -1.3954743305199975,
          -1.357304901348225,
          -1.2427966138329078,
          -1.2427966138329078,
          -1.2046271846611356,
          -1.1664577554893631,
          -1.0519494679740462,
          -1.0519494679740462,
          -1.0137800388022737,
          -0.8992717512869568,
          -0.8611023221151844,
          -0.8229328929434121
         ],
         "xaxis": "x",
         "y": [
          1.195704069915157,
          1.0404178270690327,
          1.0015962663575015,
          1.700384359165061,
          0.8463100235113773,
          1.8944921627227165,
          1.0404178270690327,
          1.118060948492095,
          0.6133806592421909,
          1.8556706020111853,
          0.8851315842229084,
          0.8851315842229084,
          1.234525630626688,
          0.4192728556845355,
          1.4286334341843434,
          0.8851315842229084,
          1.622741237741999,
          1.195704069915157,
          0.8851315842229084,
          0.9627747056459706,
          1.622741237741999,
          0.5745590985306598
         ],
         "yaxis": "y"
        },
        {
         "hovertemplate": "cluster=1<br>Renda_Anual=%{x}<br>Score_Gasto=%{y}<extra></extra>",
         "legendgroup": "1",
         "marker": {
          "color": "#00cc96",
          "opacity": 0.7,
          "symbol": "circle"
         },
         "mode": "markers",
         "name": "1",
         "orientation": "v",
         "showlegend": true,
         "type": "scatter",
         "x": [
          -1.5863214763788591,
          -1.5863214763788591,
          -1.5481520472070869,
          -1.4336437596917697,
          -1.357304901348225,
          -1.2427966138329078,
          -1.2427966138329078,
          -1.1664577554893631,
          -1.0519494679740462,
          -1.0519494679740462,
          -1.0137800388022737,
          -0.8611023221151844,
          -0.8229328929434121,
          -0.8229328929434121,
          -0.7847634637716397,
          -0.7084246054280949,
          -0.6702551762563226,
          -0.6702551762563226,
          -0.6702551762563226,
          -0.6320857470845502,
          -0.6320857470845502,
          -0.5557468887410055,
          -0.5557468887410055,
          -0.5175774595692332,
          -0.5175774595692332,
          -0.4794080303974609,
          -0.4794080303974609,
          -0.4794080303974609,
          -0.44123860122568853,
          -0.44123860122568853,
          -0.4030691720539161,
          -0.4030691720539161,
          -0.2503914553668267,
          -0.2503914553668267,
          -0.2503914553668267,
          -0.2503914553668267,
          -0.2503914553668267,
          -0.2503914553668267,
          -0.2503914553668267,
          -0.13588316785150967,
          -0.09771373867973732,
          -0.05954430950796496,
          -0.021374880336192604,
          -0.021374880336192604,
          0.01679454883557975,
          0.0549639780073521,
          0.0549639780073521,
          0.0549639780073521,
          0.09313340717912445,
          0.09313340717912445,
          0.09313340717912445,
          0.09313340717912445,
          0.09313340717912445,
          0.16947226552266917,
          0.16947226552266917,
          0.24581112386621387,
          0.24581112386621387,
          0.7038442739274822
         ],
         "xaxis": "x",
         "y": [
          -1.832377665584267,
          -1.405340497757425,
          -1.3665189370458939,
          -0.823017087084459,
          -1.7547345441612048,
          -1.405340497757425,
          -0.7065524049498657,
          -1.7935561048727358,
          -1.7935561048727358,
          -1.405340497757425,
          -1.288875815622832,
          -0.5900877228152724,
          -0.5512661621037414,
          -0.86183864779599,
          0.18634349141534906,
          0.06987880928075582,
          0.38045129497300445,
          -0.20187211569996172,
          -0.357158358546086,
          -0.007764312142306325,
          -0.16305055498843063,
          -0.16305055498843063,
          0.22516505212688012,
          0.06987880928075582,
          0.34162973426147336,
          0.03105724856922475,
          -0.007764312142306325,
          -0.08540743356536848,
          0.18634349141534906,
          -0.31833679783455493,
          -0.046585872853837404,
          0.22516505212688012,
          -0.12422899427689955,
          0.1087003699922869,
          -0.31833679783455493,
          0.03105724856922475,
          -0.357158358546086,
          -0.24069367641149278,
          -0.16305055498843063,
          0.30280817354994227,
          -0.16305055498843063,
          0.18634349141534906,
          -0.046585872853837404,
          -0.12422899427689955,
          -0.31833679783455493,
          -0.08540743356536848,
          0.34162973426147336,
          0.22516505212688012,
          -0.007764312142306325,
          -0.16305055498843063,
          -0.27951523712302384,
          -0.08540743356536848,
          0.06987880928075582,
          -0.27951523712302384,
          0.34162973426147336,
          -0.27951523712302384,
          0.2639866128384112,
          -0.5900877228152724
         ],
         "yaxis": "y"
        },
        {
         "hovertemplate": "cluster=4<br>Renda_Anual=%{x}<br>Score_Gasto=%{y}<extra></extra>",
         "legendgroup": "4",
         "marker": {
          "color": "#ab63fa",
          "opacity": 0.7,
          "symbol": "circle"
         },
         "mode": "markers",
         "name": "4",
         "orientation": "v",
         "showlegend": true,
         "type": "scatter",
         "x": [
          0.3221499822097586,
          0.36031941138153095,
          0.3984888405533033,
          0.3984888405533033,
          0.3984888405533033,
          0.43665826972507565,
          0.474827698896848,
          0.474827698896848,
          0.5129971280686204,
          0.5511665572403928,
          0.5893359864121651,
          0.6275054155839375,
          0.6275054155839375,
          0.6656748447557098,
          0.6656748447557098,
          0.6656748447557098,
          0.6656748447557098,
          0.6656748447557098,
          0.6656748447557098,
          0.7038442739274822,
          0.7801831322710269,
          0.9328608489581163,
          0.9710302781298886,
          1.009199707301661,
          1.009199707301661,
          1.009199707301661,
          1.0473691364734332,
          1.0473691364734332,
          1.238216282332295,
          1.3908939990193845,
          1.429063428191157,
          1.4672328573629292,
          1.543571715706474,
          1.6199105740500186,
          1.6199105740500186,
          2.0016048657677423,
          2.2687908699701484,
          2.4978074450007828,
          2.9176711658902788
         ],
         "xaxis": "x",
         "y": [
          1.5839196770304678,
          1.0404178270690327,
          1.7392059198765921,
          0.9627747056459706,
          0.9627747056459706,
          0.8074884627998463,
          1.4674549948958746,
          0.8851315842229084,
          0.8463100235113773,
          1.66156279845353,
          1.4286334341843434,
          1.8168490412996543,
          0.9239531449344395,
          1.5450981163189368,
          1.4674549948958746,
          1.0015962663575015,
          1.5062765556074056,
          1.0792393877805637,
          0.8851315842229084,
          1.2733471913382193,
          1.66156279845353,
          0.9627747056459706,
          1.7392059198765921,
          0.49691597710759766,
          0.9627747056459706,
          1.622741237741999,
          1.3898118734728124,
          0.7298453413767841,
          1.5450981163189368,
          1.3898118734728124,
          1.4674549948958746,
          1.8168490412996543,
          0.691023780665253,
          1.3509903127612812,
          0.7298453413767841,
          1.5839196770304678,
          1.118060948492095,
          0.9239531449344395,
          1.2733471913382193
         ],
         "yaxis": "y"
        },
        {
         "hovertemplate": "cluster=2<br>Renda_Anual=%{x}<br>Score_Gasto=%{y}<extra></extra>",
         "legendgroup": "2",
         "marker": {
          "color": "#FFA15A",
          "opacity": 0.7,
          "symbol": "circle"
         },
         "mode": "markers",
         "name": "2",
         "orientation": "v",
         "showlegend": true,
         "type": "scatter",
         "x": [
          0.3984888405533033,
          0.3984888405533033,
          0.3984888405533033,
          0.474827698896848,
          0.474827698896848,
          0.5129971280686204,
          0.5511665572403928,
          0.6275054155839375,
          0.6275054155839375,
          0.6656748447557098,
          0.6656748447557098,
          0.6656748447557098,
          0.6656748447557098,
          0.6656748447557098,
          0.6656748447557098,
          0.7801831322710269,
          0.9328608489581163,
          0.9710302781298886,
          1.009199707301661,
          1.009199707301661,
          1.009199707301661,
          1.0473691364734332,
          1.0473691364734332,
          1.238216282332295,
          1.3908939990193845,
          1.429063428191157,
          1.4672328573629292,
          1.543571715706474,
          1.6199105740500186,
          1.6199105740500186,
          2.0016048657677423,
          2.2687908699701484,
          2.4978074450007828,
          2.9176711658902788
         ],
         "xaxis": "x",
         "y": [
          -0.5900877228152724,
          -1.5218051798920182,
          -1.5994483013150804,
          -1.7547345441612048,
          -1.6770914227381426,
          -1.5606267406035494,
          -1.7547345441612048,
          -1.4829836191804873,
          -0.5512661621037414,
          -1.0947680120651764,
          -1.288875815622832,
          -1.1724111334882386,
          -1.327697376334363,
          -1.9100207870073291,
          -1.9100207870073291,
          -1.7547345441612048,
          -0.9394817692190521,
          -1.1724111334882386,
          -0.900660208507521,
          -1.444162058468956,
          -1.5606267406035494,
          -1.444162058468956,
          -1.3665189370458939,
          -1.405340497757425,
          -0.7065524049498657,
          -1.3665189370458939,
          -0.43480147996914814,
          -1.0171248906421142,
          -1.288875815622832,
          -1.0559464513536454,
          -1.6382698620266116,
          -1.327697376334363,
          -0.86183864779599,
          -1.2500542549113007
         ],
         "yaxis": "y"
        },
        {
         "marker": {
          "color": "black",
          "size": 14,
          "symbol": "x"
         },
         "mode": "markers",
         "name": "Centroides",
         "type": "scatter",
         "x": [
          0.5909090909090909,
          0.5689655172413793,
          0.4117647058823527,
          0.6595744680851063,
          0.5384615384615384
         ],
         "y": [
          -0.9743959184533413,
          1.1986274532472052,
          0.17329544771563277,
          -0.781722484663908,
          -0.44191719296133997
         ]
        }
       ],
       "layout": {
        "legend": {
         "title": {
          "text": "Cluster"
         },
         "tracegroupgap": 0
        },
        "template": {
         "data": {
          "bar": [
           {
            "error_x": {
             "color": "#2a3f5f"
            },
            "error_y": {
             "color": "#2a3f5f"
            },
            "marker": {
             "line": {
              "color": "#E5ECF6",
              "width": 0.5
             },
             "pattern": {
              "fillmode": "overlay",
              "size": 10,
              "solidity": 0.2
             }
            },
            "type": "bar"
           }
          ],
          "barpolar": [
           {
            "marker": {
             "line": {
              "color": "#E5ECF6",
              "width": 0.5
             },
             "pattern": {
              "fillmode": "overlay",
              "size": 10,
              "solidity": 0.2
             }
            },
            "type": "barpolar"
           }
          ],
          "carpet": [
           {
            "aaxis": {
             "endlinecolor": "#2a3f5f",
             "gridcolor": "white",
             "linecolor": "white",
             "minorgridcolor": "white",
             "startlinecolor": "#2a3f5f"
            },
            "baxis": {
             "endlinecolor": "#2a3f5f",
             "gridcolor": "white",
             "linecolor": "white",
             "minorgridcolor": "white",
             "startlinecolor": "#2a3f5f"
            },
            "type": "carpet"
           }
          ],
          "choropleth": [
           {
            "colorbar": {
             "outlinewidth": 0,
             "ticks": ""
            },
            "type": "choropleth"
           }
          ],
          "contour": [
           {
            "colorbar": {
             "outlinewidth": 0,
             "ticks": ""
            },
            "colorscale": [
             [
              0,
              "#0d0887"
             ],
             [
              0.1111111111111111,
              "#46039f"
             ],
             [
              0.2222222222222222,
              "#7201a8"
             ],
             [
              0.3333333333333333,
              "#9c179e"
             ],
             [
              0.4444444444444444,
              "#bd3786"
             ],
             [
              0.5555555555555556,
              "#d8576b"
             ],
             [
              0.6666666666666666,
              "#ed7953"
             ],
             [
              0.7777777777777778,
              "#fb9f3a"
             ],
             [
              0.8888888888888888,
              "#fdca26"
             ],
             [
              1,
              "#f0f921"
             ]
            ],
            "type": "contour"
           }
          ],
          "contourcarpet": [
           {
            "colorbar": {
             "outlinewidth": 0,
             "ticks": ""
            },
            "type": "contourcarpet"
           }
          ],
          "heatmap": [
           {
            "colorbar": {
             "outlinewidth": 0,
             "ticks": ""
            },
            "colorscale": [
             [
              0,
              "#0d0887"
             ],
             [
              0.1111111111111111,
              "#46039f"
             ],
             [
              0.2222222222222222,
              "#7201a8"
             ],
             [
              0.3333333333333333,
              "#9c179e"
             ],
             [
              0.4444444444444444,
              "#bd3786"
             ],
             [
              0.5555555555555556,
              "#d8576b"
             ],
             [
              0.6666666666666666,
              "#ed7953"
             ],
             [
              0.7777777777777778,
              "#fb9f3a"
             ],
             [
              0.8888888888888888,
              "#fdca26"
             ],
             [
              1,
              "#f0f921"
             ]
            ],
            "type": "heatmap"
           }
          ],
          "heatmapgl": [
           {
            "colorbar": {
             "outlinewidth": 0,
             "ticks": ""
            },
            "colorscale": [
             [
              0,
              "#0d0887"
             ],
             [
              0.1111111111111111,
              "#46039f"
             ],
             [
              0.2222222222222222,
              "#7201a8"
             ],
             [
              0.3333333333333333,
              "#9c179e"
             ],
             [
              0.4444444444444444,
              "#bd3786"
             ],
             [
              0.5555555555555556,
              "#d8576b"
             ],
             [
              0.6666666666666666,
              "#ed7953"
             ],
             [
              0.7777777777777778,
              "#fb9f3a"
             ],
             [
              0.8888888888888888,
              "#fdca26"
             ],
             [
              1,
              "#f0f921"
             ]
            ],
            "type": "heatmapgl"
           }
          ],
          "histogram": [
           {
            "marker": {
             "pattern": {
              "fillmode": "overlay",
              "size": 10,
              "solidity": 0.2
             }
            },
            "type": "histogram"
           }
          ],
          "histogram2d": [
           {
            "colorbar": {
             "outlinewidth": 0,
             "ticks": ""
            },
            "colorscale": [
             [
              0,
              "#0d0887"
             ],
             [
              0.1111111111111111,
              "#46039f"
             ],
             [
              0.2222222222222222,
              "#7201a8"
             ],
             [
              0.3333333333333333,
              "#9c179e"
             ],
             [
              0.4444444444444444,
              "#bd3786"
             ],
             [
              0.5555555555555556,
              "#d8576b"
             ],
             [
              0.6666666666666666,
              "#ed7953"
             ],
             [
              0.7777777777777778,
              "#fb9f3a"
             ],
             [
              0.8888888888888888,
              "#fdca26"
             ],
             [
              1,
              "#f0f921"
             ]
            ],
            "type": "histogram2d"
           }
          ],
          "histogram2dcontour": [
           {
            "colorbar": {
             "outlinewidth": 0,
             "ticks": ""
            },
            "colorscale": [
             [
              0,
              "#0d0887"
             ],
             [
              0.1111111111111111,
              "#46039f"
             ],
             [
              0.2222222222222222,
              "#7201a8"
             ],
             [
              0.3333333333333333,
              "#9c179e"
             ],
             [
              0.4444444444444444,
              "#bd3786"
             ],
             [
              0.5555555555555556,
              "#d8576b"
             ],
             [
              0.6666666666666666,
              "#ed7953"
             ],
             [
              0.7777777777777778,
              "#fb9f3a"
             ],
             [
              0.8888888888888888,
              "#fdca26"
             ],
             [
              1,
              "#f0f921"
             ]
            ],
            "type": "histogram2dcontour"
           }
          ],
          "mesh3d": [
           {
            "colorbar": {
             "outlinewidth": 0,
             "ticks": ""
            },
            "type": "mesh3d"
           }
          ],
          "parcoords": [
           {
            "line": {
             "colorbar": {
              "outlinewidth": 0,
              "ticks": ""
             }
            },
            "type": "parcoords"
           }
          ],
          "pie": [
           {
            "automargin": true,
            "type": "pie"
           }
          ],
          "scatter": [
           {
            "fillpattern": {
             "fillmode": "overlay",
             "size": 10,
             "solidity": 0.2
            },
            "type": "scatter"
           }
          ],
          "scatter3d": [
           {
            "line": {
             "colorbar": {
              "outlinewidth": 0,
              "ticks": ""
             }
            },
            "marker": {
             "colorbar": {
              "outlinewidth": 0,
              "ticks": ""
             }
            },
            "type": "scatter3d"
           }
          ],
          "scattercarpet": [
           {
            "marker": {
             "colorbar": {
              "outlinewidth": 0,
              "ticks": ""
             }
            },
            "type": "scattercarpet"
           }
          ],
          "scattergeo": [
           {
            "marker": {
             "colorbar": {
              "outlinewidth": 0,
              "ticks": ""
             }
            },
            "type": "scattergeo"
           }
          ],
          "scattergl": [
           {
            "marker": {
             "colorbar": {
              "outlinewidth": 0,
              "ticks": ""
             }
            },
            "type": "scattergl"
           }
          ],
          "scattermapbox": [
           {
            "marker": {
             "colorbar": {
              "outlinewidth": 0,
              "ticks": ""
             }
            },
            "type": "scattermapbox"
           }
          ],
          "scatterpolar": [
           {
            "marker": {
             "colorbar": {
              "outlinewidth": 0,
              "ticks": ""
             }
            },
            "type": "scatterpolar"
           }
          ],
          "scatterpolargl": [
           {
            "marker": {
             "colorbar": {
              "outlinewidth": 0,
              "ticks": ""
             }
            },
            "type": "scatterpolargl"
           }
          ],
          "scatterternary": [
           {
            "marker": {
             "colorbar": {
              "outlinewidth": 0,
              "ticks": ""
             }
            },
            "type": "scatterternary"
           }
          ],
          "surface": [
           {
            "colorbar": {
             "outlinewidth": 0,
             "ticks": ""
            },
            "colorscale": [
             [
              0,
              "#0d0887"
             ],
             [
              0.1111111111111111,
              "#46039f"
             ],
             [
              0.2222222222222222,
              "#7201a8"
             ],
             [
              0.3333333333333333,
              "#9c179e"
             ],
             [
              0.4444444444444444,
              "#bd3786"
             ],
             [
              0.5555555555555556,
              "#d8576b"
             ],
             [
              0.6666666666666666,
              "#ed7953"
             ],
             [
              0.7777777777777778,
              "#fb9f3a"
             ],
             [
              0.8888888888888888,
              "#fdca26"
             ],
             [
              1,
              "#f0f921"
             ]
            ],
            "type": "surface"
           }
          ],
          "table": [
           {
            "cells": {
             "fill": {
              "color": "#EBF0F8"
             },
             "line": {
              "color": "white"
             }
            },
            "header": {
             "fill": {
              "color": "#C8D4E3"
             },
             "line": {
              "color": "white"
             }
            },
            "type": "table"
           }
          ]
         },
         "layout": {
          "annotationdefaults": {
           "arrowcolor": "#2a3f5f",
           "arrowhead": 0,
           "arrowwidth": 1
          },
          "autotypenumbers": "strict",
          "coloraxis": {
           "colorbar": {
            "outlinewidth": 0,
            "ticks": ""
           }
          },
          "colorscale": {
           "diverging": [
            [
             0,
             "#8e0152"
            ],
            [
             0.1,
             "#c51b7d"
            ],
            [
             0.2,
             "#de77ae"
            ],
            [
             0.3,
             "#f1b6da"
            ],
            [
             0.4,
             "#fde0ef"
            ],
            [
             0.5,
             "#f7f7f7"
            ],
            [
             0.6,
             "#e6f5d0"
            ],
            [
             0.7,
             "#b8e186"
            ],
            [
             0.8,
             "#7fbc41"
            ],
            [
             0.9,
             "#4d9221"
            ],
            [
             1,
             "#276419"
            ]
           ],
           "sequential": [
            [
             0,
             "#0d0887"
            ],
            [
             0.1111111111111111,
             "#46039f"
            ],
            [
             0.2222222222222222,
             "#7201a8"
            ],
            [
             0.3333333333333333,
             "#9c179e"
            ],
            [
             0.4444444444444444,
             "#bd3786"
            ],
            [
             0.5555555555555556,
             "#d8576b"
            ],
            [
             0.6666666666666666,
             "#ed7953"
            ],
            [
             0.7777777777777778,
             "#fb9f3a"
            ],
            [
             0.8888888888888888,
             "#fdca26"
            ],
            [
             1,
             "#f0f921"
            ]
           ],
           "sequentialminus": [
            [
             0,
             "#0d0887"
            ],
            [
             0.1111111111111111,
             "#46039f"
            ],
            [
             0.2222222222222222,
             "#7201a8"
            ],
            [
             0.3333333333333333,
             "#9c179e"
            ],
            [
             0.4444444444444444,
             "#bd3786"
            ],
            [
             0.5555555555555556,
             "#d8576b"
            ],
            [
             0.6666666666666666,
             "#ed7953"
            ],
            [
             0.7777777777777778,
             "#fb9f3a"
            ],
            [
             0.8888888888888888,
             "#fdca26"
            ],
            [
             1,
             "#f0f921"
            ]
           ]
          },
          "colorway": [
           "#636efa",
           "#EF553B",
           "#00cc96",
           "#ab63fa",
           "#FFA15A",
           "#19d3f3",
           "#FF6692",
           "#B6E880",
           "#FF97FF",
           "#FECB52"
          ],
          "font": {
           "color": "#2a3f5f"
          },
          "geo": {
           "bgcolor": "white",
           "lakecolor": "white",
           "landcolor": "#E5ECF6",
           "showlakes": true,
           "showland": true,
           "subunitcolor": "white"
          },
          "hoverlabel": {
           "align": "left"
          },
          "hovermode": "closest",
          "mapbox": {
           "style": "light"
          },
          "paper_bgcolor": "white",
          "plot_bgcolor": "#E5ECF6",
          "polar": {
           "angularaxis": {
            "gridcolor": "white",
            "linecolor": "white",
            "ticks": ""
           },
           "bgcolor": "#E5ECF6",
           "radialaxis": {
            "gridcolor": "white",
            "linecolor": "white",
            "ticks": ""
           }
          },
          "scene": {
           "xaxis": {
            "backgroundcolor": "#E5ECF6",
            "gridcolor": "white",
            "gridwidth": 2,
            "linecolor": "white",
            "showbackground": true,
            "ticks": "",
            "zerolinecolor": "white"
           },
           "yaxis": {
            "backgroundcolor": "#E5ECF6",
            "gridcolor": "white",
            "gridwidth": 2,
            "linecolor": "white",
            "showbackground": true,
            "ticks": "",
            "zerolinecolor": "white"
           },
           "zaxis": {
            "backgroundcolor": "#E5ECF6",
            "gridcolor": "white",
            "gridwidth": 2,
            "linecolor": "white",
            "showbackground": true,
            "ticks": "",
            "zerolinecolor": "white"
           }
          },
          "shapedefaults": {
           "line": {
            "color": "#2a3f5f"
           }
          },
          "ternary": {
           "aaxis": {
            "gridcolor": "white",
            "linecolor": "white",
            "ticks": ""
           },
           "baxis": {
            "gridcolor": "white",
            "linecolor": "white",
            "ticks": ""
           },
           "bgcolor": "#E5ECF6",
           "caxis": {
            "gridcolor": "white",
            "linecolor": "white",
            "ticks": ""
           }
          },
          "title": {
           "x": 0.05
          },
          "xaxis": {
           "automargin": true,
           "gridcolor": "white",
           "linecolor": "white",
           "ticks": "",
           "title": {
            "standoff": 15
           },
           "zerolinecolor": "white",
           "zerolinewidth": 2
          },
          "yaxis": {
           "automargin": true,
           "gridcolor": "white",
           "linecolor": "white",
           "ticks": "",
           "title": {
            "standoff": 15
           },
           "zerolinecolor": "white",
           "zerolinewidth": 2
          }
         }
        },
        "title": {
         "text": "Cluesters Renda Anual e Score de Gasto"
        },
        "xaxis": {
         "anchor": "y",
         "domain": [
          0,
          1
         ],
         "title": {
          "text": "Renda Anual"
         }
        },
        "yaxis": {
         "anchor": "x",
         "domain": [
          0,
          1
         ],
         "title": {
          "text": "Score de Gasto"
         }
        }
       }
      }
     },
     "metadata": {},
     "output_type": "display_data"
    }
   ],
   "source": [
    "df_kmeans = pd.DataFrame({\n",
    "    'Renda_Anual': df['Annual Income (k$)'],\n",
    "    'Score_Gasto': df['Spending Score (1-100)'],\n",
    "    'cluster': labels.astype(str)\n",
    "})\n",
    "\n",
    "fig = px.scatter(df_kmeans, x='Renda_Anual', y='Score_Gasto', color='cluster',\n",
    "                 color_continuous_scale='viridis', opacity=0.7,\n",
    "                 title='Cluesters Renda Anual e Score de Gasto')\n",
    "\n",
    "fig.add_scatter(x=centroides[:, 0], y=centroides[:, 1],\n",
    "                mode='markers', marker=dict(color='black', symbol='x', size=14),\n",
    "                name='Centroides')\n",
    "\n",
    "fig.update_layout(xaxis_title='Renda Anual', yaxis_title='Score de Gasto', \n",
    "                  legend_title='Cluster')\n",
    "fig.show()"
   ]
  },
  {
   "cell_type": "markdown",
   "metadata": {},
   "source": [
    "O gráfico de dispersão mostra a segmentação dos clientes em **cinco clusters distintos**, agrupados com base na relação entre **renda anual** e **Spending Score**. A posição dos clusters sugere padrões de consumo bem definidos:  \n",
    "\n",
    "- **Cluster 0 (verde)** → Grupo centralizado, possivelmente clientes com renda e gastos moderados.  \n",
    "- **Cluster 1 (roxo)** → Distribuído na parte direita do gráfico, indicando clientes com alta renda e variação no Spending Score.  \n",
    "- **Cluster 2 (azul)** → Localizado na parte esquerda, possivelmente clientes com renda mais baixa e comportamento de consumo específico.  \n",
    "- **Cluster 3 (laranja)** → Espalhado na parte superior direita, sugerindo consumidores de alta renda com gastos elevados.  \n",
    "- **Cluster 4 (vermelho)** → Concentrado na parte superior, indicando clientes com alto Spending Score, independentemente da renda.  \n",
    "\n",
    "Os **centroides** posicionados no gráfico reforçam a separação clara entre os grupos, sugerindo que a segmentação pode ser útil para estratégias de **personalização de ofertas** e **marketing direcionado**.  \n"
   ]
  },
  {
   "cell_type": "markdown",
   "metadata": {},
   "source": [
    "Análisando os centroides na matriz de dispersão de idade e gasto"
   ]
  },
  {
   "cell_type": "code",
   "execution_count": 17,
   "metadata": {},
   "outputs": [
    {
     "data": {
      "application/vnd.plotly.v1+json": {
       "config": {
        "plotlyServerURL": "https://plot.ly"
       },
       "data": [
        {
         "hovertemplate": "cluster=3<br>Idade=%{x}<br>Score_Gasto=%{y}<extra></extra>",
         "legendgroup": "3",
         "marker": {
          "color": "#636efa",
          "opacity": 0.7,
          "symbol": "circle"
         },
         "mode": "markers",
         "name": "3",
         "orientation": "v",
         "showlegend": true,
         "type": "scatter",
         "x": [
          -1.4245687900521393,
          -1.3528021003769686,
          -0.5633685139500905,
          -0.2763017552494075,
          -0.13276837589906598,
          -0.2763017552494075,
          -0.2763017552494075,
          0.08253169312644625,
          -0.20453506557423673,
          -0.5633685139500905,
          -0.8504352726507735,
          -0.706901893300432,
          -0.5633685139500905,
          -0.41983513459974897,
          -0.5633685139500905,
          -0.8504352726507735,
          -1.4245687900521393,
          -1.49633547972731,
          -1.4245687900521393,
          -0.49160182427491966,
          -0.9222019623259441,
          0.08253169312644625,
          -1.1375020313514563,
          -0.061001686223895235,
          -1.2810354107017978,
          -1.209268721026627,
          -0.3480684449245782,
          -1.49633547972731,
          0.08253169312644625,
          -0.49160182427491966,
          -1.0657353416762856,
          -0.8504352726507735,
          -1.3528021003769686,
          -1.1375020313514563,
          -0.9222019623259441,
          -1.2810354107017978,
          -1.4245687900521393,
          -0.061001686223895235,
          -1.4245687900521393,
          -1.49633547972731,
          -1.4245687900521393,
          -0.8504352726507735,
          -0.061001686223895235,
          0.08253169312644625,
          -1.1375020313514563,
          -0.9939686520011148,
          -0.7786685829756027
         ],
         "xaxis": "x",
         "y": [
          -0.43480147996914814,
          -1.7159129834496736,
          -0.3959799192576171,
          -1.7159129834496736,
          -1.444162058468956,
          -0.5900877228152724,
          -0.5900877228152724,
          -0.7453739656613968,
          -0.9394817692190521,
          0.4192728556845355,
          -0.12422899427689955,
          -0.31833679783455493,
          -0.31833679783455493,
          0.38045129497300445,
          0.14752193070381797,
          0.03105724856922475,
          0.18634349141534906,
          0.34162973426147336,
          0.34162973426147336,
          -0.12422899427689955,
          0.14752193070381797,
          -0.08540743356536848,
          0.06987880928075582,
          0.18634349141534906,
          0.2639866128384112,
          0.18634349141534906,
          0.38045129497300445,
          -0.357158358546086,
          -0.3959799192576171,
          -0.31833679783455493,
          0.06987880928075582,
          -0.007764312142306325,
          -0.046585872853837404,
          -0.357158358546086,
          0.18634349141534906,
          -0.31833679783455493,
          0.14752193070381797,
          -0.31833679783455493,
          -0.16305055498843063,
          -0.08540743356536848,
          -0.007764312142306325,
          0.22516505212688012,
          -0.3959799192576171,
          0.30280817354994227,
          -0.823017087084459,
          -0.6289092835268035,
          -0.3959799192576171
         ],
         "yaxis": "y"
        },
        {
         "hovertemplate": "cluster=0<br>Idade=%{x}<br>Score_Gasto=%{y}<extra></extra>",
         "legendgroup": "0",
         "marker": {
          "color": "#EF553B",
          "opacity": 0.7,
          "symbol": "circle"
         },
         "mode": "markers",
         "name": "0",
         "orientation": "v",
         "showlegend": true,
         "type": "scatter",
         "x": [
          -1.2810354107017978,
          -1.1375020313514563,
          -1.209268721026627,
          -1.1375020313514563,
          -0.6351352036252612,
          -0.2763017552494075,
          -1.0657353416762856,
          -1.209268721026627,
          -1.3528021003769686,
          -0.2763017552494075,
          -0.9939686520011148,
          -0.5633685139500905,
          -0.706901893300432,
          -0.2763017552494075,
          -1.1375020313514563,
          -1.2810354107017978,
          -1.49633547972731,
          -1.2810354107017978,
          -0.6351352036252612,
          -1.3528021003769686,
          -1.0657353416762856,
          -1.0657353416762856
         ],
         "xaxis": "x",
         "y": [
          1.195704069915157,
          1.0404178270690327,
          1.0015962663575015,
          1.700384359165061,
          0.8463100235113773,
          1.8944921627227165,
          1.0404178270690327,
          1.118060948492095,
          0.6133806592421909,
          1.8556706020111853,
          0.8851315842229084,
          0.8851315842229084,
          1.234525630626688,
          0.4192728556845355,
          1.4286334341843434,
          0.8851315842229084,
          1.622741237741999,
          1.195704069915157,
          0.8851315842229084,
          0.9627747056459706,
          1.622741237741999,
          0.5745590985306598
         ],
         "yaxis": "y"
        },
        {
         "hovertemplate": "cluster=1<br>Idade=%{x}<br>Score_Gasto=%{y}<extra></extra>",
         "legendgroup": "1",
         "marker": {
          "color": "#00cc96",
          "opacity": 0.7,
          "symbol": "circle"
         },
         "mode": "markers",
         "name": "1",
         "orientation": "v",
         "showlegend": true,
         "type": "scatter",
         "x": [
          1.804932245330544,
          2.0202323143560563,
          1.3743321072795196,
          0.9437319692284951,
          0.5131318311774707,
          1.0872653485788366,
          0.44136514150229994,
          1.517865486629861,
          1.0154986589036659,
          0.728431900202983,
          0.22606507247678773,
          1.8766989350057148,
          0.6566652105278122,
          0.728431900202983,
          0.8001985898781537,
          0.728431900202983,
          1.4460987969546903,
          0.8001985898781537,
          0.5848985208526415,
          0.8719652795533244,
          2.163765693706398,
          1.0154986589036659,
          2.2355323833815683,
          2.0202323143560563,
          1.0872653485788366,
          1.7331655556553733,
          0.2978317621519585,
          2.091999004031227,
          2.2355323833815683,
          0.5848985208526415,
          1.517865486629861,
          1.517865486629861,
          1.4460987969546903,
          0.44136514150229994,
          0.728431900202983,
          1.3025654176043489,
          2.0202323143560563,
          0.5131318311774707,
          0.6566652105278122,
          1.1590320382540074,
          0.8001985898781537,
          2.091999004031227,
          0.6566652105278122,
          0.5848985208526415,
          0.6566652105278122,
          0.728431900202983,
          2.0202323143560563,
          0.728431900202983,
          1.9484656246808856,
          1.0872653485788366,
          2.091999004031227,
          1.9484656246808856,
          1.8766989350057148,
          1.7331655556553733,
          0.728431900202983,
          0.8719652795533244,
          0.8001985898781537,
          1.230798727929178
         ],
         "xaxis": "x",
         "y": [
          -1.832377665584267,
          -1.405340497757425,
          -1.3665189370458939,
          -0.823017087084459,
          -1.7547345441612048,
          -1.405340497757425,
          -0.7065524049498657,
          -1.7935561048727358,
          -1.7935561048727358,
          -1.405340497757425,
          -1.288875815622832,
          -0.5900877228152724,
          -0.5512661621037414,
          -0.86183864779599,
          0.18634349141534906,
          0.06987880928075582,
          0.38045129497300445,
          -0.20187211569996172,
          -0.357158358546086,
          -0.007764312142306325,
          -0.16305055498843063,
          -0.16305055498843063,
          0.22516505212688012,
          0.06987880928075582,
          0.34162973426147336,
          0.03105724856922475,
          -0.007764312142306325,
          -0.08540743356536848,
          0.18634349141534906,
          -0.31833679783455493,
          -0.046585872853837404,
          0.22516505212688012,
          -0.12422899427689955,
          0.1087003699922869,
          -0.31833679783455493,
          0.03105724856922475,
          -0.357158358546086,
          -0.24069367641149278,
          -0.16305055498843063,
          0.30280817354994227,
          -0.16305055498843063,
          0.18634349141534906,
          -0.046585872853837404,
          -0.12422899427689955,
          -0.31833679783455493,
          -0.08540743356536848,
          0.34162973426147336,
          0.22516505212688012,
          -0.007764312142306325,
          -0.16305055498843063,
          -0.27951523712302384,
          -0.08540743356536848,
          0.06987880928075582,
          -0.27951523712302384,
          0.34162973426147336,
          -0.27951523712302384,
          0.2639866128384112,
          -0.5900877228152724
         ],
         "yaxis": "y"
        },
        {
         "hovertemplate": "cluster=4<br>Idade=%{x}<br>Score_Gasto=%{y}<extra></extra>",
         "legendgroup": "4",
         "marker": {
          "color": "#ab63fa",
          "opacity": 0.7,
          "symbol": "circle"
         },
         "mode": "markers",
         "name": "4",
         "orientation": "v",
         "showlegend": true,
         "type": "scatter",
         "x": [
          0.010765003451275509,
          -0.5633685139500905,
          0.08253169312644625,
          -0.061001686223895235,
          0.010765003451275509,
          -0.5633685139500905,
          -0.706901893300432,
          -0.49160182427491966,
          -0.2763017552494075,
          -0.49160182427491966,
          -0.49160182427491966,
          -0.7786685829756027,
          -0.49160182427491966,
          -0.3480684449245782,
          0.010765003451275509,
          -0.061001686223895235,
          -0.8504352726507735,
          -0.6351352036252612,
          -0.6351352036252612,
          -0.706901893300432,
          -0.5633685139500905,
          -0.20453506557423673,
          -0.41983513459974897,
          -0.49160182427491966,
          -0.7786685829756027,
          -0.20453506557423673,
          -0.6351352036252612,
          -0.8504352726507735,
          -0.2763017552494075,
          -0.49160182427491966,
          -0.706901893300432,
          -0.6351352036252612,
          -0.7786685829756027,
          -0.20453506557423673,
          -0.49160182427491966,
          -0.061001686223895235,
          -0.2763017552494075,
          -0.49160182427491966,
          -0.6351352036252612
         ],
         "xaxis": "x",
         "y": [
          1.5839196770304678,
          1.0404178270690327,
          1.7392059198765921,
          0.9627747056459706,
          0.9627747056459706,
          0.8074884627998463,
          1.4674549948958746,
          0.8851315842229084,
          0.8463100235113773,
          1.66156279845353,
          1.4286334341843434,
          1.8168490412996543,
          0.9239531449344395,
          1.5450981163189368,
          1.4674549948958746,
          1.0015962663575015,
          1.5062765556074056,
          1.0792393877805637,
          0.8851315842229084,
          1.2733471913382193,
          1.66156279845353,
          0.9627747056459706,
          1.7392059198765921,
          0.49691597710759766,
          0.9627747056459706,
          1.622741237741999,
          1.3898118734728124,
          0.7298453413767841,
          1.5450981163189368,
          1.3898118734728124,
          1.4674549948958746,
          1.8168490412996543,
          0.691023780665253,
          1.3509903127612812,
          0.7298453413767841,
          1.5839196770304678,
          1.118060948492095,
          0.9239531449344395,
          1.2733471913382193
         ],
         "yaxis": "y"
        },
        {
         "hovertemplate": "cluster=2<br>Idade=%{x}<br>Score_Gasto=%{y}<extra></extra>",
         "legendgroup": "2",
         "marker": {
          "color": "#FFA15A",
          "opacity": 0.7,
          "symbol": "circle"
         },
         "mode": "markers",
         "name": "2",
         "orientation": "v",
         "showlegend": true,
         "type": "scatter",
         "x": [
          0.2978317621519585,
          1.4460987969546903,
          0.5848985208526415,
          -1.3528021003769686,
          0.36959845182712925,
          -1.4245687900521393,
          1.3025654176043489,
          -0.9939686520011148,
          0.6566652105278122,
          -0.3480684449245782,
          0.2978317621519585,
          0.36959845182712925,
          0.5848985208526415,
          -0.13276837589906598,
          -0.3480684449245782,
          -1.4245687900521393,
          0.8001985898781537,
          0.22606507247678773,
          -0.20453506557423673,
          0.08253169312644625,
          -0.20453506557423673,
          0.9437319692284951,
          1.3743321072795196,
          1.4460987969546903,
          -0.13276837589906598,
          0.5131318311774707,
          0.154298382801617,
          1.0872653485788366,
          0.154298382801617,
          -0.3480684449245782,
          -0.41983513459974897,
          0.5848985208526415,
          0.44136514150229994,
          -0.49160182427491966
         ],
         "xaxis": "x",
         "y": [
          -0.5900877228152724,
          -1.5218051798920182,
          -1.5994483013150804,
          -1.7547345441612048,
          -1.6770914227381426,
          -1.5606267406035494,
          -1.7547345441612048,
          -1.4829836191804873,
          -0.5512661621037414,
          -1.0947680120651764,
          -1.288875815622832,
          -1.1724111334882386,
          -1.327697376334363,
          -1.9100207870073291,
          -1.9100207870073291,
          -1.7547345441612048,
          -0.9394817692190521,
          -1.1724111334882386,
          -0.900660208507521,
          -1.444162058468956,
          -1.5606267406035494,
          -1.444162058468956,
          -1.3665189370458939,
          -1.405340497757425,
          -0.7065524049498657,
          -1.3665189370458939,
          -0.43480147996914814,
          -1.0171248906421142,
          -1.288875815622832,
          -1.0559464513536454,
          -1.6382698620266116,
          -1.327697376334363,
          -0.86183864779599,
          -1.2500542549113007
         ],
         "yaxis": "y"
        },
        {
         "marker": {
          "color": "black",
          "size": 14,
          "symbol": "x"
         },
         "mode": "markers",
         "name": "Centroides",
         "type": "scatter",
         "x": [
          0.5909090909090909,
          0.5689655172413793,
          0.4117647058823527,
          0.6595744680851063,
          0.5384615384615384
         ],
         "y": [
          -0.9743959184533413,
          1.1986274532472052,
          0.17329544771563277,
          -0.781722484663908,
          -0.44191719296133997
         ]
        }
       ],
       "layout": {
        "legend": {
         "title": {
          "text": "Cluster"
         },
         "tracegroupgap": 0
        },
        "template": {
         "data": {
          "bar": [
           {
            "error_x": {
             "color": "#2a3f5f"
            },
            "error_y": {
             "color": "#2a3f5f"
            },
            "marker": {
             "line": {
              "color": "#E5ECF6",
              "width": 0.5
             },
             "pattern": {
              "fillmode": "overlay",
              "size": 10,
              "solidity": 0.2
             }
            },
            "type": "bar"
           }
          ],
          "barpolar": [
           {
            "marker": {
             "line": {
              "color": "#E5ECF6",
              "width": 0.5
             },
             "pattern": {
              "fillmode": "overlay",
              "size": 10,
              "solidity": 0.2
             }
            },
            "type": "barpolar"
           }
          ],
          "carpet": [
           {
            "aaxis": {
             "endlinecolor": "#2a3f5f",
             "gridcolor": "white",
             "linecolor": "white",
             "minorgridcolor": "white",
             "startlinecolor": "#2a3f5f"
            },
            "baxis": {
             "endlinecolor": "#2a3f5f",
             "gridcolor": "white",
             "linecolor": "white",
             "minorgridcolor": "white",
             "startlinecolor": "#2a3f5f"
            },
            "type": "carpet"
           }
          ],
          "choropleth": [
           {
            "colorbar": {
             "outlinewidth": 0,
             "ticks": ""
            },
            "type": "choropleth"
           }
          ],
          "contour": [
           {
            "colorbar": {
             "outlinewidth": 0,
             "ticks": ""
            },
            "colorscale": [
             [
              0,
              "#0d0887"
             ],
             [
              0.1111111111111111,
              "#46039f"
             ],
             [
              0.2222222222222222,
              "#7201a8"
             ],
             [
              0.3333333333333333,
              "#9c179e"
             ],
             [
              0.4444444444444444,
              "#bd3786"
             ],
             [
              0.5555555555555556,
              "#d8576b"
             ],
             [
              0.6666666666666666,
              "#ed7953"
             ],
             [
              0.7777777777777778,
              "#fb9f3a"
             ],
             [
              0.8888888888888888,
              "#fdca26"
             ],
             [
              1,
              "#f0f921"
             ]
            ],
            "type": "contour"
           }
          ],
          "contourcarpet": [
           {
            "colorbar": {
             "outlinewidth": 0,
             "ticks": ""
            },
            "type": "contourcarpet"
           }
          ],
          "heatmap": [
           {
            "colorbar": {
             "outlinewidth": 0,
             "ticks": ""
            },
            "colorscale": [
             [
              0,
              "#0d0887"
             ],
             [
              0.1111111111111111,
              "#46039f"
             ],
             [
              0.2222222222222222,
              "#7201a8"
             ],
             [
              0.3333333333333333,
              "#9c179e"
             ],
             [
              0.4444444444444444,
              "#bd3786"
             ],
             [
              0.5555555555555556,
              "#d8576b"
             ],
             [
              0.6666666666666666,
              "#ed7953"
             ],
             [
              0.7777777777777778,
              "#fb9f3a"
             ],
             [
              0.8888888888888888,
              "#fdca26"
             ],
             [
              1,
              "#f0f921"
             ]
            ],
            "type": "heatmap"
           }
          ],
          "heatmapgl": [
           {
            "colorbar": {
             "outlinewidth": 0,
             "ticks": ""
            },
            "colorscale": [
             [
              0,
              "#0d0887"
             ],
             [
              0.1111111111111111,
              "#46039f"
             ],
             [
              0.2222222222222222,
              "#7201a8"
             ],
             [
              0.3333333333333333,
              "#9c179e"
             ],
             [
              0.4444444444444444,
              "#bd3786"
             ],
             [
              0.5555555555555556,
              "#d8576b"
             ],
             [
              0.6666666666666666,
              "#ed7953"
             ],
             [
              0.7777777777777778,
              "#fb9f3a"
             ],
             [
              0.8888888888888888,
              "#fdca26"
             ],
             [
              1,
              "#f0f921"
             ]
            ],
            "type": "heatmapgl"
           }
          ],
          "histogram": [
           {
            "marker": {
             "pattern": {
              "fillmode": "overlay",
              "size": 10,
              "solidity": 0.2
             }
            },
            "type": "histogram"
           }
          ],
          "histogram2d": [
           {
            "colorbar": {
             "outlinewidth": 0,
             "ticks": ""
            },
            "colorscale": [
             [
              0,
              "#0d0887"
             ],
             [
              0.1111111111111111,
              "#46039f"
             ],
             [
              0.2222222222222222,
              "#7201a8"
             ],
             [
              0.3333333333333333,
              "#9c179e"
             ],
             [
              0.4444444444444444,
              "#bd3786"
             ],
             [
              0.5555555555555556,
              "#d8576b"
             ],
             [
              0.6666666666666666,
              "#ed7953"
             ],
             [
              0.7777777777777778,
              "#fb9f3a"
             ],
             [
              0.8888888888888888,
              "#fdca26"
             ],
             [
              1,
              "#f0f921"
             ]
            ],
            "type": "histogram2d"
           }
          ],
          "histogram2dcontour": [
           {
            "colorbar": {
             "outlinewidth": 0,
             "ticks": ""
            },
            "colorscale": [
             [
              0,
              "#0d0887"
             ],
             [
              0.1111111111111111,
              "#46039f"
             ],
             [
              0.2222222222222222,
              "#7201a8"
             ],
             [
              0.3333333333333333,
              "#9c179e"
             ],
             [
              0.4444444444444444,
              "#bd3786"
             ],
             [
              0.5555555555555556,
              "#d8576b"
             ],
             [
              0.6666666666666666,
              "#ed7953"
             ],
             [
              0.7777777777777778,
              "#fb9f3a"
             ],
             [
              0.8888888888888888,
              "#fdca26"
             ],
             [
              1,
              "#f0f921"
             ]
            ],
            "type": "histogram2dcontour"
           }
          ],
          "mesh3d": [
           {
            "colorbar": {
             "outlinewidth": 0,
             "ticks": ""
            },
            "type": "mesh3d"
           }
          ],
          "parcoords": [
           {
            "line": {
             "colorbar": {
              "outlinewidth": 0,
              "ticks": ""
             }
            },
            "type": "parcoords"
           }
          ],
          "pie": [
           {
            "automargin": true,
            "type": "pie"
           }
          ],
          "scatter": [
           {
            "fillpattern": {
             "fillmode": "overlay",
             "size": 10,
             "solidity": 0.2
            },
            "type": "scatter"
           }
          ],
          "scatter3d": [
           {
            "line": {
             "colorbar": {
              "outlinewidth": 0,
              "ticks": ""
             }
            },
            "marker": {
             "colorbar": {
              "outlinewidth": 0,
              "ticks": ""
             }
            },
            "type": "scatter3d"
           }
          ],
          "scattercarpet": [
           {
            "marker": {
             "colorbar": {
              "outlinewidth": 0,
              "ticks": ""
             }
            },
            "type": "scattercarpet"
           }
          ],
          "scattergeo": [
           {
            "marker": {
             "colorbar": {
              "outlinewidth": 0,
              "ticks": ""
             }
            },
            "type": "scattergeo"
           }
          ],
          "scattergl": [
           {
            "marker": {
             "colorbar": {
              "outlinewidth": 0,
              "ticks": ""
             }
            },
            "type": "scattergl"
           }
          ],
          "scattermapbox": [
           {
            "marker": {
             "colorbar": {
              "outlinewidth": 0,
              "ticks": ""
             }
            },
            "type": "scattermapbox"
           }
          ],
          "scatterpolar": [
           {
            "marker": {
             "colorbar": {
              "outlinewidth": 0,
              "ticks": ""
             }
            },
            "type": "scatterpolar"
           }
          ],
          "scatterpolargl": [
           {
            "marker": {
             "colorbar": {
              "outlinewidth": 0,
              "ticks": ""
             }
            },
            "type": "scatterpolargl"
           }
          ],
          "scatterternary": [
           {
            "marker": {
             "colorbar": {
              "outlinewidth": 0,
              "ticks": ""
             }
            },
            "type": "scatterternary"
           }
          ],
          "surface": [
           {
            "colorbar": {
             "outlinewidth": 0,
             "ticks": ""
            },
            "colorscale": [
             [
              0,
              "#0d0887"
             ],
             [
              0.1111111111111111,
              "#46039f"
             ],
             [
              0.2222222222222222,
              "#7201a8"
             ],
             [
              0.3333333333333333,
              "#9c179e"
             ],
             [
              0.4444444444444444,
              "#bd3786"
             ],
             [
              0.5555555555555556,
              "#d8576b"
             ],
             [
              0.6666666666666666,
              "#ed7953"
             ],
             [
              0.7777777777777778,
              "#fb9f3a"
             ],
             [
              0.8888888888888888,
              "#fdca26"
             ],
             [
              1,
              "#f0f921"
             ]
            ],
            "type": "surface"
           }
          ],
          "table": [
           {
            "cells": {
             "fill": {
              "color": "#EBF0F8"
             },
             "line": {
              "color": "white"
             }
            },
            "header": {
             "fill": {
              "color": "#C8D4E3"
             },
             "line": {
              "color": "white"
             }
            },
            "type": "table"
           }
          ]
         },
         "layout": {
          "annotationdefaults": {
           "arrowcolor": "#2a3f5f",
           "arrowhead": 0,
           "arrowwidth": 1
          },
          "autotypenumbers": "strict",
          "coloraxis": {
           "colorbar": {
            "outlinewidth": 0,
            "ticks": ""
           }
          },
          "colorscale": {
           "diverging": [
            [
             0,
             "#8e0152"
            ],
            [
             0.1,
             "#c51b7d"
            ],
            [
             0.2,
             "#de77ae"
            ],
            [
             0.3,
             "#f1b6da"
            ],
            [
             0.4,
             "#fde0ef"
            ],
            [
             0.5,
             "#f7f7f7"
            ],
            [
             0.6,
             "#e6f5d0"
            ],
            [
             0.7,
             "#b8e186"
            ],
            [
             0.8,
             "#7fbc41"
            ],
            [
             0.9,
             "#4d9221"
            ],
            [
             1,
             "#276419"
            ]
           ],
           "sequential": [
            [
             0,
             "#0d0887"
            ],
            [
             0.1111111111111111,
             "#46039f"
            ],
            [
             0.2222222222222222,
             "#7201a8"
            ],
            [
             0.3333333333333333,
             "#9c179e"
            ],
            [
             0.4444444444444444,
             "#bd3786"
            ],
            [
             0.5555555555555556,
             "#d8576b"
            ],
            [
             0.6666666666666666,
             "#ed7953"
            ],
            [
             0.7777777777777778,
             "#fb9f3a"
            ],
            [
             0.8888888888888888,
             "#fdca26"
            ],
            [
             1,
             "#f0f921"
            ]
           ],
           "sequentialminus": [
            [
             0,
             "#0d0887"
            ],
            [
             0.1111111111111111,
             "#46039f"
            ],
            [
             0.2222222222222222,
             "#7201a8"
            ],
            [
             0.3333333333333333,
             "#9c179e"
            ],
            [
             0.4444444444444444,
             "#bd3786"
            ],
            [
             0.5555555555555556,
             "#d8576b"
            ],
            [
             0.6666666666666666,
             "#ed7953"
            ],
            [
             0.7777777777777778,
             "#fb9f3a"
            ],
            [
             0.8888888888888888,
             "#fdca26"
            ],
            [
             1,
             "#f0f921"
            ]
           ]
          },
          "colorway": [
           "#636efa",
           "#EF553B",
           "#00cc96",
           "#ab63fa",
           "#FFA15A",
           "#19d3f3",
           "#FF6692",
           "#B6E880",
           "#FF97FF",
           "#FECB52"
          ],
          "font": {
           "color": "#2a3f5f"
          },
          "geo": {
           "bgcolor": "white",
           "lakecolor": "white",
           "landcolor": "#E5ECF6",
           "showlakes": true,
           "showland": true,
           "subunitcolor": "white"
          },
          "hoverlabel": {
           "align": "left"
          },
          "hovermode": "closest",
          "mapbox": {
           "style": "light"
          },
          "paper_bgcolor": "white",
          "plot_bgcolor": "#E5ECF6",
          "polar": {
           "angularaxis": {
            "gridcolor": "white",
            "linecolor": "white",
            "ticks": ""
           },
           "bgcolor": "#E5ECF6",
           "radialaxis": {
            "gridcolor": "white",
            "linecolor": "white",
            "ticks": ""
           }
          },
          "scene": {
           "xaxis": {
            "backgroundcolor": "#E5ECF6",
            "gridcolor": "white",
            "gridwidth": 2,
            "linecolor": "white",
            "showbackground": true,
            "ticks": "",
            "zerolinecolor": "white"
           },
           "yaxis": {
            "backgroundcolor": "#E5ECF6",
            "gridcolor": "white",
            "gridwidth": 2,
            "linecolor": "white",
            "showbackground": true,
            "ticks": "",
            "zerolinecolor": "white"
           },
           "zaxis": {
            "backgroundcolor": "#E5ECF6",
            "gridcolor": "white",
            "gridwidth": 2,
            "linecolor": "white",
            "showbackground": true,
            "ticks": "",
            "zerolinecolor": "white"
           }
          },
          "shapedefaults": {
           "line": {
            "color": "#2a3f5f"
           }
          },
          "ternary": {
           "aaxis": {
            "gridcolor": "white",
            "linecolor": "white",
            "ticks": ""
           },
           "baxis": {
            "gridcolor": "white",
            "linecolor": "white",
            "ticks": ""
           },
           "bgcolor": "#E5ECF6",
           "caxis": {
            "gridcolor": "white",
            "linecolor": "white",
            "ticks": ""
           }
          },
          "title": {
           "x": 0.05
          },
          "xaxis": {
           "automargin": true,
           "gridcolor": "white",
           "linecolor": "white",
           "ticks": "",
           "title": {
            "standoff": 15
           },
           "zerolinecolor": "white",
           "zerolinewidth": 2
          },
          "yaxis": {
           "automargin": true,
           "gridcolor": "white",
           "linecolor": "white",
           "ticks": "",
           "title": {
            "standoff": 15
           },
           "zerolinecolor": "white",
           "zerolinewidth": 2
          }
         }
        },
        "title": {
         "text": "Cluesters Idade e Score de Gasto"
        },
        "xaxis": {
         "anchor": "y",
         "domain": [
          0,
          1
         ],
         "title": {
          "text": "Idade"
         }
        },
        "yaxis": {
         "anchor": "x",
         "domain": [
          0,
          1
         ],
         "title": {
          "text": "Score de Gasto"
         }
        }
       }
      }
     },
     "metadata": {},
     "output_type": "display_data"
    }
   ],
   "source": [
    "df_kmeans = pd.DataFrame({\n",
    "    'Idade': df['Age'],\n",
    "    'Score_Gasto': df['Spending Score (1-100)'],\n",
    "    'cluster': labels.astype(str)\n",
    "})\n",
    "\n",
    "fig = px.scatter(df_kmeans, x='Idade', y='Score_Gasto', color='cluster',\n",
    "                 color_continuous_scale='viridis', opacity=0.7,\n",
    "                 title='Cluesters Idade e Score de Gasto')\n",
    "\n",
    "fig.add_scatter(x=centroides[:, 0], y=centroides[:, 1],\n",
    "                mode='markers', marker=dict(color='black', symbol='x', size=14),\n",
    "                name='Centroides')\n",
    "\n",
    "fig.update_layout(xaxis_title='Idade', yaxis_title='Score de Gasto', \n",
    "                  legend_title='Cluster')\n",
    "fig.show()"
   ]
  },
  {
   "cell_type": "markdown",
   "metadata": {},
   "source": [
    "# Avaliação do Modelo"
   ]
  },
  {
   "cell_type": "markdown",
   "metadata": {},
   "source": [
    "Aplicando Método Silhouette e Elbow para verificar a qualidade do Cluster"
   ]
  },
  {
   "cell_type": "code",
   "execution_count": 18,
   "metadata": {},
   "outputs": [
    {
     "name": "stdout",
     "output_type": "stream",
     "text": [
      "Silhouette Score: 0.3498\n"
     ]
    }
   ],
   "source": [
    "from sklearn.metrics import silhouette_score\n",
    "\n",
    "silhouette_avg = silhouette_score(df, labels)\n",
    "print(f'Silhouette Score: {silhouette_avg:.4f}')"
   ]
  },
  {
   "cell_type": "markdown",
   "metadata": {},
   "source": [
    "O **Silhouette Score** obtido foi **0.3498**, o que sugere uma **segmentação moderadamente definida**.  \n",
    "Esse valor indica que os clusters possuem certa separação, mas ainda há pontos próximos das fronteiras entre os grupos. \n",
    "\n",
    "Interpretações:\n",
    "- **Valores próximos de 1** indicam clusters bem separados, enquanto valores perto de **0** sugerem agrupamentos menos definidos.  \n",
    "- O resultado **não é ruim**, mas pode indicar que alguns clientes estão em zonas de transição entre clusters, afetando a precisão da segmentação.  \n",
    "- Uma análise visual dos clusters pode ajudar a entender se ajustes no número de **k** (quantidade de clusters) pode melhorar a separação dos grupos.  "
   ]
  },
  {
   "cell_type": "code",
   "execution_count": 19,
   "metadata": {},
   "outputs": [
    {
     "name": "stderr",
     "output_type": "stream",
     "text": [
      "c:\\Users\\Ana Paula\\anaconda3\\Lib\\site-packages\\sklearn\\cluster\\_kmeans.py:870: FutureWarning:\n",
      "\n",
      "The default value of `n_init` will change from 10 to 'auto' in 1.4. Set the value of `n_init` explicitly to suppress the warning\n",
      "\n",
      "c:\\Users\\Ana Paula\\anaconda3\\Lib\\site-packages\\sklearn\\cluster\\_kmeans.py:1382: UserWarning:\n",
      "\n",
      "KMeans is known to have a memory leak on Windows with MKL, when there are less chunks than available threads. You can avoid it by setting the environment variable OMP_NUM_THREADS=1.\n",
      "\n",
      "c:\\Users\\Ana Paula\\anaconda3\\Lib\\site-packages\\sklearn\\cluster\\_kmeans.py:870: FutureWarning:\n",
      "\n",
      "The default value of `n_init` will change from 10 to 'auto' in 1.4. Set the value of `n_init` explicitly to suppress the warning\n",
      "\n",
      "c:\\Users\\Ana Paula\\anaconda3\\Lib\\site-packages\\sklearn\\cluster\\_kmeans.py:1382: UserWarning:\n",
      "\n",
      "KMeans is known to have a memory leak on Windows with MKL, when there are less chunks than available threads. You can avoid it by setting the environment variable OMP_NUM_THREADS=1.\n",
      "\n",
      "c:\\Users\\Ana Paula\\anaconda3\\Lib\\site-packages\\sklearn\\cluster\\_kmeans.py:870: FutureWarning:\n",
      "\n",
      "The default value of `n_init` will change from 10 to 'auto' in 1.4. Set the value of `n_init` explicitly to suppress the warning\n",
      "\n",
      "c:\\Users\\Ana Paula\\anaconda3\\Lib\\site-packages\\sklearn\\cluster\\_kmeans.py:1382: UserWarning:\n",
      "\n",
      "KMeans is known to have a memory leak on Windows with MKL, when there are less chunks than available threads. You can avoid it by setting the environment variable OMP_NUM_THREADS=1.\n",
      "\n",
      "c:\\Users\\Ana Paula\\anaconda3\\Lib\\site-packages\\sklearn\\cluster\\_kmeans.py:870: FutureWarning:\n",
      "\n",
      "The default value of `n_init` will change from 10 to 'auto' in 1.4. Set the value of `n_init` explicitly to suppress the warning\n",
      "\n",
      "c:\\Users\\Ana Paula\\anaconda3\\Lib\\site-packages\\sklearn\\cluster\\_kmeans.py:1382: UserWarning:\n",
      "\n",
      "KMeans is known to have a memory leak on Windows with MKL, when there are less chunks than available threads. You can avoid it by setting the environment variable OMP_NUM_THREADS=1.\n",
      "\n",
      "c:\\Users\\Ana Paula\\anaconda3\\Lib\\site-packages\\sklearn\\cluster\\_kmeans.py:870: FutureWarning:\n",
      "\n",
      "The default value of `n_init` will change from 10 to 'auto' in 1.4. Set the value of `n_init` explicitly to suppress the warning\n",
      "\n",
      "c:\\Users\\Ana Paula\\anaconda3\\Lib\\site-packages\\sklearn\\cluster\\_kmeans.py:1382: UserWarning:\n",
      "\n",
      "KMeans is known to have a memory leak on Windows with MKL, when there are less chunks than available threads. You can avoid it by setting the environment variable OMP_NUM_THREADS=1.\n",
      "\n",
      "c:\\Users\\Ana Paula\\anaconda3\\Lib\\site-packages\\sklearn\\cluster\\_kmeans.py:870: FutureWarning:\n",
      "\n",
      "The default value of `n_init` will change from 10 to 'auto' in 1.4. Set the value of `n_init` explicitly to suppress the warning\n",
      "\n",
      "c:\\Users\\Ana Paula\\anaconda3\\Lib\\site-packages\\sklearn\\cluster\\_kmeans.py:1382: UserWarning:\n",
      "\n",
      "KMeans is known to have a memory leak on Windows with MKL, when there are less chunks than available threads. You can avoid it by setting the environment variable OMP_NUM_THREADS=1.\n",
      "\n",
      "c:\\Users\\Ana Paula\\anaconda3\\Lib\\site-packages\\sklearn\\cluster\\_kmeans.py:870: FutureWarning:\n",
      "\n",
      "The default value of `n_init` will change from 10 to 'auto' in 1.4. Set the value of `n_init` explicitly to suppress the warning\n",
      "\n",
      "c:\\Users\\Ana Paula\\anaconda3\\Lib\\site-packages\\sklearn\\cluster\\_kmeans.py:1382: UserWarning:\n",
      "\n",
      "KMeans is known to have a memory leak on Windows with MKL, when there are less chunks than available threads. You can avoid it by setting the environment variable OMP_NUM_THREADS=1.\n",
      "\n",
      "c:\\Users\\Ana Paula\\anaconda3\\Lib\\site-packages\\sklearn\\cluster\\_kmeans.py:870: FutureWarning:\n",
      "\n",
      "The default value of `n_init` will change from 10 to 'auto' in 1.4. Set the value of `n_init` explicitly to suppress the warning\n",
      "\n",
      "c:\\Users\\Ana Paula\\anaconda3\\Lib\\site-packages\\sklearn\\cluster\\_kmeans.py:1382: UserWarning:\n",
      "\n",
      "KMeans is known to have a memory leak on Windows with MKL, when there are less chunks than available threads. You can avoid it by setting the environment variable OMP_NUM_THREADS=1.\n",
      "\n",
      "c:\\Users\\Ana Paula\\anaconda3\\Lib\\site-packages\\sklearn\\cluster\\_kmeans.py:870: FutureWarning:\n",
      "\n",
      "The default value of `n_init` will change from 10 to 'auto' in 1.4. Set the value of `n_init` explicitly to suppress the warning\n",
      "\n",
      "c:\\Users\\Ana Paula\\anaconda3\\Lib\\site-packages\\sklearn\\cluster\\_kmeans.py:1382: UserWarning:\n",
      "\n",
      "KMeans is known to have a memory leak on Windows with MKL, when there are less chunks than available threads. You can avoid it by setting the environment variable OMP_NUM_THREADS=1.\n",
      "\n"
     ]
    },
    {
     "data": {
      "image/png": "[encoded data removed]",
      "text/plain": [
       "<Figure size 640x480 with 1 Axes>"
      ]
     },
     "metadata": {},
     "output_type": "display_data"
    }
   ],
   "source": [
    "sse = []  \n",
    "\n",
    "for k in range(2, 11):\n",
    "    kmeans = KMeans(n_clusters=k, init='k-means++', random_state=42)\n",
    "    labels = kmeans.fit_predict(df)\n",
    "\n",
    "    score = silhouette_score(df, labels)\n",
    "    sse.append(score)\n",
    "\n",
    "plt.plot(range(2, 11), sse, marker='x')\n",
    "plt.xlabel('Número de Clusters')\n",
    "plt.ylabel('Silhouette Score')\n",
    "plt.title('Silhouette Score para diferentes números de Clusters')\n",
    "plt.show()\n"
   ]
  },
  {
   "cell_type": "markdown",
   "metadata": {},
   "source": [
    "No gráfico do Silhouette Score podemos identificar que até 6 clusters a qualidade da segmentação melhora.  \n",
    "O pico em 6 clusters sugere que essa pode ser a melhor escolha para garantir uma segmentação mais clara e bem definida."
   ]
  },
  {
   "cell_type": "markdown",
   "metadata": {},
   "source": [
    "**Vamos aplicar o Metodo Elbow para validar, ou não, a sugestão.**"
   ]
  },
  {
   "cell_type": "code",
   "execution_count": 20,
   "metadata": {},
   "outputs": [
    {
     "name": "stderr",
     "output_type": "stream",
     "text": [
      "c:\\Users\\Ana Paula\\anaconda3\\Lib\\site-packages\\sklearn\\cluster\\_kmeans.py:870: FutureWarning:\n",
      "\n",
      "The default value of `n_init` will change from 10 to 'auto' in 1.4. Set the value of `n_init` explicitly to suppress the warning\n",
      "\n",
      "c:\\Users\\Ana Paula\\anaconda3\\Lib\\site-packages\\sklearn\\cluster\\_kmeans.py:1382: UserWarning:\n",
      "\n",
      "KMeans is known to have a memory leak on Windows with MKL, when there are less chunks than available threads. You can avoid it by setting the environment variable OMP_NUM_THREADS=1.\n",
      "\n",
      "c:\\Users\\Ana Paula\\anaconda3\\Lib\\site-packages\\sklearn\\cluster\\_kmeans.py:870: FutureWarning:\n",
      "\n",
      "The default value of `n_init` will change from 10 to 'auto' in 1.4. Set the value of `n_init` explicitly to suppress the warning\n",
      "\n",
      "c:\\Users\\Ana Paula\\anaconda3\\Lib\\site-packages\\sklearn\\cluster\\_kmeans.py:1382: UserWarning:\n",
      "\n",
      "KMeans is known to have a memory leak on Windows with MKL, when there are less chunks than available threads. You can avoid it by setting the environment variable OMP_NUM_THREADS=1.\n",
      "\n",
      "c:\\Users\\Ana Paula\\anaconda3\\Lib\\site-packages\\sklearn\\cluster\\_kmeans.py:870: FutureWarning:\n",
      "\n",
      "The default value of `n_init` will change from 10 to 'auto' in 1.4. Set the value of `n_init` explicitly to suppress the warning\n",
      "\n",
      "c:\\Users\\Ana Paula\\anaconda3\\Lib\\site-packages\\sklearn\\cluster\\_kmeans.py:1382: UserWarning:\n",
      "\n",
      "KMeans is known to have a memory leak on Windows with MKL, when there are less chunks than available threads. You can avoid it by setting the environment variable OMP_NUM_THREADS=1.\n",
      "\n",
      "c:\\Users\\Ana Paula\\anaconda3\\Lib\\site-packages\\sklearn\\cluster\\_kmeans.py:870: FutureWarning:\n",
      "\n",
      "The default value of `n_init` will change from 10 to 'auto' in 1.4. Set the value of `n_init` explicitly to suppress the warning\n",
      "\n",
      "c:\\Users\\Ana Paula\\anaconda3\\Lib\\site-packages\\sklearn\\cluster\\_kmeans.py:1382: UserWarning:\n",
      "\n",
      "KMeans is known to have a memory leak on Windows with MKL, when there are less chunks than available threads. You can avoid it by setting the environment variable OMP_NUM_THREADS=1.\n",
      "\n",
      "c:\\Users\\Ana Paula\\anaconda3\\Lib\\site-packages\\sklearn\\cluster\\_kmeans.py:870: FutureWarning:\n",
      "\n",
      "The default value of `n_init` will change from 10 to 'auto' in 1.4. Set the value of `n_init` explicitly to suppress the warning\n",
      "\n",
      "c:\\Users\\Ana Paula\\anaconda3\\Lib\\site-packages\\sklearn\\cluster\\_kmeans.py:1382: UserWarning:\n",
      "\n",
      "KMeans is known to have a memory leak on Windows with MKL, when there are less chunks than available threads. You can avoid it by setting the environment variable OMP_NUM_THREADS=1.\n",
      "\n",
      "c:\\Users\\Ana Paula\\anaconda3\\Lib\\site-packages\\sklearn\\cluster\\_kmeans.py:870: FutureWarning:\n",
      "\n",
      "The default value of `n_init` will change from 10 to 'auto' in 1.4. Set the value of `n_init` explicitly to suppress the warning\n",
      "\n",
      "c:\\Users\\Ana Paula\\anaconda3\\Lib\\site-packages\\sklearn\\cluster\\_kmeans.py:1382: UserWarning:\n",
      "\n",
      "KMeans is known to have a memory leak on Windows with MKL, when there are less chunks than available threads. You can avoid it by setting the environment variable OMP_NUM_THREADS=1.\n",
      "\n",
      "c:\\Users\\Ana Paula\\anaconda3\\Lib\\site-packages\\sklearn\\cluster\\_kmeans.py:870: FutureWarning:\n",
      "\n",
      "The default value of `n_init` will change from 10 to 'auto' in 1.4. Set the value of `n_init` explicitly to suppress the warning\n",
      "\n",
      "c:\\Users\\Ana Paula\\anaconda3\\Lib\\site-packages\\sklearn\\cluster\\_kmeans.py:1382: UserWarning:\n",
      "\n",
      "KMeans is known to have a memory leak on Windows with MKL, when there are less chunks than available threads. You can avoid it by setting the environment variable OMP_NUM_THREADS=1.\n",
      "\n",
      "c:\\Users\\Ana Paula\\anaconda3\\Lib\\site-packages\\sklearn\\cluster\\_kmeans.py:870: FutureWarning:\n",
      "\n",
      "The default value of `n_init` will change from 10 to 'auto' in 1.4. Set the value of `n_init` explicitly to suppress the warning\n",
      "\n",
      "c:\\Users\\Ana Paula\\anaconda3\\Lib\\site-packages\\sklearn\\cluster\\_kmeans.py:1382: UserWarning:\n",
      "\n",
      "KMeans is known to have a memory leak on Windows with MKL, when there are less chunks than available threads. You can avoid it by setting the environment variable OMP_NUM_THREADS=1.\n",
      "\n",
      "c:\\Users\\Ana Paula\\anaconda3\\Lib\\site-packages\\sklearn\\cluster\\_kmeans.py:870: FutureWarning:\n",
      "\n",
      "The default value of `n_init` will change from 10 to 'auto' in 1.4. Set the value of `n_init` explicitly to suppress the warning\n",
      "\n",
      "c:\\Users\\Ana Paula\\anaconda3\\Lib\\site-packages\\sklearn\\cluster\\_kmeans.py:1382: UserWarning:\n",
      "\n",
      "KMeans is known to have a memory leak on Windows with MKL, when there are less chunks than available threads. You can avoid it by setting the environment variable OMP_NUM_THREADS=1.\n",
      "\n",
      "c:\\Users\\Ana Paula\\anaconda3\\Lib\\site-packages\\sklearn\\cluster\\_kmeans.py:870: FutureWarning:\n",
      "\n",
      "The default value of `n_init` will change from 10 to 'auto' in 1.4. Set the value of `n_init` explicitly to suppress the warning\n",
      "\n",
      "c:\\Users\\Ana Paula\\anaconda3\\Lib\\site-packages\\sklearn\\cluster\\_kmeans.py:1382: UserWarning:\n",
      "\n",
      "KMeans is known to have a memory leak on Windows with MKL, when there are less chunks than available threads. You can avoid it by setting the environment variable OMP_NUM_THREADS=1.\n",
      "\n"
     ]
    },
    {
     "data": {
      "image/png": "[encoded data removed]",
      "text/plain": [
       "<Figure size 800x500 with 1 Axes>"
      ]
     },
     "metadata": {},
     "output_type": "display_data"
    }
   ],
   "source": [
    "wcss = []\n",
    "k_values = range(1, 11)\n",
    "\n",
    "for k in k_values:\n",
    "    kmeans = KMeans(n_clusters=k, random_state=42)\n",
    "    kmeans.fit(df[['Age', 'Annual Income (k$)', 'Spending Score (1-100)']])\n",
    "    wcss.append(kmeans.inertia_)\n",
    "\n",
    "plt.figure(figsize=(8,5))\n",
    "plt.plot(k_values, wcss, '-o', color='darkblue')\n",
    "plt.xlabel('Número de Clusters (k)')\n",
    "plt.ylabel('WCSS (Within-Cluster Sum of Squares)')\n",
    "plt.title('Elbow Method para Determinação do Número Ideal de Clusters')\n",
    "plt.grid()\n",
    "plt.show()\n"
   ]
  },
  {
   "cell_type": "markdown",
   "metadata": {},
   "source": [
    "Segundo o gráfico do Elbow Method, o melhor número de clusters parece ser 4, pois é onde ocorre a \"dobra\" significativa da curva.  \n",
    "Após esse ponto, a redução da variabilidade dentro dos clusters se torna menos expressiva, indicando que adicionar mais clusters pode não melhorar significativamente a segmentação.\n",
    "\n",
    "**Comparação com o Silhouette Score:**  \n",
    "O Silhouette Score sugeria 6 clusters, mas o método Elbow aponta 4 clusters como uma opção mais equilibrada.  \n",
    "\n",
    "**Vamos testar ambos os valores (K=4 e K=6) e avaliar qualitativamente qual faz mais sentido para a segmentação dos clientes.**"
   ]
  },
  {
   "cell_type": "code",
   "execution_count": 21,
   "metadata": {},
   "outputs": [
    {
     "name": "stderr",
     "output_type": "stream",
     "text": [
      "c:\\Users\\Ana Paula\\anaconda3\\Lib\\site-packages\\sklearn\\cluster\\_kmeans.py:870: FutureWarning:\n",
      "\n",
      "The default value of `n_init` will change from 10 to 'auto' in 1.4. Set the value of `n_init` explicitly to suppress the warning\n",
      "\n",
      "c:\\Users\\Ana Paula\\anaconda3\\Lib\\site-packages\\sklearn\\cluster\\_kmeans.py:1382: UserWarning:\n",
      "\n",
      "KMeans is known to have a memory leak on Windows with MKL, when there are less chunks than available threads. You can avoid it by setting the environment variable OMP_NUM_THREADS=1.\n",
      "\n"
     ]
    },
    {
     "data": {
      "application/vnd.plotly.v1+json": {
       "config": {
        "plotlyServerURL": "https://plot.ly"
       },
       "data": [
        {
         "hovertemplate": "color=2<br>Annual Income (k$)=%{x}<br>Spending Score (1-100)=%{y}<extra></extra>",
         "legendgroup": "2",
         "marker": {
          "color": "#636efa",
          "symbol": "circle"
         },
         "mode": "markers",
         "name": "2",
         "orientation": "v",
         "showlegend": true,
         "type": "scatter",
         "x": [
          -1.7389991930659485,
          -1.7389991930659485,
          -1.7008297638941763,
          -1.7008297638941763,
          -1.6626603347224038,
          -1.6626603347224038,
          -1.6244909055506316,
          -1.5863214763788591,
          -1.5863214763788591,
          -1.5481520472070869,
          -1.5481520472070869,
          -1.5099826180353144,
          -1.5099826180353144,
          -1.4336437596917697,
          -1.3954743305199975,
          -1.3954743305199975,
          -1.357304901348225,
          -1.2427966138329078,
          -1.2427966138329078,
          -1.2046271846611356,
          -1.1664577554893631,
          -1.0519494679740462,
          -1.0519494679740462,
          -1.0137800388022737,
          -0.8992717512869568,
          -0.8611023221151844,
          -0.8229328929434121,
          -0.8229328929434121,
          -0.7847634637716397,
          -0.7847634637716397,
          -0.7847634637716397,
          -0.7084246054280949,
          -0.6702551762563226,
          -0.5557468887410055,
          -0.5557468887410055,
          -0.4794080303974609,
          -0.4794080303974609,
          -0.4794080303974609,
          -0.2503914553668267,
          -0.2503914553668267,
          -0.2503914553668267,
          -0.2503914553668267,
          -0.13588316785150967,
          -0.09771373867973732,
          -0.05954430950796496,
          -0.021374880336192604,
          -0.021374880336192604,
          -0.021374880336192604,
          0.01679454883557975,
          0.0549639780073521,
          0.0549639780073521,
          0.0549639780073521,
          0.09313340717912445,
          0.13130283635089682,
          0.16947226552266917,
          0.16947226552266917,
          0.24581112386621387
         ],
         "xaxis": "x",
         "y": [
          -0.43480147996914814,
          1.195704069915157,
          -1.7159129834496736,
          1.0404178270690327,
          -0.3959799192576171,
          1.0015962663575015,
          1.700384359165061,
          0.8463100235113773,
          1.8944921627227165,
          1.0404178270690327,
          1.118060948492095,
          -0.5900877228152724,
          0.6133806592421909,
          1.8556706020111853,
          -0.5900877228152724,
          0.8851315842229084,
          0.8851315842229084,
          1.234525630626688,
          0.4192728556845355,
          1.4286334341843434,
          0.8851315842229084,
          1.622741237741999,
          1.195704069915157,
          0.8851315842229084,
          0.9627747056459706,
          1.622741237741999,
          0.4192728556845355,
          0.5745590985306598,
          -0.12422899427689955,
          -0.31833679783455493,
          -0.31833679783455493,
          0.38045129497300445,
          0.14752193070381797,
          0.03105724856922475,
          0.18634349141534906,
          0.34162973426147336,
          0.34162973426147336,
          -0.12422899427689955,
          0.14752193070381797,
          0.06987880928075582,
          0.18634349141534906,
          0.2639866128384112,
          0.18634349141534906,
          0.38045129497300445,
          -0.357158358546086,
          -0.31833679783455493,
          0.06987880928075582,
          -0.007764312142306325,
          -0.046585872853837404,
          -0.357158358546086,
          0.18634349141534906,
          -0.31833679783455493,
          0.14752193070381797,
          -0.16305055498843063,
          -0.08540743356536848,
          -0.007764312142306325,
          0.22516505212688012
         ],
         "yaxis": "y"
        },
        {
         "hovertemplate": "color=3<br>Annual Income (k$)=%{x}<br>Spending Score (1-100)=%{y}<extra></extra>",
         "legendgroup": "3",
         "marker": {
          "color": "#EF553B",
          "symbol": "circle"
         },
         "mode": "markers",
         "name": "3",
         "orientation": "v",
         "showlegend": true,
         "type": "scatter",
         "x": [
          -1.6244909055506316,
          -1.5863214763788591,
          -1.5863214763788591,
          -1.5481520472070869,
          -1.5481520472070869,
          -1.4336437596917697,
          -1.357304901348225,
          -1.2427966138329078,
          -1.2427966138329078,
          -1.2046271846611356,
          -1.1664577554893631,
          -1.0519494679740462,
          -1.0519494679740462,
          -1.0137800388022737,
          -0.8992717512869568,
          -0.8611023221151844,
          -0.8229328929434121,
          -0.8229328929434121,
          -0.7847634637716397,
          -0.7084246054280949,
          -0.6702551762563226,
          -0.6702551762563226,
          -0.6702551762563226,
          -0.6320857470845502,
          -0.6320857470845502,
          -0.5557468887410055,
          -0.5557468887410055,
          -0.5175774595692332,
          -0.5175774595692332,
          -0.4794080303974609,
          -0.4794080303974609,
          -0.4794080303974609,
          -0.44123860122568853,
          -0.44123860122568853,
          -0.4030691720539161,
          -0.4030691720539161,
          -0.2503914553668267,
          -0.2503914553668267,
          -0.2503914553668267,
          -0.2503914553668267,
          -0.2503914553668267,
          -0.2503914553668267,
          -0.2503914553668267,
          -0.2503914553668267,
          -0.13588316785150967,
          -0.09771373867973732,
          -0.05954430950796496,
          -0.021374880336192604,
          -0.021374880336192604,
          -0.021374880336192604,
          0.01679454883557975,
          0.0549639780073521,
          0.0549639780073521,
          0.0549639780073521,
          0.09313340717912445,
          0.09313340717912445,
          0.09313340717912445,
          0.09313340717912445,
          0.09313340717912445,
          0.16947226552266917,
          0.16947226552266917,
          0.24581112386621387,
          0.24581112386621387,
          0.3984888405533033,
          0.7038442739274822
         ],
         "xaxis": "x",
         "y": [
          -1.7159129834496736,
          -1.832377665584267,
          -1.405340497757425,
          -1.3665189370458939,
          -1.444162058468956,
          -0.823017087084459,
          -1.7547345441612048,
          -1.405340497757425,
          -0.7065524049498657,
          -0.7453739656613968,
          -1.7935561048727358,
          -1.7935561048727358,
          -1.405340497757425,
          -1.288875815622832,
          -0.9394817692190521,
          -0.5900877228152724,
          -0.5512661621037414,
          -0.86183864779599,
          0.18634349141534906,
          0.06987880928075582,
          0.38045129497300445,
          -0.20187211569996172,
          -0.357158358546086,
          -0.007764312142306325,
          -0.16305055498843063,
          -0.16305055498843063,
          0.22516505212688012,
          0.06987880928075582,
          0.34162973426147336,
          0.03105724856922475,
          -0.007764312142306325,
          -0.08540743356536848,
          0.18634349141534906,
          -0.31833679783455493,
          -0.046585872853837404,
          0.22516505212688012,
          -0.12422899427689955,
          0.1087003699922869,
          -0.08540743356536848,
          -0.31833679783455493,
          0.03105724856922475,
          -0.357158358546086,
          -0.24069367641149278,
          -0.16305055498843063,
          0.30280817354994227,
          -0.16305055498843063,
          0.18634349141534906,
          -0.046585872853837404,
          -0.3959799192576171,
          -0.12422899427689955,
          -0.31833679783455493,
          -0.08540743356536848,
          0.34162973426147336,
          0.22516505212688012,
          -0.007764312142306325,
          -0.16305055498843063,
          -0.27951523712302384,
          -0.08540743356536848,
          0.06987880928075582,
          -0.27951523712302384,
          0.34162973426147336,
          -0.27951523712302384,
          0.2639866128384112,
          -1.5218051798920182,
          -0.5900877228152724
         ],
         "yaxis": "y"
        },
        {
         "hovertemplate": "color=0<br>Annual Income (k$)=%{x}<br>Spending Score (1-100)=%{y}<extra></extra>",
         "legendgroup": "0",
         "marker": {
          "color": "#00cc96",
          "symbol": "circle"
         },
         "mode": "markers",
         "name": "0",
         "orientation": "v",
         "showlegend": true,
         "type": "scatter",
         "x": [
          0.13130283635089682,
          0.24581112386621387,
          0.36031941138153095,
          0.3984888405533033,
          0.3984888405533033,
          0.43665826972507565,
          0.474827698896848,
          0.474827698896848,
          0.5129971280686204,
          0.5511665572403928,
          0.5893359864121651,
          0.6275054155839375,
          0.6275054155839375,
          0.6656748447557098,
          0.6656748447557098,
          0.6656748447557098,
          0.6656748447557098,
          0.6656748447557098,
          0.6656748447557098,
          0.7801831322710269,
          0.9328608489581163,
          0.9710302781298886,
          1.009199707301661,
          1.009199707301661,
          1.009199707301661,
          1.0473691364734332,
          1.0473691364734332,
          1.238216282332295,
          1.3908939990193845,
          1.429063428191157,
          1.4672328573629292,
          1.543571715706474,
          1.6199105740500186,
          1.6199105740500186,
          2.0016048657677423,
          2.2687908699701484,
          2.4978074450007828,
          2.9176711658902788
         ],
         "xaxis": "x",
         "y": [
          -0.31833679783455493,
          -0.3959799192576171,
          -0.823017087084459,
          -0.5900877228152724,
          -1.5994483013150804,
          -0.6289092835268035,
          -1.7547345441612048,
          -1.6770914227381426,
          -1.5606267406035494,
          -1.7547345441612048,
          -0.3959799192576171,
          -1.4829836191804873,
          -0.5512661621037414,
          -1.0947680120651764,
          -1.288875815622832,
          -1.1724111334882386,
          -1.327697376334363,
          -1.9100207870073291,
          -1.9100207870073291,
          -1.7547345441612048,
          -0.9394817692190521,
          -1.1724111334882386,
          -0.900660208507521,
          -1.444162058468956,
          -1.5606267406035494,
          -1.444162058468956,
          -1.3665189370458939,
          -1.405340497757425,
          -0.7065524049498657,
          -1.3665189370458939,
          -0.43480147996914814,
          -1.0171248906421142,
          -1.288875815622832,
          -1.0559464513536454,
          -1.6382698620266116,
          -1.327697376334363,
          -0.86183864779599,
          -1.2500542549113007
         ],
         "yaxis": "y"
        },
        {
         "hovertemplate": "color=1<br>Annual Income (k$)=%{x}<br>Spending Score (1-100)=%{y}<extra></extra>",
         "legendgroup": "1",
         "marker": {
          "color": "#ab63fa",
          "symbol": "circle"
         },
         "mode": "markers",
         "name": "1",
         "orientation": "v",
         "showlegend": true,
         "type": "scatter",
         "x": [
          0.3221499822097586,
          0.3221499822097586,
          0.36031941138153095,
          0.3984888405533033,
          0.3984888405533033,
          0.3984888405533033,
          0.43665826972507565,
          0.474827698896848,
          0.474827698896848,
          0.5129971280686204,
          0.5511665572403928,
          0.5893359864121651,
          0.6275054155839375,
          0.6275054155839375,
          0.6656748447557098,
          0.6656748447557098,
          0.6656748447557098,
          0.6656748447557098,
          0.6656748447557098,
          0.6656748447557098,
          0.7038442739274822,
          0.7801831322710269,
          0.9328608489581163,
          0.9710302781298886,
          1.009199707301661,
          1.009199707301661,
          1.009199707301661,
          1.0473691364734332,
          1.0473691364734332,
          1.238216282332295,
          1.3908939990193845,
          1.429063428191157,
          1.4672328573629292,
          1.543571715706474,
          1.6199105740500186,
          1.6199105740500186,
          2.0016048657677423,
          2.2687908699701484,
          2.4978074450007828,
          2.9176711658902788
         ],
         "xaxis": "x",
         "y": [
          0.30280817354994227,
          1.5839196770304678,
          1.0404178270690327,
          1.7392059198765921,
          0.9627747056459706,
          0.9627747056459706,
          0.8074884627998463,
          1.4674549948958746,
          0.8851315842229084,
          0.8463100235113773,
          1.66156279845353,
          1.4286334341843434,
          1.8168490412996543,
          0.9239531449344395,
          1.5450981163189368,
          1.4674549948958746,
          1.0015962663575015,
          1.5062765556074056,
          1.0792393877805637,
          0.8851315842229084,
          1.2733471913382193,
          1.66156279845353,
          0.9627747056459706,
          1.7392059198765921,
          0.49691597710759766,
          0.9627747056459706,
          1.622741237741999,
          1.3898118734728124,
          0.7298453413767841,
          1.5450981163189368,
          1.3898118734728124,
          1.4674549948958746,
          1.8168490412996543,
          0.691023780665253,
          1.3509903127612812,
          0.7298453413767841,
          1.5839196770304678,
          1.118060948492095,
          0.9239531449344395,
          1.2733471913382193
         ],
         "yaxis": "y"
        },
        {
         "marker": {
          "color": "black",
          "size": 12,
          "symbol": "x"
         },
         "mode": "markers",
         "name": "Centroides",
         "type": "scatter",
         "x": [
          0.9901149927157746,
          0.9748472210470658,
          -0.7847634637716395,
          -0.49056524815536345
         ],
         "y": [
          -1.188757053787831,
          1.2160853892887111,
          0.39202965518521543,
          -0.3971744288179718
         ]
        }
       ],
       "layout": {
        "legend": {
         "title": {
          "text": "color"
         },
         "tracegroupgap": 0
        },
        "template": {
         "data": {
          "bar": [
           {
            "error_x": {
             "color": "#2a3f5f"
            },
            "error_y": {
             "color": "#2a3f5f"
            },
            "marker": {
             "line": {
              "color": "#E5ECF6",
              "width": 0.5
             },
             "pattern": {
              "fillmode": "overlay",
              "size": 10,
              "solidity": 0.2
             }
            },
            "type": "bar"
           }
          ],
          "barpolar": [
           {
            "marker": {
             "line": {
              "color": "#E5ECF6",
              "width": 0.5
             },
             "pattern": {
              "fillmode": "overlay",
              "size": 10,
              "solidity": 0.2
             }
            },
            "type": "barpolar"
           }
          ],
          "carpet": [
           {
            "aaxis": {
             "endlinecolor": "#2a3f5f",
             "gridcolor": "white",
             "linecolor": "white",
             "minorgridcolor": "white",
             "startlinecolor": "#2a3f5f"
            },
            "baxis": {
             "endlinecolor": "#2a3f5f",
             "gridcolor": "white",
             "linecolor": "white",
             "minorgridcolor": "white",
             "startlinecolor": "#2a3f5f"
            },
            "type": "carpet"
           }
          ],
          "choropleth": [
           {
            "colorbar": {
             "outlinewidth": 0,
             "ticks": ""
            },
            "type": "choropleth"
           }
          ],
          "contour": [
           {
            "colorbar": {
             "outlinewidth": 0,
             "ticks": ""
            },
            "colorscale": [
             [
              0,
              "#0d0887"
             ],
             [
              0.1111111111111111,
              "#46039f"
             ],
             [
              0.2222222222222222,
              "#7201a8"
             ],
             [
              0.3333333333333333,
              "#9c179e"
             ],
             [
              0.4444444444444444,
              "#bd3786"
             ],
             [
              0.5555555555555556,
              "#d8576b"
             ],
             [
              0.6666666666666666,
              "#ed7953"
             ],
             [
              0.7777777777777778,
              "#fb9f3a"
             ],
             [
              0.8888888888888888,
              "#fdca26"
             ],
             [
              1,
              "#f0f921"
             ]
            ],
            "type": "contour"
           }
          ],
          "contourcarpet": [
           {
            "colorbar": {
             "outlinewidth": 0,
             "ticks": ""
            },
            "type": "contourcarpet"
           }
          ],
          "heatmap": [
           {
            "colorbar": {
             "outlinewidth": 0,
             "ticks": ""
            },
            "colorscale": [
             [
              0,
              "#0d0887"
             ],
             [
              0.1111111111111111,
              "#46039f"
             ],
             [
              0.2222222222222222,
              "#7201a8"
             ],
             [
              0.3333333333333333,
              "#9c179e"
             ],
             [
              0.4444444444444444,
              "#bd3786"
             ],
             [
              0.5555555555555556,
              "#d8576b"
             ],
             [
              0.6666666666666666,
              "#ed7953"
             ],
             [
              0.7777777777777778,
              "#fb9f3a"
             ],
             [
              0.8888888888888888,
              "#fdca26"
             ],
             [
              1,
              "#f0f921"
             ]
            ],
            "type": "heatmap"
           }
          ],
          "heatmapgl": [
           {
            "colorbar": {
             "outlinewidth": 0,
             "ticks": ""
            },
            "colorscale": [
             [
              0,
              "#0d0887"
             ],
             [
              0.1111111111111111,
              "#46039f"
             ],
             [
              0.2222222222222222,
              "#7201a8"
             ],
             [
              0.3333333333333333,
              "#9c179e"
             ],
             [
              0.4444444444444444,
              "#bd3786"
             ],
             [
              0.5555555555555556,
              "#d8576b"
             ],
             [
              0.6666666666666666,
              "#ed7953"
             ],
             [
              0.7777777777777778,
              "#fb9f3a"
             ],
             [
              0.8888888888888888,
              "#fdca26"
             ],
             [
              1,
              "#f0f921"
             ]
            ],
            "type": "heatmapgl"
           }
          ],
          "histogram": [
           {
            "marker": {
             "pattern": {
              "fillmode": "overlay",
              "size": 10,
              "solidity": 0.2
             }
            },
            "type": "histogram"
           }
          ],
          "histogram2d": [
           {
            "colorbar": {
             "outlinewidth": 0,
             "ticks": ""
            },
            "colorscale": [
             [
              0,
              "#0d0887"
             ],
             [
              0.1111111111111111,
              "#46039f"
             ],
             [
              0.2222222222222222,
              "#7201a8"
             ],
             [
              0.3333333333333333,
              "#9c179e"
             ],
             [
              0.4444444444444444,
              "#bd3786"
             ],
             [
              0.5555555555555556,
              "#d8576b"
             ],
             [
              0.6666666666666666,
              "#ed7953"
             ],
             [
              0.7777777777777778,
              "#fb9f3a"
             ],
             [
              0.8888888888888888,
              "#fdca26"
             ],
             [
              1,
              "#f0f921"
             ]
            ],
            "type": "histogram2d"
           }
          ],
          "histogram2dcontour": [
           {
            "colorbar": {
             "outlinewidth": 0,
             "ticks": ""
            },
            "colorscale": [
             [
              0,
              "#0d0887"
             ],
             [
              0.1111111111111111,
              "#46039f"
             ],
             [
              0.2222222222222222,
              "#7201a8"
             ],
             [
              0.3333333333333333,
              "#9c179e"
             ],
             [
              0.4444444444444444,
              "#bd3786"
             ],
             [
              0.5555555555555556,
              "#d8576b"
             ],
             [
              0.6666666666666666,
              "#ed7953"
             ],
             [
              0.7777777777777778,
              "#fb9f3a"
             ],
             [
              0.8888888888888888,
              "#fdca26"
             ],
             [
              1,
              "#f0f921"
             ]
            ],
            "type": "histogram2dcontour"
           }
          ],
          "mesh3d": [
           {
            "colorbar": {
             "outlinewidth": 0,
             "ticks": ""
            },
            "type": "mesh3d"
           }
          ],
          "parcoords": [
           {
            "line": {
             "colorbar": {
              "outlinewidth": 0,
              "ticks": ""
             }
            },
            "type": "parcoords"
           }
          ],
          "pie": [
           {
            "automargin": true,
            "type": "pie"
           }
          ],
          "scatter": [
           {
            "fillpattern": {
             "fillmode": "overlay",
             "size": 10,
             "solidity": 0.2
            },
            "type": "scatter"
           }
          ],
          "scatter3d": [
           {
            "line": {
             "colorbar": {
              "outlinewidth": 0,
              "ticks": ""
             }
            },
            "marker": {
             "colorbar": {
              "outlinewidth": 0,
              "ticks": ""
             }
            },
            "type": "scatter3d"
           }
          ],
          "scattercarpet": [
           {
            "marker": {
             "colorbar": {
              "outlinewidth": 0,
              "ticks": ""
             }
            },
            "type": "scattercarpet"
           }
          ],
          "scattergeo": [
           {
            "marker": {
             "colorbar": {
              "outlinewidth": 0,
              "ticks": ""
             }
            },
            "type": "scattergeo"
           }
          ],
          "scattergl": [
           {
            "marker": {
             "colorbar": {
              "outlinewidth": 0,
              "ticks": ""
             }
            },
            "type": "scattergl"
           }
          ],
          "scattermapbox": [
           {
            "marker": {
             "colorbar": {
              "outlinewidth": 0,
              "ticks": ""
             }
            },
            "type": "scattermapbox"
           }
          ],
          "scatterpolar": [
           {
            "marker": {
             "colorbar": {
              "outlinewidth": 0,
              "ticks": ""
             }
            },
            "type": "scatterpolar"
           }
          ],
          "scatterpolargl": [
           {
            "marker": {
             "colorbar": {
              "outlinewidth": 0,
              "ticks": ""
             }
            },
            "type": "scatterpolargl"
           }
          ],
          "scatterternary": [
           {
            "marker": {
             "colorbar": {
              "outlinewidth": 0,
              "ticks": ""
             }
            },
            "type": "scatterternary"
           }
          ],
          "surface": [
           {
            "colorbar": {
             "outlinewidth": 0,
             "ticks": ""
            },
            "colorscale": [
             [
              0,
              "#0d0887"
             ],
             [
              0.1111111111111111,
              "#46039f"
             ],
             [
              0.2222222222222222,
              "#7201a8"
             ],
             [
              0.3333333333333333,
              "#9c179e"
             ],
             [
              0.4444444444444444,
              "#bd3786"
             ],
             [
              0.5555555555555556,
              "#d8576b"
             ],
             [
              0.6666666666666666,
              "#ed7953"
             ],
             [
              0.7777777777777778,
              "#fb9f3a"
             ],
             [
              0.8888888888888888,
              "#fdca26"
             ],
             [
              1,
              "#f0f921"
             ]
            ],
            "type": "surface"
           }
          ],
          "table": [
           {
            "cells": {
             "fill": {
              "color": "#EBF0F8"
             },
             "line": {
              "color": "white"
             }
            },
            "header": {
             "fill": {
              "color": "#C8D4E3"
             },
             "line": {
              "color": "white"
             }
            },
            "type": "table"
           }
          ]
         },
         "layout": {
          "annotationdefaults": {
           "arrowcolor": "#2a3f5f",
           "arrowhead": 0,
           "arrowwidth": 1
          },
          "autotypenumbers": "strict",
          "coloraxis": {
           "colorbar": {
            "outlinewidth": 0,
            "ticks": ""
           }
          },
          "colorscale": {
           "diverging": [
            [
             0,
             "#8e0152"
            ],
            [
             0.1,
             "#c51b7d"
            ],
            [
             0.2,
             "#de77ae"
            ],
            [
             0.3,
             "#f1b6da"
            ],
            [
             0.4,
             "#fde0ef"
            ],
            [
             0.5,
             "#f7f7f7"
            ],
            [
             0.6,
             "#e6f5d0"
            ],
            [
             0.7,
             "#b8e186"
            ],
            [
             0.8,
             "#7fbc41"
            ],
            [
             0.9,
             "#4d9221"
            ],
            [
             1,
             "#276419"
            ]
           ],
           "sequential": [
            [
             0,
             "#0d0887"
            ],
            [
             0.1111111111111111,
             "#46039f"
            ],
            [
             0.2222222222222222,
             "#7201a8"
            ],
            [
             0.3333333333333333,
             "#9c179e"
            ],
            [
             0.4444444444444444,
             "#bd3786"
            ],
            [
             0.5555555555555556,
             "#d8576b"
            ],
            [
             0.6666666666666666,
             "#ed7953"
            ],
            [
             0.7777777777777778,
             "#fb9f3a"
            ],
            [
             0.8888888888888888,
             "#fdca26"
            ],
            [
             1,
             "#f0f921"
            ]
           ],
           "sequentialminus": [
            [
             0,
             "#0d0887"
            ],
            [
             0.1111111111111111,
             "#46039f"
            ],
            [
             0.2222222222222222,
             "#7201a8"
            ],
            [
             0.3333333333333333,
             "#9c179e"
            ],
            [
             0.4444444444444444,
             "#bd3786"
            ],
            [
             0.5555555555555556,
             "#d8576b"
            ],
            [
             0.6666666666666666,
             "#ed7953"
            ],
            [
             0.7777777777777778,
             "#fb9f3a"
            ],
            [
             0.8888888888888888,
             "#fdca26"
            ],
            [
             1,
             "#f0f921"
            ]
           ]
          },
          "colorway": [
           "#636efa",
           "#EF553B",
           "#00cc96",
           "#ab63fa",
           "#FFA15A",
           "#19d3f3",
           "#FF6692",
           "#B6E880",
           "#FF97FF",
           "#FECB52"
          ],
          "font": {
           "color": "#2a3f5f"
          },
          "geo": {
           "bgcolor": "white",
           "lakecolor": "white",
           "landcolor": "#E5ECF6",
           "showlakes": true,
           "showland": true,
           "subunitcolor": "white"
          },
          "hoverlabel": {
           "align": "left"
          },
          "hovermode": "closest",
          "mapbox": {
           "style": "light"
          },
          "paper_bgcolor": "white",
          "plot_bgcolor": "#E5ECF6",
          "polar": {
           "angularaxis": {
            "gridcolor": "white",
            "linecolor": "white",
            "ticks": ""
           },
           "bgcolor": "#E5ECF6",
           "radialaxis": {
            "gridcolor": "white",
            "linecolor": "white",
            "ticks": ""
           }
          },
          "scene": {
           "xaxis": {
            "backgroundcolor": "#E5ECF6",
            "gridcolor": "white",
            "gridwidth": 2,
            "linecolor": "white",
            "showbackground": true,
            "ticks": "",
            "zerolinecolor": "white"
           },
           "yaxis": {
            "backgroundcolor": "#E5ECF6",
            "gridcolor": "white",
            "gridwidth": 2,
            "linecolor": "white",
            "showbackground": true,
            "ticks": "",
            "zerolinecolor": "white"
           },
           "zaxis": {
            "backgroundcolor": "#E5ECF6",
            "gridcolor": "white",
            "gridwidth": 2,
            "linecolor": "white",
            "showbackground": true,
            "ticks": "",
            "zerolinecolor": "white"
           }
          },
          "shapedefaults": {
           "line": {
            "color": "#2a3f5f"
           }
          },
          "ternary": {
           "aaxis": {
            "gridcolor": "white",
            "linecolor": "white",
            "ticks": ""
           },
           "baxis": {
            "gridcolor": "white",
            "linecolor": "white",
            "ticks": ""
           },
           "bgcolor": "#E5ECF6",
           "caxis": {
            "gridcolor": "white",
            "linecolor": "white",
            "ticks": ""
           }
          },
          "title": {
           "x": 0.05
          },
          "xaxis": {
           "automargin": true,
           "gridcolor": "white",
           "linecolor": "white",
           "ticks": "",
           "title": {
            "standoff": 15
           },
           "zerolinecolor": "white",
           "zerolinewidth": 2
          },
          "yaxis": {
           "automargin": true,
           "gridcolor": "white",
           "linecolor": "white",
           "ticks": "",
           "title": {
            "standoff": 15
           },
           "zerolinecolor": "white",
           "zerolinewidth": 2
          }
         }
        },
        "title": {
         "text": "Segmentação dos Clientes com K=4 Clusters"
        },
        "xaxis": {
         "anchor": "y",
         "domain": [
          0,
          1
         ],
         "title": {
          "text": "Annual Income (k$)"
         }
        },
        "yaxis": {
         "anchor": "x",
         "domain": [
          0,
          1
         ],
         "title": {
          "text": "Spending Score (1-100)"
         }
        }
       }
      }
     },
     "metadata": {},
     "output_type": "display_data"
    }
   ],
   "source": [
    "kmeans_4 = KMeans(n_clusters=4, random_state=42)\n",
    "df['Cluster_4'] = kmeans_4.fit_predict(df[['Age', 'Annual Income (k$)', 'Spending Score (1-100)']])\n",
    "centroids_4 = kmeans_4.cluster_centers_\n",
    "\n",
    "df_centroids_4 = pd.DataFrame(centroids_4, columns=['Age', 'Annual Income (k$)', 'Spending Score (1-100)'])\n",
    "\n",
    "fig_4 = px.scatter(df, x='Annual Income (k$)', y='Spending Score (1-100)', \n",
    "                   color=df['Cluster_4'].astype(str), \n",
    "                   title=\"Segmentação dos Clientes com K=4 Clusters\")\n",
    "\n",
    "fig_4.add_scatter(x=df_centroids_4['Annual Income (k$)'], y=df_centroids_4['Spending Score (1-100)'], \n",
    "                  mode='markers', marker=dict(size=12, color='black', symbol='x'), name=\"Centroides\")\n",
    "fig_4.show()"
   ]
  },
  {
   "cell_type": "markdown",
   "metadata": {},
   "source": [
    "A segmentação com K=4 mostra clusters bem definidos, indicando padrões claros de agrupamento.  \n",
    "Observamos uma distribuição distinta dos grupos, onde alguns estão mais concentrados, enquanto outros apresentam maior dispersão. Em especial, os clusters 2 e 0 com maior variabilidade, sugerindo que podem incluir clientes com comportamentos distintos dentro de suas respectivas categorias."
   ]
  },
  {
   "cell_type": "code",
   "execution_count": 22,
   "metadata": {},
   "outputs": [
    {
     "name": "stderr",
     "output_type": "stream",
     "text": [
      "c:\\Users\\Ana Paula\\anaconda3\\Lib\\site-packages\\sklearn\\cluster\\_kmeans.py:870: FutureWarning:\n",
      "\n",
      "The default value of `n_init` will change from 10 to 'auto' in 1.4. Set the value of `n_init` explicitly to suppress the warning\n",
      "\n",
      "c:\\Users\\Ana Paula\\anaconda3\\Lib\\site-packages\\sklearn\\cluster\\_kmeans.py:1382: UserWarning:\n",
      "\n",
      "KMeans is known to have a memory leak on Windows with MKL, when there are less chunks than available threads. You can avoid it by setting the environment variable OMP_NUM_THREADS=1.\n",
      "\n"
     ]
    },
    {
     "data": {
      "application/vnd.plotly.v1+json": {
       "config": {
        "plotlyServerURL": "https://plot.ly"
       },
       "data": [
        {
         "hovertemplate": "color=0<br>Annual Income (k$)=%{x}<br>Spending Score (1-100)=%{y}<extra></extra>",
         "legendgroup": "0",
         "marker": {
          "color": "#636efa",
          "symbol": "circle"
         },
         "mode": "markers",
         "name": "0",
         "orientation": "v",
         "showlegend": true,
         "type": "scatter",
         "x": [
          -1.7389991930659485,
          -1.7389991930659485,
          -1.7008297638941763,
          -1.6626603347224038,
          -1.6244909055506316,
          -1.5863214763788591,
          -1.5863214763788591,
          -1.5481520472070869,
          -1.5481520472070869,
          -1.5099826180353144,
          -1.4336437596917697,
          -1.3954743305199975,
          -1.357304901348225,
          -1.2427966138329078,
          -1.2427966138329078,
          -1.2046271846611356,
          -1.1664577554893631,
          -1.0519494679740462,
          -1.0519494679740462,
          -1.0137800388022737,
          -0.8992717512869568,
          -0.8611023221151844,
          -0.8229328929434121
         ],
         "xaxis": "x",
         "y": [
          -0.43480147996914814,
          1.195704069915157,
          1.0404178270690327,
          1.0015962663575015,
          1.700384359165061,
          0.8463100235113773,
          1.8944921627227165,
          1.0404178270690327,
          1.118060948492095,
          0.6133806592421909,
          1.8556706020111853,
          0.8851315842229084,
          0.8851315842229084,
          1.234525630626688,
          0.4192728556845355,
          1.4286334341843434,
          0.8851315842229084,
          1.622741237741999,
          1.195704069915157,
          0.8851315842229084,
          0.9627747056459706,
          1.622741237741999,
          0.5745590985306598
         ],
         "yaxis": "y"
        },
        {
         "hovertemplate": "color=5<br>Annual Income (k$)=%{x}<br>Spending Score (1-100)=%{y}<extra></extra>",
         "legendgroup": "5",
         "marker": {
          "color": "#EF553B",
          "symbol": "circle"
         },
         "mode": "markers",
         "name": "5",
         "orientation": "v",
         "showlegend": true,
         "type": "scatter",
         "x": [
          -1.7008297638941763,
          -1.6626603347224038,
          -1.6244909055506316,
          -1.5863214763788591,
          -1.5863214763788591,
          -1.5481520472070869,
          -1.5481520472070869,
          -1.5099826180353144,
          -1.4336437596917697,
          -1.3954743305199975,
          -1.357304901348225,
          -1.2427966138329078,
          -1.2427966138329078,
          -1.2046271846611356,
          -1.1664577554893631,
          -1.0519494679740462,
          -1.0519494679740462,
          -1.0137800388022737,
          -0.8992717512869568,
          -0.8229328929434121,
          -0.8229328929434121
         ],
         "xaxis": "x",
         "y": [
          -1.7159129834496736,
          -0.3959799192576171,
          -1.7159129834496736,
          -1.832377665584267,
          -1.405340497757425,
          -1.3665189370458939,
          -1.444162058468956,
          -0.5900877228152724,
          -0.823017087084459,
          -0.5900877228152724,
          -1.7547345441612048,
          -1.405340497757425,
          -0.7065524049498657,
          -0.7453739656613968,
          -1.7935561048727358,
          -1.7935561048727358,
          -1.405340497757425,
          -1.288875815622832,
          -0.9394817692190521,
          -0.5512661621037414,
          -0.86183864779599
         ],
         "yaxis": "y"
        },
        {
         "hovertemplate": "color=1<br>Annual Income (k$)=%{x}<br>Spending Score (1-100)=%{y}<extra></extra>",
         "legendgroup": "1",
         "marker": {
          "color": "#00cc96",
          "symbol": "circle"
         },
         "mode": "markers",
         "name": "1",
         "orientation": "v",
         "showlegend": true,
         "type": "scatter",
         "x": [
          -0.8611023221151844,
          -0.7847634637716397,
          -0.7084246054280949,
          -0.6702551762563226,
          -0.6702551762563226,
          -0.6702551762563226,
          -0.6320857470845502,
          -0.6320857470845502,
          -0.5557468887410055,
          -0.5557468887410055,
          -0.5175774595692332,
          -0.5175774595692332,
          -0.4794080303974609,
          -0.4794080303974609,
          -0.4794080303974609,
          -0.44123860122568853,
          -0.44123860122568853,
          -0.4030691720539161,
          -0.4030691720539161,
          -0.2503914553668267,
          -0.2503914553668267,
          -0.2503914553668267,
          -0.2503914553668267,
          -0.2503914553668267,
          -0.2503914553668267,
          -0.2503914553668267,
          -0.13588316785150967,
          -0.09771373867973732,
          -0.05954430950796496,
          -0.021374880336192604,
          -0.021374880336192604,
          0.01679454883557975,
          0.0549639780073521,
          0.0549639780073521,
          0.0549639780073521,
          0.09313340717912445,
          0.09313340717912445,
          0.09313340717912445,
          0.09313340717912445,
          0.09313340717912445,
          0.16947226552266917,
          0.16947226552266917,
          0.24581112386621387,
          0.24581112386621387,
          0.7038442739274822
         ],
         "xaxis": "x",
         "y": [
          -0.5900877228152724,
          0.18634349141534906,
          0.06987880928075582,
          0.38045129497300445,
          -0.20187211569996172,
          -0.357158358546086,
          -0.007764312142306325,
          -0.16305055498843063,
          -0.16305055498843063,
          0.22516505212688012,
          0.06987880928075582,
          0.34162973426147336,
          0.03105724856922475,
          -0.007764312142306325,
          -0.08540743356536848,
          0.18634349141534906,
          -0.31833679783455493,
          -0.046585872853837404,
          0.22516505212688012,
          -0.12422899427689955,
          0.1087003699922869,
          -0.31833679783455493,
          0.03105724856922475,
          -0.357158358546086,
          -0.24069367641149278,
          -0.16305055498843063,
          0.30280817354994227,
          -0.16305055498843063,
          0.18634349141534906,
          -0.046585872853837404,
          -0.12422899427689955,
          -0.31833679783455493,
          -0.08540743356536848,
          0.34162973426147336,
          0.22516505212688012,
          -0.007764312142306325,
          -0.16305055498843063,
          -0.27951523712302384,
          -0.08540743356536848,
          0.06987880928075582,
          -0.27951523712302384,
          0.34162973426147336,
          -0.27951523712302384,
          0.2639866128384112,
          -0.5900877228152724
         ],
         "yaxis": "y"
        },
        {
         "hovertemplate": "color=3<br>Annual Income (k$)=%{x}<br>Spending Score (1-100)=%{y}<extra></extra>",
         "legendgroup": "3",
         "marker": {
          "color": "#ab63fa",
          "symbol": "circle"
         },
         "mode": "markers",
         "name": "3",
         "orientation": "v",
         "showlegend": true,
         "type": "scatter",
         "x": [
          -0.8229328929434121,
          -0.7847634637716397,
          -0.7847634637716397,
          -0.7847634637716397,
          -0.7084246054280949,
          -0.6702551762563226,
          -0.5557468887410055,
          -0.5557468887410055,
          -0.4794080303974609,
          -0.4794080303974609,
          -0.4794080303974609,
          -0.2503914553668267,
          -0.2503914553668267,
          -0.2503914553668267,
          -0.2503914553668267,
          -0.2503914553668267,
          -0.13588316785150967,
          -0.09771373867973732,
          -0.05954430950796496,
          -0.021374880336192604,
          -0.021374880336192604,
          -0.021374880336192604,
          -0.021374880336192604,
          0.01679454883557975,
          0.0549639780073521,
          0.0549639780073521,
          0.0549639780073521,
          0.09313340717912445,
          0.13130283635089682,
          0.13130283635089682,
          0.16947226552266917,
          0.16947226552266917,
          0.24581112386621387,
          0.24581112386621387,
          0.3221499822097586,
          0.36031941138153095,
          0.43665826972507565,
          0.5129971280686204,
          0.5893359864121651
         ],
         "xaxis": "x",
         "y": [
          0.4192728556845355,
          -0.12422899427689955,
          -0.31833679783455493,
          -0.31833679783455493,
          0.38045129497300445,
          0.14752193070381797,
          0.03105724856922475,
          0.18634349141534906,
          0.34162973426147336,
          0.34162973426147336,
          -0.12422899427689955,
          0.14752193070381797,
          -0.08540743356536848,
          0.06987880928075582,
          0.18634349141534906,
          0.2639866128384112,
          0.18634349141534906,
          0.38045129497300445,
          -0.357158358546086,
          -0.3959799192576171,
          -0.31833679783455493,
          0.06987880928075582,
          -0.007764312142306325,
          -0.046585872853837404,
          -0.357158358546086,
          0.18634349141534906,
          -0.31833679783455493,
          0.14752193070381797,
          -0.31833679783455493,
          -0.16305055498843063,
          -0.08540743356536848,
          -0.007764312142306325,
          0.22516505212688012,
          -0.3959799192576171,
          0.30280817354994227,
          -0.823017087084459,
          -0.6289092835268035,
          -1.5606267406035494,
          -0.3959799192576171
         ],
         "yaxis": "y"
        },
        {
         "hovertemplate": "color=4<br>Annual Income (k$)=%{x}<br>Spending Score (1-100)=%{y}<extra></extra>",
         "legendgroup": "4",
         "marker": {
          "color": "#FFA15A",
          "symbol": "circle"
         },
         "mode": "markers",
         "name": "4",
         "orientation": "v",
         "showlegend": true,
         "type": "scatter",
         "x": [
          0.3221499822097586,
          0.36031941138153095,
          0.3984888405533033,
          0.3984888405533033,
          0.3984888405533033,
          0.43665826972507565,
          0.474827698896848,
          0.474827698896848,
          0.5129971280686204,
          0.5511665572403928,
          0.5893359864121651,
          0.6275054155839375,
          0.6275054155839375,
          0.6656748447557098,
          0.6656748447557098,
          0.6656748447557098,
          0.6656748447557098,
          0.6656748447557098,
          0.6656748447557098,
          0.7038442739274822,
          0.7801831322710269,
          0.9328608489581163,
          0.9710302781298886,
          1.009199707301661,
          1.009199707301661,
          1.009199707301661,
          1.0473691364734332,
          1.0473691364734332,
          1.238216282332295,
          1.3908939990193845,
          1.429063428191157,
          1.4672328573629292,
          1.543571715706474,
          1.6199105740500186,
          1.6199105740500186,
          2.0016048657677423,
          2.2687908699701484,
          2.4978074450007828,
          2.9176711658902788
         ],
         "xaxis": "x",
         "y": [
          1.5839196770304678,
          1.0404178270690327,
          1.7392059198765921,
          0.9627747056459706,
          0.9627747056459706,
          0.8074884627998463,
          1.4674549948958746,
          0.8851315842229084,
          0.8463100235113773,
          1.66156279845353,
          1.4286334341843434,
          1.8168490412996543,
          0.9239531449344395,
          1.5450981163189368,
          1.4674549948958746,
          1.0015962663575015,
          1.5062765556074056,
          1.0792393877805637,
          0.8851315842229084,
          1.2733471913382193,
          1.66156279845353,
          0.9627747056459706,
          1.7392059198765921,
          0.49691597710759766,
          0.9627747056459706,
          1.622741237741999,
          1.3898118734728124,
          0.7298453413767841,
          1.5450981163189368,
          1.3898118734728124,
          1.4674549948958746,
          1.8168490412996543,
          0.691023780665253,
          1.3509903127612812,
          0.7298453413767841,
          1.5839196770304678,
          1.118060948492095,
          0.9239531449344395,
          1.2733471913382193
         ],
         "yaxis": "y"
        },
        {
         "hovertemplate": "color=2<br>Annual Income (k$)=%{x}<br>Spending Score (1-100)=%{y}<extra></extra>",
         "legendgroup": "2",
         "marker": {
          "color": "#19d3f3",
          "symbol": "circle"
         },
         "mode": "markers",
         "name": "2",
         "orientation": "v",
         "showlegend": true,
         "type": "scatter",
         "x": [
          0.3984888405533033,
          0.3984888405533033,
          0.3984888405533033,
          0.474827698896848,
          0.474827698896848,
          0.5511665572403928,
          0.6275054155839375,
          0.6275054155839375,
          0.6656748447557098,
          0.6656748447557098,
          0.6656748447557098,
          0.6656748447557098,
          0.6656748447557098,
          0.6656748447557098,
          0.7801831322710269,
          0.9328608489581163,
          0.9710302781298886,
          1.009199707301661,
          1.009199707301661,
          1.009199707301661,
          1.0473691364734332,
          1.0473691364734332,
          1.238216282332295,
          1.3908939990193845,
          1.429063428191157,
          1.4672328573629292,
          1.543571715706474,
          1.6199105740500186,
          1.6199105740500186,
          2.0016048657677423,
          2.2687908699701484,
          2.4978074450007828,
          2.9176711658902788
         ],
         "xaxis": "x",
         "y": [
          -0.5900877228152724,
          -1.5218051798920182,
          -1.5994483013150804,
          -1.7547345441612048,
          -1.6770914227381426,
          -1.7547345441612048,
          -1.4829836191804873,
          -0.5512661621037414,
          -1.0947680120651764,
          -1.288875815622832,
          -1.1724111334882386,
          -1.327697376334363,
          -1.9100207870073291,
          -1.9100207870073291,
          -1.7547345441612048,
          -0.9394817692190521,
          -1.1724111334882386,
          -0.900660208507521,
          -1.444162058468956,
          -1.5606267406035494,
          -1.444162058468956,
          -1.3665189370458939,
          -1.405340497757425,
          -0.7065524049498657,
          -1.3665189370458939,
          -0.43480147996914814,
          -1.0171248906421142,
          -1.288875815622832,
          -1.0559464513536454,
          -1.6382698620266116,
          -1.327697376334363,
          -0.86183864779599,
          -1.2500542549113007
         ],
         "yaxis": "y"
        },
        {
         "marker": {
          "color": "black",
          "size": 12,
          "symbol": "x"
         },
         "mode": "markers",
         "name": "Centroides",
         "type": "scatter",
         "x": [
          -1.3473476589555888,
          -0.2402129409210206,
          1.0832252669075226,
          -0.1319683546031227,
          0.9915830476839198,
          -1.3082299209845176
         ],
         "y": [
          1.064048342284747,
          -0.04399776880640199,
          -1.2900522265534844,
          -0.08043031039722348,
          1.2395027537948333,
          -1.1964435282144246
         ]
        }
       ],
       "layout": {
        "legend": {
         "title": {
          "text": "color"
         },
         "tracegroupgap": 0
        },
        "template": {
         "data": {
          "bar": [
           {
            "error_x": {
             "color": "#2a3f5f"
            },
            "error_y": {
             "color": "#2a3f5f"
            },
            "marker": {
             "line": {
              "color": "#E5ECF6",
              "width": 0.5
             },
             "pattern": {
              "fillmode": "overlay",
              "size": 10,
              "solidity": 0.2
             }
            },
            "type": "bar"
           }
          ],
          "barpolar": [
           {
            "marker": {
             "line": {
              "color": "#E5ECF6",
              "width": 0.5
             },
             "pattern": {
              "fillmode": "overlay",
              "size": 10,
              "solidity": 0.2
             }
            },
            "type": "barpolar"
           }
          ],
          "carpet": [
           {
            "aaxis": {
             "endlinecolor": "#2a3f5f",
             "gridcolor": "white",
             "linecolor": "white",
             "minorgridcolor": "white",
             "startlinecolor": "#2a3f5f"
            },
            "baxis": {
             "endlinecolor": "#2a3f5f",
             "gridcolor": "white",
             "linecolor": "white",
             "minorgridcolor": "white",
             "startlinecolor": "#2a3f5f"
            },
            "type": "carpet"
           }
          ],
          "choropleth": [
           {
            "colorbar": {
             "outlinewidth": 0,
             "ticks": ""
            },
            "type": "choropleth"
           }
          ],
          "contour": [
           {
            "colorbar": {
             "outlinewidth": 0,
             "ticks": ""
            },
            "colorscale": [
             [
              0,
              "#0d0887"
             ],
             [
              0.1111111111111111,
              "#46039f"
             ],
             [
              0.2222222222222222,
              "#7201a8"
             ],
             [
              0.3333333333333333,
              "#9c179e"
             ],
             [
              0.4444444444444444,
              "#bd3786"
             ],
             [
              0.5555555555555556,
              "#d8576b"
             ],
             [
              0.6666666666666666,
              "#ed7953"
             ],
             [
              0.7777777777777778,
              "#fb9f3a"
             ],
             [
              0.8888888888888888,
              "#fdca26"
             ],
             [
              1,
              "#f0f921"
             ]
            ],
            "type": "contour"
           }
          ],
          "contourcarpet": [
           {
            "colorbar": {
             "outlinewidth": 0,
             "ticks": ""
            },
            "type": "contourcarpet"
           }
          ],
          "heatmap": [
           {
            "colorbar": {
             "outlinewidth": 0,
             "ticks": ""
            },
            "colorscale": [
             [
              0,
              "#0d0887"
             ],
             [
              0.1111111111111111,
              "#46039f"
             ],
             [
              0.2222222222222222,
              "#7201a8"
             ],
             [
              0.3333333333333333,
              "#9c179e"
             ],
             [
              0.4444444444444444,
              "#bd3786"
             ],
             [
              0.5555555555555556,
              "#d8576b"
             ],
             [
              0.6666666666666666,
              "#ed7953"
             ],
             [
              0.7777777777777778,
              "#fb9f3a"
             ],
             [
              0.8888888888888888,
              "#fdca26"
             ],
             [
              1,
              "#f0f921"
             ]
            ],
            "type": "heatmap"
           }
          ],
          "heatmapgl": [
           {
            "colorbar": {
             "outlinewidth": 0,
             "ticks": ""
            },
            "colorscale": [
             [
              0,
              "#0d0887"
             ],
             [
              0.1111111111111111,
              "#46039f"
             ],
             [
              0.2222222222222222,
              "#7201a8"
             ],
             [
              0.3333333333333333,
              "#9c179e"
             ],
             [
              0.4444444444444444,
              "#bd3786"
             ],
             [
              0.5555555555555556,
              "#d8576b"
             ],
             [
              0.6666666666666666,
              "#ed7953"
             ],
             [
              0.7777777777777778,
              "#fb9f3a"
             ],
             [
              0.8888888888888888,
              "#fdca26"
             ],
             [
              1,
              "#f0f921"
             ]
            ],
            "type": "heatmapgl"
           }
          ],
          "histogram": [
           {
            "marker": {
             "pattern": {
              "fillmode": "overlay",
              "size": 10,
              "solidity": 0.2
             }
            },
            "type": "histogram"
           }
          ],
          "histogram2d": [
           {
            "colorbar": {
             "outlinewidth": 0,
             "ticks": ""
            },
            "colorscale": [
             [
              0,
              "#0d0887"
             ],
             [
              0.1111111111111111,
              "#46039f"
             ],
             [
              0.2222222222222222,
              "#7201a8"
             ],
             [
              0.3333333333333333,
              "#9c179e"
             ],
             [
              0.4444444444444444,
              "#bd3786"
             ],
             [
              0.5555555555555556,
              "#d8576b"
             ],
             [
              0.6666666666666666,
              "#ed7953"
             ],
             [
              0.7777777777777778,
              "#fb9f3a"
             ],
             [
              0.8888888888888888,
              "#fdca26"
             ],
             [
              1,
              "#f0f921"
             ]
            ],
            "type": "histogram2d"
           }
          ],
          "histogram2dcontour": [
           {
            "colorbar": {
             "outlinewidth": 0,
             "ticks": ""
            },
            "colorscale": [
             [
              0,
              "#0d0887"
             ],
             [
              0.1111111111111111,
              "#46039f"
             ],
             [
              0.2222222222222222,
              "#7201a8"
             ],
             [
              0.3333333333333333,
              "#9c179e"
             ],
             [
              0.4444444444444444,
              "#bd3786"
             ],
             [
              0.5555555555555556,
              "#d8576b"
             ],
             [
              0.6666666666666666,
              "#ed7953"
             ],
             [
              0.7777777777777778,
              "#fb9f3a"
             ],
             [
              0.8888888888888888,
              "#fdca26"
             ],
             [
              1,
              "#f0f921"
             ]
            ],
            "type": "histogram2dcontour"
           }
          ],
          "mesh3d": [
           {
            "colorbar": {
             "outlinewidth": 0,
             "ticks": ""
            },
            "type": "mesh3d"
           }
          ],
          "parcoords": [
           {
            "line": {
             "colorbar": {
              "outlinewidth": 0,
              "ticks": ""
             }
            },
            "type": "parcoords"
           }
          ],
          "pie": [
           {
            "automargin": true,
            "type": "pie"
           }
          ],
          "scatter": [
           {
            "fillpattern": {
             "fillmode": "overlay",
             "size": 10,
             "solidity": 0.2
            },
            "type": "scatter"
           }
          ],
          "scatter3d": [
           {
            "line": {
             "colorbar": {
              "outlinewidth": 0,
              "ticks": ""
             }
            },
            "marker": {
             "colorbar": {
              "outlinewidth": 0,
              "ticks": ""
             }
            },
            "type": "scatter3d"
           }
          ],
          "scattercarpet": [
           {
            "marker": {
             "colorbar": {
              "outlinewidth": 0,
              "ticks": ""
             }
            },
            "type": "scattercarpet"
           }
          ],
          "scattergeo": [
           {
            "marker": {
             "colorbar": {
              "outlinewidth": 0,
              "ticks": ""
             }
            },
            "type": "scattergeo"
           }
          ],
          "scattergl": [
           {
            "marker": {
             "colorbar": {
              "outlinewidth": 0,
              "ticks": ""
             }
            },
            "type": "scattergl"
           }
          ],
          "scattermapbox": [
           {
            "marker": {
             "colorbar": {
              "outlinewidth": 0,
              "ticks": ""
             }
            },
            "type": "scattermapbox"
           }
          ],
          "scatterpolar": [
           {
            "marker": {
             "colorbar": {
              "outlinewidth": 0,
              "ticks": ""
             }
            },
            "type": "scatterpolar"
           }
          ],
          "scatterpolargl": [
           {
            "marker": {
             "colorbar": {
              "outlinewidth": 0,
              "ticks": ""
             }
            },
            "type": "scatterpolargl"
           }
          ],
          "scatterternary": [
           {
            "marker": {
             "colorbar": {
              "outlinewidth": 0,
              "ticks": ""
             }
            },
            "type": "scatterternary"
           }
          ],
          "surface": [
           {
            "colorbar": {
             "outlinewidth": 0,
             "ticks": ""
            },
            "colorscale": [
             [
              0,
              "#0d0887"
             ],
             [
              0.1111111111111111,
              "#46039f"
             ],
             [
              0.2222222222222222,
              "#7201a8"
             ],
             [
              0.3333333333333333,
              "#9c179e"
             ],
             [
              0.4444444444444444,
              "#bd3786"
             ],
             [
              0.5555555555555556,
              "#d8576b"
             ],
             [
              0.6666666666666666,
              "#ed7953"
             ],
             [
              0.7777777777777778,
              "#fb9f3a"
             ],
             [
              0.8888888888888888,
              "#fdca26"
             ],
             [
              1,
              "#f0f921"
             ]
            ],
            "type": "surface"
           }
          ],
          "table": [
           {
            "cells": {
             "fill": {
              "color": "#EBF0F8"
             },
             "line": {
              "color": "white"
             }
            },
            "header": {
             "fill": {
              "color": "#C8D4E3"
             },
             "line": {
              "color": "white"
             }
            },
            "type": "table"
           }
          ]
         },
         "layout": {
          "annotationdefaults": {
           "arrowcolor": "#2a3f5f",
           "arrowhead": 0,
           "arrowwidth": 1
          },
          "autotypenumbers": "strict",
          "coloraxis": {
           "colorbar": {
            "outlinewidth": 0,
            "ticks": ""
           }
          },
          "colorscale": {
           "diverging": [
            [
             0,
             "#8e0152"
            ],
            [
             0.1,
             "#c51b7d"
            ],
            [
             0.2,
             "#de77ae"
            ],
            [
             0.3,
             "#f1b6da"
            ],
            [
             0.4,
             "#fde0ef"
            ],
            [
             0.5,
             "#f7f7f7"
            ],
            [
             0.6,
             "#e6f5d0"
            ],
            [
             0.7,
             "#b8e186"
            ],
            [
             0.8,
             "#7fbc41"
            ],
            [
             0.9,
             "#4d9221"
            ],
            [
             1,
             "#276419"
            ]
           ],
           "sequential": [
            [
             0,
             "#0d0887"
            ],
            [
             0.1111111111111111,
             "#46039f"
            ],
            [
             0.2222222222222222,
             "#7201a8"
            ],
            [
             0.3333333333333333,
             "#9c179e"
            ],
            [
             0.4444444444444444,
             "#bd3786"
            ],
            [
             0.5555555555555556,
             "#d8576b"
            ],
            [
             0.6666666666666666,
             "#ed7953"
            ],
            [
             0.7777777777777778,
             "#fb9f3a"
            ],
            [
             0.8888888888888888,
             "#fdca26"
            ],
            [
             1,
             "#f0f921"
            ]
           ],
           "sequentialminus": [
            [
             0,
             "#0d0887"
            ],
            [
             0.1111111111111111,
             "#46039f"
            ],
            [
             0.2222222222222222,
             "#7201a8"
            ],
            [
             0.3333333333333333,
             "#9c179e"
            ],
            [
             0.4444444444444444,
             "#bd3786"
            ],
            [
             0.5555555555555556,
             "#d8576b"
            ],
            [
             0.6666666666666666,
             "#ed7953"
            ],
            [
             0.7777777777777778,
             "#fb9f3a"
            ],
            [
             0.8888888888888888,
             "#fdca26"
            ],
            [
             1,
             "#f0f921"
            ]
           ]
          },
          "colorway": [
           "#636efa",
           "#EF553B",
           "#00cc96",
           "#ab63fa",
           "#FFA15A",
           "#19d3f3",
           "#FF6692",
           "#B6E880",
           "#FF97FF",
           "#FECB52"
          ],
          "font": {
           "color": "#2a3f5f"
          },
          "geo": {
           "bgcolor": "white",
           "lakecolor": "white",
           "landcolor": "#E5ECF6",
           "showlakes": true,
           "showland": true,
           "subunitcolor": "white"
          },
          "hoverlabel": {
           "align": "left"
          },
          "hovermode": "closest",
          "mapbox": {
           "style": "light"
          },
          "paper_bgcolor": "white",
          "plot_bgcolor": "#E5ECF6",
          "polar": {
           "angularaxis": {
            "gridcolor": "white",
            "linecolor": "white",
            "ticks": ""
           },
           "bgcolor": "#E5ECF6",
           "radialaxis": {
            "gridcolor": "white",
            "linecolor": "white",
            "ticks": ""
           }
          },
          "scene": {
           "xaxis": {
            "backgroundcolor": "#E5ECF6",
            "gridcolor": "white",
            "gridwidth": 2,
            "linecolor": "white",
            "showbackground": true,
            "ticks": "",
            "zerolinecolor": "white"
           },
           "yaxis": {
            "backgroundcolor": "#E5ECF6",
            "gridcolor": "white",
            "gridwidth": 2,
            "linecolor": "white",
            "showbackground": true,
            "ticks": "",
            "zerolinecolor": "white"
           },
           "zaxis": {
            "backgroundcolor": "#E5ECF6",
            "gridcolor": "white",
            "gridwidth": 2,
            "linecolor": "white",
            "showbackground": true,
            "ticks": "",
            "zerolinecolor": "white"
           }
          },
          "shapedefaults": {
           "line": {
            "color": "#2a3f5f"
           }
          },
          "ternary": {
           "aaxis": {
            "gridcolor": "white",
            "linecolor": "white",
            "ticks": ""
           },
           "baxis": {
            "gridcolor": "white",
            "linecolor": "white",
            "ticks": ""
           },
           "bgcolor": "#E5ECF6",
           "caxis": {
            "gridcolor": "white",
            "linecolor": "white",
            "ticks": ""
           }
          },
          "title": {
           "x": 0.05
          },
          "xaxis": {
           "automargin": true,
           "gridcolor": "white",
           "linecolor": "white",
           "ticks": "",
           "title": {
            "standoff": 15
           },
           "zerolinecolor": "white",
           "zerolinewidth": 2
          },
          "yaxis": {
           "automargin": true,
           "gridcolor": "white",
           "linecolor": "white",
           "ticks": "",
           "title": {
            "standoff": 15
           },
           "zerolinecolor": "white",
           "zerolinewidth": 2
          }
         }
        },
        "title": {
         "text": "Segmentação dos Clientes com K=6 Clusters"
        },
        "xaxis": {
         "anchor": "y",
         "domain": [
          0,
          1
         ],
         "title": {
          "text": "Annual Income (k$)"
         }
        },
        "yaxis": {
         "anchor": "x",
         "domain": [
          0,
          1
         ],
         "title": {
          "text": "Spending Score (1-100)"
         }
        }
       }
      }
     },
     "metadata": {},
     "output_type": "display_data"
    }
   ],
   "source": [
    "kmeans_6 = KMeans(n_clusters=6, random_state=42)\n",
    "df['Cluster_6'] = kmeans_6.fit_predict(df[['Age', 'Annual Income (k$)', 'Spending Score (1-100)']])\n",
    "centroids_6 = kmeans_6.cluster_centers_\n",
    "\n",
    "df_centroids_6 = pd.DataFrame(centroids_6, columns=['Age', 'Annual Income (k$)', 'Spending Score (1-100)'])\n",
    "\n",
    "fig_6 = px.scatter(df, x='Annual Income (k$)', y='Spending Score (1-100)', \n",
    "                   color=df['Cluster_6'].astype(str), \n",
    "                   title=\"Segmentação dos Clientes com K=6 Clusters\")\n",
    "\n",
    "fig_6.add_scatter(x=df_centroids_6['Annual Income (k$)'], y=df_centroids_6['Spending Score (1-100)'], \n",
    "                  mode='markers', marker=dict(size=12, color='black', symbol='x'), name=\"Centroides\")\n",
    "fig_6.show()"
   ]
  },
  {
   "cell_type": "markdown",
   "metadata": {},
   "source": [
    "A segmentação com K=6 apresenta uma divisão mais detalhada dos clientes, identificando grupos com padrões distintos de comportamento.  \n",
    "Os clusters estão bem definidos, mas alguns grupos, como os clusters 2 e 4, mostram maior dispersão, indicando clientes com características mais variadas dentro desses segmentos.   \n",
    "A presença dos centroides reforça a separação entre os agrupamentos, sugerindo que K=6 pode capturar nuances mais refinadas na segmentação."
   ]
  },
  {
   "cell_type": "markdown",
   "metadata": {},
   "source": [
    "**Silhouette Score**"
   ]
  },
  {
   "cell_type": "code",
   "execution_count": 23,
   "metadata": {},
   "outputs": [
    {
     "name": "stdout",
     "output_type": "stream",
     "text": [
      "Silhouette Score para K=4: 0.4040\n",
      "Silhouette Score para K=6: 0.4284\n"
     ]
    }
   ],
   "source": [
    "score_4 = silhouette_score(df[['Age', 'Annual Income (k$)', 'Spending Score (1-100)']], df['Cluster_4'])\n",
    "score_6 = silhouette_score(df[['Age', 'Annual Income (k$)', 'Spending Score (1-100)']], df['Cluster_6'])\n",
    "\n",
    "print(f\"Silhouette Score para K=4: {score_4:.4f}\")\n",
    "print(f\"Silhouette Score para K=6: {score_6:.4f}\")"
   ]
  },
  {
   "cell_type": "markdown",
   "metadata": {},
   "source": [
    "O Silhouette Score indica a qualidade da separação dos clusters, sendo um fator essencial na escolha do número ideal de agrupamentos.\n",
    "\n",
    "O valor de 0.4311 para K=6 sugere que os clusters estão razoavelmente bem definidos, com uma separação mais clara entre os grupos.  \n",
    "Já o score de 0.4040 para K=4 mostra uma segmentação coerente, mas com um leve aumento na sobreposição entre alguns clusters.  \n",
    "\n",
    "A diferença entre os valores não é extrema, mas reforça a ideia de que K=6 pode capturar padrões mais refinados na segmentação, permitindo uma melhor discriminação entre grupos com características distintas.\n"
   ]
  },
  {
   "cell_type": "code",
   "execution_count": 24,
   "metadata": {},
   "outputs": [],
   "source": [
    "df.drop(columns=['Cluster_4'], inplace=True)"
   ]
  },
  {
   "cell_type": "code",
   "execution_count": 25,
   "metadata": {},
   "outputs": [],
   "source": [
    "df.rename(columns={'Cluster_6': 'Clusters'}, inplace=True)"
   ]
  },
  {
   "cell_type": "markdown",
   "metadata": {},
   "source": [
    "Invertendo a padronização para visualizar os clusters com os dados originais "
   ]
  },
  {
   "cell_type": "code",
   "execution_count": 26,
   "metadata": {},
   "outputs": [
    {
     "data": {
      "text/html": [
       "<div>\n",
       "<style scoped>\n",
       "    .dataframe tbody tr th:only-of-type {\n",
       "        vertical-align: middle;\n",
       "    }\n",
       "\n",
       "    .dataframe tbody tr th {\n",
       "        vertical-align: top;\n",
       "    }\n",
       "\n",
       "    .dataframe thead th {\n",
       "        text-align: right;\n",
       "    }\n",
       "</style>\n",
       "<table border=\"1\" class=\"dataframe\">\n",
       "  <thead>\n",
       "    <tr style=\"text-align: right;\">\n",
       "      <th></th>\n",
       "      <th>Gender</th>\n",
       "      <th>Age</th>\n",
       "      <th>Annual Income (k$)</th>\n",
       "      <th>Spending Score (1-100)</th>\n",
       "      <th>Clusters</th>\n",
       "    </tr>\n",
       "  </thead>\n",
       "  <tbody>\n",
       "    <tr>\n",
       "      <th>0</th>\n",
       "      <td>0</td>\n",
       "      <td>19.0</td>\n",
       "      <td>15.0</td>\n",
       "      <td>39.0</td>\n",
       "      <td>0</td>\n",
       "    </tr>\n",
       "    <tr>\n",
       "      <th>1</th>\n",
       "      <td>0</td>\n",
       "      <td>21.0</td>\n",
       "      <td>15.0</td>\n",
       "      <td>81.0</td>\n",
       "      <td>0</td>\n",
       "    </tr>\n",
       "    <tr>\n",
       "      <th>2</th>\n",
       "      <td>1</td>\n",
       "      <td>20.0</td>\n",
       "      <td>16.0</td>\n",
       "      <td>6.0</td>\n",
       "      <td>5</td>\n",
       "    </tr>\n",
       "    <tr>\n",
       "      <th>3</th>\n",
       "      <td>1</td>\n",
       "      <td>23.0</td>\n",
       "      <td>16.0</td>\n",
       "      <td>77.0</td>\n",
       "      <td>0</td>\n",
       "    </tr>\n",
       "    <tr>\n",
       "      <th>4</th>\n",
       "      <td>1</td>\n",
       "      <td>31.0</td>\n",
       "      <td>17.0</td>\n",
       "      <td>40.0</td>\n",
       "      <td>5</td>\n",
       "    </tr>\n",
       "  </tbody>\n",
       "</table>\n",
       "</div>"
      ],
      "text/plain": [
       "   Gender   Age  Annual Income (k$)  Spending Score (1-100)  Clusters\n",
       "0       0  19.0                15.0                    39.0         0\n",
       "1       0  21.0                15.0                    81.0         0\n",
       "2       1  20.0                16.0                     6.0         5\n",
       "3       1  23.0                16.0                    77.0         0\n",
       "4       1  31.0                17.0                    40.0         5"
      ]
     },
     "execution_count": 26,
     "metadata": {},
     "output_type": "execute_result"
    }
   ],
   "source": [
    "df[padronizar_col] = scaler.inverse_transform(df[padronizar_col])\n",
    "df.head()"
   ]
  },
  {
   "cell_type": "markdown",
   "metadata": {},
   "source": [
    "# Visualizações finais"
   ]
  },
  {
   "cell_type": "code",
   "execution_count": 27,
   "metadata": {},
   "outputs": [
    {
     "name": "stderr",
     "output_type": "stream",
     "text": [
      "c:\\Users\\Ana Paula\\anaconda3\\Lib\\site-packages\\seaborn\\_oldcore.py:1119: FutureWarning:\n",
      "\n",
      "use_inf_as_na option is deprecated and will be removed in a future version. Convert inf values to NaN before operating instead.\n",
      "\n",
      "c:\\Users\\Ana Paula\\anaconda3\\Lib\\site-packages\\seaborn\\_oldcore.py:1119: FutureWarning:\n",
      "\n",
      "use_inf_as_na option is deprecated and will be removed in a future version. Convert inf values to NaN before operating instead.\n",
      "\n",
      "c:\\Users\\Ana Paula\\anaconda3\\Lib\\site-packages\\seaborn\\_oldcore.py:1119: FutureWarning:\n",
      "\n",
      "use_inf_as_na option is deprecated and will be removed in a future version. Convert inf values to NaN before operating instead.\n",
      "\n",
      "c:\\Users\\Ana Paula\\anaconda3\\Lib\\site-packages\\seaborn\\_oldcore.py:1119: FutureWarning:\n",
      "\n",
      "use_inf_as_na option is deprecated and will be removed in a future version. Convert inf values to NaN before operating instead.\n",
      "\n"
     ]
    },
    {
     "data": {
      "text/plain": [
       "<seaborn.axisgrid.PairGrid at 0x1dcdc04cb90>"
      ]
     },
     "execution_count": 27,
     "metadata": {},
     "output_type": "execute_result"
    },
    {
     "data": {
      "image/png": "[encoded data removed]",
      "text/plain": [
       "<Figure size 1067.49x1000 with 20 Axes>"
      ]
     },
     "metadata": {},
     "output_type": "display_data"
    }
   ],
   "source": [
    "df['Clusters'] = kmeans_6.labels_.astype('str')\n",
    "sns.pairplot(df, hue='Clusters')"
   ]
  },
  {
   "cell_type": "markdown",
   "metadata": {},
   "source": [
    "A análise dos clusters revela padrões claros na segmentação dos clientes. Observamos que diferentes combinações de variáveis favorecem o agrupamento de certos perfis, destacando tendências de comportamento.  \n",
    "A relação entre idade e renda se mostra influente, indicando que faixas etárias distintas possuem padrões de consumo específicos.  \n",
    "Além disso, o Spending Score varia significativamente entre os grupos, evidenciando perfis de compra diversificados e oportunidades para estratégias personalizadas. \n"
   ]
  },
  {
   "cell_type": "code",
   "execution_count": 29,
   "metadata": {},
   "outputs": [
    {
     "data": {
      "image/png": "[encoded data removed]",
      "text/plain": [
       "<Figure size 1200x500 with 2 Axes>"
      ]
     },
     "metadata": {},
     "output_type": "display_data"
    }
   ],
   "source": [
    "proporcao_genero = df.groupby('Clusters')['Gender'].value_counts(normalize=True).unstack() * 100\n",
    "media_idade = df.groupby('Clusters')['Age'].mean()\n",
    "\n",
    "fig, ax = plt.subplots(1, 2, figsize=(12,5))\n",
    "\n",
    "proporcao_genero.plot(kind='bar', ax=ax[0], colormap='coolwarm')\n",
    "ax[0].set_title(\"Proporção de Gênero por Clusters\")\n",
    "ax[0].set_ylabel(\"Porcentagem (%)\")\n",
    "\n",
    "media_idade.plot(kind='bar', ax=ax[1], color='darkblue')\n",
    "ax[1].set_title(\"Média de Idade por Clusters\")\n",
    "ax[1].set_ylabel(\"Idade Média\")\n",
    "\n",
    "plt.tight_layout()\n",
    "plt.show()"
   ]
  },
  {
   "cell_type": "markdown",
   "metadata": {},
   "source": [
    "Os gráficos revelam insights importantes sobre a distribuição demográfica dos clusters. \n",
    "\n",
    "- Proporção de Gênero por Clusters → Alguns grupos apresentam uma predominância clara de um dos gêneros, sugerindo que certos perfis de consumo podem estar mais associados a um público específico.  \n",
    "\n",
    "- Média de Idade por Clusters → A idade média varia significativamente entre os clusters, com alguns grupos concentrando clientes mais jovens e outros refletindo um perfil mais maduro, o que pode influenciar padrões de compra e preferências de consumo.\n"
   ]
  },
  {
   "cell_type": "markdown",
   "metadata": {},
   "source": [
    "# **Aplicações Comerciais e Estratégias de Segmentação**  \n",
    "\n",
    "A análise dos clusters revelou padrões distintos de comportamento entre os clientes, permitindo uma segmentação mais eficiente e aplicável em estratégias comerciais.  "
   ]
  },
  {
   "cell_type": "markdown",
   "metadata": {},
   "source": [
    "## **1️⃣ Perfis de Clientes e Estratégias de Marketing**  \n",
    "\n",
    "Cada cluster representa um perfil específico de consumidor, possibilitando **personalização de ofertas**, campanhas direcionadas e otimização da experiência do cliente.  \n",
    "\n",
    "- **Cluster 0 – Consumidores Econômicos** 💰  \n",
    "  📌 Foco em **preços acessíveis**, descontos e fidelização para maximizar o engajamento.  \n",
    "  📌 Programas de **cashback** e cupons promocionais incentivam compras recorrentes.  \n",
    "\n",
    "- **Cluster 1 – Jovens Impulsivos** 🛍️  \n",
    "  📌 Estratégias de **marketing digital** e campanhas baseadas em tendências.  \n",
    "  📌 **Gamificação e experiências exclusivas** podem aumentar a retenção.  \n",
    "\n",
    "- **Cluster 2 – Clientes Tradicionais** 🏡  \n",
    "  📌 Foco na **credibilidade e qualidade do produto**.  \n",
    "  📌 **Recomendações personalizadas** e atendimento próximo reforçam a relação com a marca.  \n",
    "\n",
    "- **Cluster 3 – Consumidores Premium** 🔝  \n",
    "  📌 Ofertas **exclusivas e personalizadas** para esse público de alto valor.  \n",
    "  📌 **Eventos privados e programas VIP** aumentam a percepção de exclusividade.  \n",
    "\n",
    "- **Cluster 4 – Clientes Conservadores** 🛑  \n",
    "  📌 Estratégias focadas em **confiança e atendimento diferenciado**.  \n",
    "  📌 **Produtos essenciais e benefícios** destacam a solidez da marca.  \n",
    "\n",
    "- **Cluster 5 – Compradores Variáveis** 🔄  \n",
    "  📌 Campanhas adaptáveis com **promoções sazonais e estratégias de retenção**.  \n",
    "  📌 **Automação de marketing** para detectar períodos de alta e baixa atividade.  "
   ]
  },
  {
   "cell_type": "markdown",
   "metadata": {},
   "source": [
    "\n",
    "## **2️⃣ Otimização de Investimentos em Marketing**  \n",
    "\n",
    "📊 **Segmentação eficiente** permite **reduzir custos com campanhas não direcionadas** e aumentar o retorno sobre investimento (**ROI**).  \n",
    "📌 Estratégias de **publicidade personalizada** maximizam a conversão e engajamento.   \n"
   ]
  },
  {
   "cell_type": "markdown",
   "metadata": {},
   "source": [
    "## **3️⃣ Aplicações em Experiência do Cliente**  \n",
    "\n",
    "🎯 **Personalização no atendimento** e programas de fidelidade baseados no perfil do cliente.  \n",
    "🔍 **Inteligência de dados** para prever comportamentos de consumo e adaptar ofertas.  \n",
    "🚀 **Expansão de estratégias digitais**, conectando os clusters às preferências de compra online. "
   ]
  }
 ],
 "metadata": {
  "colab": {
   "provenance": []
  },
  "kernelspec": {
   "display_name": "base",
   "language": "python",
   "name": "python3"
  },
  "language_info": {
   "codemirror_mode": {
    "name": "ipython",
    "version": 3
   },
   "file_extension": ".py",
   "mimetype": "text/x-python",
   "name": "python",
   "nbconvert_exporter": "python",
   "pygments_lexer": "ipython3",
   "version": "3.11.7"
  }
 },
 "nbformat": 4,
 "nbformat_minor": 0
}
